{
 "cells": [
  {
   "cell_type": "markdown",
   "metadata": {},
   "source": [
    "# numpy fancy indexing\n",
    "\n",
    "Numpy permet de manipuler des sous-ensembles d'un tableau en lecture/écriture.\n",
    "\n",
    "Il y a 4 grandes méthodes :\n",
    "  * scalaire\n",
    "  * par *'slice'*\n",
    "  * par condition booléene\n",
    "  * par liste d'index\n",
    "\n"
   ]
  },
  {
   "cell_type": "code",
   "execution_count": null,
   "metadata": {},
   "outputs": [],
   "source": [
    "import numpy as np"
   ]
  },
  {
   "cell_type": "markdown",
   "metadata": {},
   "source": [
    "# reshape\n",
    "\n",
    "Avec la fonction numpy `arange` (équivalent de `range`), on peut créer un tableau à une dimension :"
   ]
  },
  {
   "cell_type": "code",
   "execution_count": null,
   "metadata": {},
   "outputs": [],
   "source": [
    "a = np.arange(24) \n",
    "print(a)\n",
    "print(a.shape)\n"
   ]
  },
  {
   "cell_type": "markdown",
   "metadata": {},
   "source": [
    "La méthode reshape permet de réarranger les valeurs de ce tableau sur plusieurs dimension.\n",
    "Par exemple, si on veut 6 lignes de 4 colonnes :"
   ]
  },
  {
   "cell_type": "code",
   "execution_count": null,
   "metadata": {},
   "outputs": [],
   "source": [
    "\n",
    "a2 = a.reshape(6,4) \n",
    "print(a2)\n"
   ]
  },
  {
   "cell_type": "markdown",
   "metadata": {},
   "source": [
    "Mais on pourrait aussi envisager plus de dimensions.\n",
    "Par exemple, 4 piles de 2 lignes et 3 colonnes :"
   ]
  },
  {
   "cell_type": "code",
   "execution_count": null,
   "metadata": {},
   "outputs": [],
   "source": [
    "a3 = a.reshape(4,2,3)\n",
    "print(a3.shape)\n",
    "print(a3)"
   ]
  },
  {
   "cell_type": "markdown",
   "metadata": {},
   "source": [
    "Avec dimension joker= -1\n",
    "\n",
    "-> la dimension \"joker\" vaut le \"reste\" des dimensions restantes"
   ]
  },
  {
   "cell_type": "code",
   "execution_count": null,
   "metadata": {},
   "outputs": [],
   "source": [
    "a3 = a.reshape(4,-1,3)\n",
    "print(a3.shape) ### la dimension par default vaut ici (24/4)/3 = 2\n",
    "\n"
   ]
  },
  {
   "cell_type": "markdown",
   "metadata": {},
   "source": [
    "# Lecture/écriture d'un seul élément\n",
    "\n",
    "Pour un tableau à deux dimensions comme celui-ci :"
   ]
  },
  {
   "cell_type": "code",
   "execution_count": null,
   "metadata": {},
   "outputs": [],
   "source": [
    "a = np.arange(12).reshape(4,3)\n",
    "print (a)"
   ]
  },
  {
   "cell_type": "markdown",
   "metadata": {},
   "source": [
    "L'accès par index se fait à l'aide de [ligne, colonne] où l'indexation commence à zéro."
   ]
  },
  {
   "cell_type": "code",
   "execution_count": null,
   "metadata": {},
   "outputs": [],
   "source": [
    "e = a[1,1]\n",
    "print(e)\n"
   ]
  },
  {
   "cell_type": "code",
   "execution_count": null,
   "metadata": {},
   "outputs": [],
   "source": [
    "a[1,2] = 1000\n",
    "a"
   ]
  },
  {
   "cell_type": "markdown",
   "metadata": {},
   "source": [
    "# Par slice"
   ]
  },
  {
   "cell_type": "markdown",
   "metadata": {},
   "source": [
    "![title](img/slice.jpeg)"
   ]
  },
  {
   "cell_type": "code",
   "execution_count": null,
   "metadata": {},
   "outputs": [],
   "source": [
    "# Comme on est fainéant, on a utilisé la règle du broadcast \n",
    "# https://docs.scipy.org/doc/numpy/user/basics.broadcasting.html\n",
    "# pour construire ce tableau mais vous n'avez pas besoin de \n",
    "# comprende ça à ce stade du cours\n",
    "b = np.arange(6).reshape(1,6) \n",
    "print(b)\n",
    "c = 10*np.arange(6).reshape(6, 1)\n",
    "print(c)\n",
    "a = b + c\n",
    "print(a)"
   ]
  },
  {
   "cell_type": "code",
   "execution_count": null,
   "metadata": {},
   "outputs": [],
   "source": [
    "a2 = a[3:, 0:5:2]   # array[start:stop:step]   avec stop exclu\n",
    "a2"
   ]
  },
  {
   "cell_type": "markdown",
   "metadata": {},
   "source": [
    "# Par masque booléen\n",
    "\n",
    "Par exemple, si on a un signal aléatoire dont on ne veut garder que les valeurs positives"
   ]
  },
  {
   "cell_type": "code",
   "execution_count": null,
   "metadata": {},
   "outputs": [],
   "source": [
    "a = np.random.randn(15)\n",
    "a"
   ]
  },
  {
   "cell_type": "markdown",
   "metadata": {},
   "source": [
    "On peut créer un vecteur de booléens, et l'utiliser ensuite pour sélectioner un sous-ensemble."
   ]
  },
  {
   "cell_type": "code",
   "execution_count": null,
   "metadata": {},
   "outputs": [],
   "source": [
    "keep = (a>0.)\n",
    "print(keep)\n",
    "not_keep = ~keep # not en boolean (existe aussi np.logical_not)\n",
    "print(not_keep)\n"
   ]
  },
  {
   "cell_type": "code",
   "execution_count": null,
   "metadata": {},
   "outputs": [],
   "source": [
    "print(a[keep])"
   ]
  },
  {
   "cell_type": "markdown",
   "metadata": {},
   "source": [
    "# Selection explicite d'une liste"
   ]
  },
  {
   "cell_type": "code",
   "execution_count": null,
   "metadata": {},
   "outputs": [],
   "source": [
    "a = np.arange(7)*10\n",
    "a"
   ]
  },
  {
   "cell_type": "code",
   "execution_count": null,
   "metadata": {},
   "outputs": [],
   "source": [
    "l = [2, 4, 0]\n",
    "a2 = a[l]\n",
    "a2"
   ]
  },
  {
   "cell_type": "markdown",
   "metadata": {},
   "source": [
    "# Attention une slice pointe sur le même tableau!!\n",
    "\n",
    "Un tableau issu d'un même tableau est une *'view'*.\n",
    "\n"
   ]
  },
  {
   "cell_type": "code",
   "execution_count": null,
   "metadata": {},
   "outputs": [],
   "source": [
    "a = np.arange(10)\n",
    "a"
   ]
  },
  {
   "cell_type": "code",
   "execution_count": null,
   "metadata": {},
   "outputs": [],
   "source": [
    "a2 = a[2:-2]\n",
    "print(a2)\n",
    "a2[0:6] = np.arange(6)*-10\n",
    "a2"
   ]
  },
  {
   "cell_type": "code",
   "execution_count": null,
   "metadata": {},
   "outputs": [],
   "source": [
    "a\n"
   ]
  },
  {
   "cell_type": "markdown",
   "metadata": {},
   "source": [
    "\n",
    "Sinon il faut faire une copie explicite."
   ]
  },
  {
   "cell_type": "code",
   "execution_count": null,
   "metadata": {},
   "outputs": [],
   "source": [
    "a = np.arange(10)\n",
    "a2 = a[2:-2].copy()\n",
    "a2[0:6] = np.arange(6)*-10\n",
    "a2"
   ]
  },
  {
   "cell_type": "markdown",
   "metadata": {
    "tags": []
   },
   "source": [
    "# Exercice 1\n",
    "\n",
    "A partir du numpy array suivant\n",
    "```\n",
    "table = np.array([[1, 10,  1, 11],\n",
    "                  [2, 21,  2, 20],\n",
    "                  [3, 30, 3, 31],\n",
    "                  [4, 41, 4, 40]])\n",
    "```\n",
    "\n",
    "créer :\n",
    "* table_0 : avec tous les élément plus grand que 10. Utiliser des slices.\n",
    "* table_1 : tous les élément plus petit que 10 et impaires. Utiliser des slices.\n",
    "* table_2 : tous les élément plus grand que 10 et impaires. Peut on utiliser des slices ?"
   ]
  },
  {
   "cell_type": "code",
   "execution_count": null,
   "metadata": {},
   "outputs": [],
   "source": [
    "#my_table = np.random.randint(0,4,(4,4))\n",
    "table = np.array([[1, 10,  1, 11],\n",
    "                 [2, 21,  2, 20],\n",
    "                 [3, 30, 3, 31],\n",
    "                 [4, 41, 4, 40]])\n",
    "print(table)\n"
   ]
  },
  {
   "cell_type": "markdown",
   "metadata": {},
   "source": [
    "# Solution 1"
   ]
  },
  {
   "cell_type": "code",
   "execution_count": null,
   "metadata": {},
   "outputs": [],
   "source": []
  },
  {
   "cell_type": "code",
   "execution_count": null,
   "metadata": {},
   "outputs": [],
   "source": []
  },
  {
   "cell_type": "code",
   "execution_count": null,
   "metadata": {},
   "outputs": [],
   "source": []
  },
  {
   "cell_type": "markdown",
   "metadata": {
    "tags": []
   },
   "source": [
    "# Exercice 2\n",
    "Voici un vecteur\n",
    "a = np.random.randn(5000)\n",
    "\n",
    "\n",
    "Créer un vecteur b qui enlève les déviants.\n",
    "\n",
    "- \\> M + 2.5*std\n",
    "- < M - 2.5*std\n",
    "\n",
    "note : np.mean(a) donne la moyenne de a et np.std(a) donne l'écart-type de a\n",
    "\n",
    "\n",
    "\n"
   ]
  },
  {
   "cell_type": "markdown",
   "metadata": {},
   "source": [
    "# Solution 2"
   ]
  },
  {
   "cell_type": "code",
   "execution_count": null,
   "metadata": {},
   "outputs": [],
   "source": []
  },
  {
   "cell_type": "markdown",
   "metadata": {},
   "source": [
    "# nan = not a number"
   ]
  },
  {
   "cell_type": "code",
   "execution_count": null,
   "metadata": {},
   "outputs": [],
   "source": [
    "a = np.arange(5, dtype='float64')\n",
    "a[2] = np.nan\n",
    "a"
   ]
  },
  {
   "cell_type": "markdown",
   "metadata": {},
   "source": [
    "# inf : infini\n",
    "\n",
    "Numpy considère les nombres trop grands (ou trop petits) comme des valeurs infinies et permet de les étiqueter en tant que tels et même de réaliser quelques opérations avec ces valeurs :"
   ]
  },
  {
   "cell_type": "code",
   "execution_count": null,
   "metadata": {},
   "outputs": [],
   "source": [
    "print('infini :', np.inf)\n",
    "print('moins l\\'infini :', -np.inf)\n",
    "print('overflow :', np.exp(1e42))\n",
    "# on peut comparer des valeurs standard à np.inf\n",
    "print('comparaison 0 < inf :', 0 < np.inf)\n",
    "print('comparaison 0 > inf :', 0 > np.inf)\n",
    "# attention en cas d'overflow les comparaisons sont fausses\n",
    "print('comparaison avec overflow :', np.exp(1e42) == np.exp(1e40))"
   ]
  },
  {
   "cell_type": "markdown",
   "metadata": {},
   "source": [
    "# test : np.isinf et np.isnan\n",
    "\n",
    "\n"
   ]
  },
  {
   "cell_type": "code",
   "execution_count": null,
   "metadata": {},
   "outputs": [],
   "source": [
    "a = np.array([-1,0,1])/0.0 \n",
    "print(a)"
   ]
  },
  {
   "cell_type": "code",
   "execution_count": null,
   "metadata": {},
   "outputs": [],
   "source": [
    "np.isinf(a)"
   ]
  },
  {
   "cell_type": "code",
   "execution_count": null,
   "metadata": {},
   "outputs": [],
   "source": [
    "np.isnan(a)"
   ]
  }
 ],
 "metadata": {
  "kernelspec": {
   "display_name": "formPy2025",
   "language": "python",
   "name": "python3"
  },
  "language_info": {
   "codemirror_mode": {
    "name": "ipython",
    "version": 3
   },
   "file_extension": ".py",
   "mimetype": "text/x-python",
   "name": "python",
   "nbconvert_exporter": "python",
   "pygments_lexer": "ipython3",
   "version": "3.12.3"
  }
 },
 "nbformat": 4,
 "nbformat_minor": 4
}
