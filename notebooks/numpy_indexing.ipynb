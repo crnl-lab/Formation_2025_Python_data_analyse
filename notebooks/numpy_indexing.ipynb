{
 "cells": [
  {
   "cell_type": "markdown",
   "metadata": {},
   "source": [
    "# numpy fancy indexing\n",
    "\n",
    "Numpy permet de manipuler des sous-ensembles d'un tableau en lecture/écriture.\n",
    "\n",
    "Il y a 4 grandes méthodes :\n",
    "  * scalaire\n",
    "  * par *'slice'*\n",
    "  * par condition booléene\n",
    "  * par liste d'index\n",
    "\n"
   ]
  },
  {
   "cell_type": "code",
   "execution_count": 2,
   "metadata": {},
   "outputs": [],
   "source": [
    "import numpy as np"
   ]
  },
  {
   "cell_type": "markdown",
   "metadata": {},
   "source": [
    "# reshape\n",
    "\n",
    "Avec la fonction numpy `arange` (équivalent de `range`), on peut créer un tableau à une dimension :"
   ]
  },
  {
   "cell_type": "code",
   "execution_count": 16,
   "metadata": {},
   "outputs": [
    {
     "name": "stdout",
     "output_type": "stream",
     "text": [
      "[ 0  1  2  3  4  5  6  7  8  9 10 11 12 13 14 15 16 17 18 19 20 21 22 23]\n",
      "(24,)\n"
     ]
    }
   ],
   "source": [
    "a = np.arange(24) \n",
    "print(a)\n",
    "print(a.shape)\n"
   ]
  },
  {
   "cell_type": "markdown",
   "metadata": {},
   "source": [
    "La méthode reshape permet de réarranger les valeurs de ce tableau sur plusieurs dimension.\n",
    "Par exemple, si on veut 6 lignes de 4 colonnes :"
   ]
  },
  {
   "cell_type": "code",
   "execution_count": 17,
   "metadata": {},
   "outputs": [
    {
     "name": "stdout",
     "output_type": "stream",
     "text": [
      "[[ 0  1  2  3]\n",
      " [ 4  5  6  7]\n",
      " [ 8  9 10 11]\n",
      " [12 13 14 15]\n",
      " [16 17 18 19]\n",
      " [20 21 22 23]]\n"
     ]
    }
   ],
   "source": [
    "\n",
    "a2 = a.reshape(6,4) \n",
    "print(a2)\n"
   ]
  },
  {
   "cell_type": "markdown",
   "metadata": {},
   "source": [
    "Mais on pourrait aussi envisager plus de dimensions.\n",
    "Par exemple, 4 piles de 2 lignes et 3 colonnes :"
   ]
  },
  {
   "cell_type": "code",
   "execution_count": 5,
   "metadata": {},
   "outputs": [
    {
     "name": "stdout",
     "output_type": "stream",
     "text": [
      "(4, 2, 3)\n",
      "[[[ 0  1  2]\n",
      "  [ 3  4  5]]\n",
      "\n",
      " [[ 6  7  8]\n",
      "  [ 9 10 11]]\n",
      "\n",
      " [[12 13 14]\n",
      "  [15 16 17]]\n",
      "\n",
      " [[18 19 20]\n",
      "  [21 22 23]]]\n"
     ]
    }
   ],
   "source": [
    "a3 = a.reshape(4,2,3)\n",
    "print(a3.shape)\n",
    "print(a3)"
   ]
  },
  {
   "cell_type": "markdown",
   "metadata": {},
   "source": [
    "Avec dimension joker= -1\n",
    "\n",
    "-> la dimension \"joker\" vaut le \"reste\" des dimensions restantes"
   ]
  },
  {
   "cell_type": "code",
   "execution_count": 6,
   "metadata": {},
   "outputs": [
    {
     "name": "stdout",
     "output_type": "stream",
     "text": [
      "(4, 2, 3)\n"
     ]
    }
   ],
   "source": [
    "a3 = a.reshape(4,-1,3)\n",
    "print(a3.shape) ### la dimension par default vaut ici (24/4)/3 = 2\n",
    "\n"
   ]
  },
  {
   "cell_type": "markdown",
   "metadata": {},
   "source": [
    "# Lecture/écriture d'un seul élément\n",
    "\n",
    "Pour un tableau à deux dimensions comme celui-ci :"
   ]
  },
  {
   "cell_type": "code",
   "execution_count": 18,
   "metadata": {},
   "outputs": [
    {
     "name": "stdout",
     "output_type": "stream",
     "text": [
      "[[ 0  1  2]\n",
      " [ 3  4  5]\n",
      " [ 6  7  8]\n",
      " [ 9 10 11]]\n"
     ]
    }
   ],
   "source": [
    "a = np.arange(12).reshape(4,3)\n",
    "print (a)"
   ]
  },
  {
   "cell_type": "markdown",
   "metadata": {},
   "source": [
    "L'accès par index se fait à l'aide de [ligne, colonne] où l'indexation commence à zéro."
   ]
  },
  {
   "cell_type": "code",
   "execution_count": 20,
   "metadata": {},
   "outputs": [
    {
     "name": "stdout",
     "output_type": "stream",
     "text": [
      "4\n"
     ]
    }
   ],
   "source": [
    "e = a[1,1]\n",
    "print(e)\n"
   ]
  },
  {
   "cell_type": "code",
   "execution_count": 21,
   "metadata": {},
   "outputs": [
    {
     "data": {
      "text/plain": [
       "array([[   0,    1,    2],\n",
       "       [   3,    4, 1000],\n",
       "       [   6,    7,    8],\n",
       "       [   9,   10,   11]])"
      ]
     },
     "execution_count": 21,
     "metadata": {},
     "output_type": "execute_result"
    }
   ],
   "source": [
    "a[1,2] = 1000\n",
    "a"
   ]
  },
  {
   "cell_type": "markdown",
   "metadata": {},
   "source": [
    "# Par slice"
   ]
  },
  {
   "cell_type": "markdown",
   "metadata": {},
   "source": [
    "![title](img/slice.jpeg)"
   ]
  },
  {
   "cell_type": "code",
   "execution_count": 11,
   "metadata": {},
   "outputs": [
    {
     "name": "stdout",
     "output_type": "stream",
     "text": [
      "[[0 1 2 3 4 5]]\n",
      "[[ 0]\n",
      " [10]\n",
      " [20]\n",
      " [30]\n",
      " [40]\n",
      " [50]]\n",
      "[[ 0  1  2  3  4  5]\n",
      " [10 11 12 13 14 15]\n",
      " [20 21 22 23 24 25]\n",
      " [30 31 32 33 34 35]\n",
      " [40 41 42 43 44 45]\n",
      " [50 51 52 53 54 55]]\n"
     ]
    }
   ],
   "source": [
    "# Comme on est fainéant, on a utilisé la règle du broadcast \n",
    "# https://docs.scipy.org/doc/numpy/user/basics.broadcasting.html\n",
    "# pour construire ce tableau mais vous n'avez pas besoin de \n",
    "# comprende ça à ce stade du cours\n",
    "b = np.arange(6).reshape(1,6) \n",
    "print(b)\n",
    "c = 10*np.arange(6).reshape(6, 1)\n",
    "print(c)\n",
    "a = b + c\n",
    "print(a)"
   ]
  },
  {
   "cell_type": "code",
   "execution_count": 12,
   "metadata": {},
   "outputs": [
    {
     "data": {
      "text/plain": [
       "array([[30, 32, 34],\n",
       "       [40, 42, 44],\n",
       "       [50, 52, 54]])"
      ]
     },
     "execution_count": 12,
     "metadata": {},
     "output_type": "execute_result"
    }
   ],
   "source": [
    "a2 = a[3:, 0:5:2]   # array[start:stop:step]   avec stop exclu\n",
    "a2"
   ]
  },
  {
   "cell_type": "markdown",
   "metadata": {},
   "source": [
    "# Par masque booléen\n",
    "\n",
    "Par exemple, si on a un signal aléatoire dont on ne veut garder que les valeurs positives"
   ]
  },
  {
   "cell_type": "code",
   "execution_count": 22,
   "metadata": {},
   "outputs": [
    {
     "data": {
      "text/plain": [
       "array([ 0.29339456,  0.47980927,  1.54842214, -0.94173505,  1.67771569,\n",
       "        0.63709849,  0.54518244, -1.028041  ,  0.23381465, -0.26621713,\n",
       "        0.83181664,  0.90052146, -0.68954139, -0.5819183 ,  1.08435006])"
      ]
     },
     "execution_count": 22,
     "metadata": {},
     "output_type": "execute_result"
    }
   ],
   "source": [
    "a = np.random.randn(15)\n",
    "a"
   ]
  },
  {
   "cell_type": "markdown",
   "metadata": {},
   "source": [
    "On peut créer un vecteur de booléens, et l'utiliser ensuite pour sélectioner un sous-ensemble."
   ]
  },
  {
   "cell_type": "code",
   "execution_count": 23,
   "metadata": {},
   "outputs": [
    {
     "name": "stdout",
     "output_type": "stream",
     "text": [
      "[ True  True  True False  True  True  True False  True False  True  True\n",
      " False False  True]\n",
      "[False False False  True False False False  True False  True False False\n",
      "  True  True False]\n"
     ]
    }
   ],
   "source": [
    "keep = (a>0.)\n",
    "print(keep)\n",
    "not_keep = ~keep # not en boolean (existe aussi np.logical_not)\n",
    "print(not_keep)\n"
   ]
  },
  {
   "cell_type": "code",
   "execution_count": 24,
   "metadata": {},
   "outputs": [
    {
     "name": "stdout",
     "output_type": "stream",
     "text": [
      "[0.29339456 0.47980927 1.54842214 1.67771569 0.63709849 0.54518244\n",
      " 0.23381465 0.83181664 0.90052146 1.08435006]\n"
     ]
    }
   ],
   "source": [
    "print(a[keep])"
   ]
  },
  {
   "cell_type": "markdown",
   "metadata": {},
   "source": [
    "# Selection explicite d'une liste"
   ]
  },
  {
   "cell_type": "code",
   "execution_count": 16,
   "metadata": {},
   "outputs": [
    {
     "data": {
      "text/plain": [
       "array([ 0, 10, 20, 30, 40, 50, 60])"
      ]
     },
     "execution_count": 16,
     "metadata": {},
     "output_type": "execute_result"
    }
   ],
   "source": [
    "a = np.arange(7)*10\n",
    "a"
   ]
  },
  {
   "cell_type": "code",
   "execution_count": 17,
   "metadata": {},
   "outputs": [
    {
     "data": {
      "text/plain": [
       "array([20, 40,  0])"
      ]
     },
     "execution_count": 17,
     "metadata": {},
     "output_type": "execute_result"
    }
   ],
   "source": [
    "l = [2, 4, 0]\n",
    "a2 = a[l]\n",
    "a2"
   ]
  },
  {
   "cell_type": "markdown",
   "metadata": {},
   "source": [
    "# Attention une slice pointe sur le même tableau!!\n",
    "\n",
    "Un tableau issu d'un même tableau est une *'view'*.\n",
    "\n"
   ]
  },
  {
   "cell_type": "code",
   "execution_count": 12,
   "metadata": {},
   "outputs": [
    {
     "data": {
      "text/plain": [
       "array([0, 1, 2, 3, 4, 5, 6, 7, 8, 9])"
      ]
     },
     "execution_count": 12,
     "metadata": {},
     "output_type": "execute_result"
    }
   ],
   "source": [
    "a = np.arange(10)\n",
    "a"
   ]
  },
  {
   "cell_type": "code",
   "execution_count": 13,
   "metadata": {},
   "outputs": [
    {
     "name": "stdout",
     "output_type": "stream",
     "text": [
      "[2 3 4 5 6 7]\n"
     ]
    },
    {
     "data": {
      "text/plain": [
       "array([  0, -10, -20, -30, -40, -50])"
      ]
     },
     "execution_count": 13,
     "metadata": {},
     "output_type": "execute_result"
    }
   ],
   "source": [
    "a2 = a[2:-2]\n",
    "print(a2)\n",
    "a2[0:6] = np.arange(6)*-10\n",
    "a2"
   ]
  },
  {
   "cell_type": "code",
   "execution_count": 21,
   "metadata": {},
   "outputs": [
    {
     "data": {
      "text/plain": [
       "array([  0,   1,   0, -10, -20, -30, -40, -50,   8,   9])"
      ]
     },
     "execution_count": 21,
     "metadata": {},
     "output_type": "execute_result"
    }
   ],
   "source": [
    "a\n"
   ]
  },
  {
   "cell_type": "markdown",
   "metadata": {},
   "source": [
    "\n",
    "Sinon il faut faire une copie explicite."
   ]
  },
  {
   "cell_type": "code",
   "execution_count": 25,
   "metadata": {},
   "outputs": [
    {
     "data": {
      "text/plain": [
       "array([  0, -10, -20, -30, -40, -50])"
      ]
     },
     "execution_count": 25,
     "metadata": {},
     "output_type": "execute_result"
    }
   ],
   "source": [
    "a = np.arange(10)\n",
    "a2 = a[2:-2].copy()\n",
    "a2[0:6] = np.arange(6)*-10\n",
    "a2"
   ]
  },
  {
   "cell_type": "markdown",
   "metadata": {
    "tags": []
   },
   "source": [
    "# Exercice 1\n",
    "\n",
    "A partir du numpy array suivant\n",
    "```\n",
    "table = np.array([[1, 10,  1, 11],\n",
    "                  [2, 21,  2, 20],\n",
    "                  [3, 30, 3, 31],\n",
    "                  [4, 41, 4, 40]])\n",
    "```\n",
    "\n",
    "créer :\n",
    "* table_0 : avec tous les élément plus grand que 10. Utiliser des slices.\n",
    "* table_1 : tous les élément plus petit que 10 et impaires. Utiliser des slices.\n",
    "* table_2 : tous les élément plus grand que 10 et impaires. Peut on utiliser des slices ?"
   ]
  },
  {
   "cell_type": "code",
   "execution_count": 15,
   "metadata": {},
   "outputs": [
    {
     "name": "stdout",
     "output_type": "stream",
     "text": [
      "[[ 1 10  1 11]\n",
      " [ 2 21  2 20]\n",
      " [ 3 30  3 31]\n",
      " [ 4 41  4 40]]\n"
     ]
    }
   ],
   "source": [
    "#my_table = np.random.randint(0,4,(4,4))\n",
    "table = np.array([[1, 10,  1, 11],\n",
    "                 [2, 21,  2, 20],\n",
    "                 [3, 30, 3, 31],\n",
    "                 [4, 41, 4, 40]])\n",
    "print(table)\n"
   ]
  },
  {
   "cell_type": "markdown",
   "metadata": {},
   "source": [
    "# Solution 1"
   ]
  },
  {
   "cell_type": "code",
   "execution_count": 20,
   "metadata": {},
   "outputs": [
    {
     "data": {
      "text/plain": [
       "array([[10, 11],\n",
       "       [21, 20],\n",
       "       [30, 31],\n",
       "       [41, 40]])"
      ]
     },
     "execution_count": 20,
     "metadata": {},
     "output_type": "execute_result"
    }
   ],
   "source": [
    "table_0 = table[:, 1::2]  # start index 1, prend tout, pas de 2\n",
    "table_0"
   ]
  },
  {
   "cell_type": "code",
   "execution_count": 21,
   "metadata": {},
   "outputs": [
    {
     "data": {
      "text/plain": [
       "array([[1, 1],\n",
       "       [3, 3]])"
      ]
     },
     "execution_count": 21,
     "metadata": {},
     "output_type": "execute_result"
    }
   ],
   "source": [
    "table_1 = table[0::2, 0::2]\n",
    "table_1"
   ]
  },
  {
   "cell_type": "code",
   "execution_count": 22,
   "metadata": {},
   "outputs": [
    {
     "data": {
      "text/plain": [
       "array([11, 21, 31, 41])"
      ]
     },
     "execution_count": 22,
     "metadata": {},
     "output_type": "execute_result"
    }
   ],
   "source": [
    "table_2 = table[(0,1,2,3),(3,1,3,1)]\n",
    "table_2"
   ]
  },
  {
   "cell_type": "markdown",
   "metadata": {
    "tags": []
   },
   "source": [
    "# Exercice 2\n",
    "Voici un vecteur\n",
    "a = np.random.randn(5000)\n",
    "\n",
    "\n",
    "Créer un vecteur b qui enlève les déviants.\n",
    "\n",
    "- \\> M + 2.5*std\n",
    "- < M - 2.5*std\n",
    "\n",
    "note : np.mean(a) donne la moyenne de a et np.std(a) donne l'écart-type de a\n",
    "\n",
    "\n",
    "\n"
   ]
  },
  {
   "cell_type": "markdown",
   "metadata": {},
   "source": [
    "# Solution 2"
   ]
  },
  {
   "cell_type": "code",
   "execution_count": 24,
   "metadata": {},
   "outputs": [
    {
     "name": "stdout",
     "output_type": "stream",
     "text": [
      "(5000,)\n",
      "-0.0022875301791327246 1.0072546998619194\n",
      "[ True  True  True ...  True  True  True]\n",
      "(4945,)\n",
      "(55,)\n"
     ]
    }
   ],
   "source": [
    "import numpy as np\n",
    "a = np.random.randn(5000)\n",
    "\n",
    "m = np.mean(a)\n",
    "s = np.std(a)\n",
    "\n",
    "print(a.shape)\n",
    "print(m,s)\n",
    "\n",
    "keep = (a>(m-2.5*s)) & (a<(m+2.5*s))\n",
    "print(keep)\n",
    "a2 = a[keep]\n",
    "print(a2.shape)\n",
    "b = a[~keep]\n",
    "print(b.shape)"
   ]
  },
  {
   "cell_type": "markdown",
   "metadata": {},
   "source": [
    "# nan = not a number"
   ]
  },
  {
   "cell_type": "code",
   "execution_count": 26,
   "metadata": {},
   "outputs": [
    {
     "data": {
      "text/plain": [
       "array([ 0.,  1., nan,  3.,  4.])"
      ]
     },
     "execution_count": 26,
     "metadata": {},
     "output_type": "execute_result"
    }
   ],
   "source": [
    "a = np.arange(5, dtype='float64')\n",
    "a[2] = np.nan\n",
    "a"
   ]
  },
  {
   "cell_type": "markdown",
   "metadata": {},
   "source": [
    "# inf : infini\n",
    "\n",
    "Numpy considère les nombres trop grands (ou trop petits) comme des valeurs infinies et permet de les étiqueter en tant que tels et même de réaliser quelques opérations avec ces valeurs :"
   ]
  },
  {
   "cell_type": "code",
   "execution_count": 44,
   "metadata": {},
   "outputs": [
    {
     "name": "stdout",
     "output_type": "stream",
     "text": [
      "infini : inf\n",
      "moins l'infini : -inf\n",
      "overflow : inf\n",
      "comparaison 0 < inf : True\n",
      "comparaison 0 > inf : False\n",
      "comparaison avec overflow : True\n"
     ]
    },
    {
     "name": "stderr",
     "output_type": "stream",
     "text": [
      "/var/folders/n5/2zdh95gd3jg317pzq8j_nqfm0000gn/T/ipykernel_52407/3125125239.py:3: RuntimeWarning: overflow encountered in exp\n",
      "  print('overflow :', np.exp(1e42))\n",
      "/var/folders/n5/2zdh95gd3jg317pzq8j_nqfm0000gn/T/ipykernel_52407/3125125239.py:8: RuntimeWarning: overflow encountered in exp\n",
      "  print('comparaison avec overflow :', np.exp(1e42) == np.exp(1e40))\n"
     ]
    }
   ],
   "source": [
    "print('infini :', np.inf)\n",
    "print('moins l\\'infini :', -np.inf)\n",
    "print('overflow :', np.exp(1e42))\n",
    "# on peut comparer des valeurs standard à np.inf\n",
    "print('comparaison 0 < inf :', 0 < np.inf)\n",
    "print('comparaison 0 > inf :', 0 > np.inf)\n",
    "# attention en cas d'overflow les comparaisons sont fausses\n",
    "print('comparaison avec overflow :', np.exp(1e42) == np.exp(1e40))"
   ]
  },
  {
   "cell_type": "markdown",
   "metadata": {},
   "source": [
    "# test : np.isinf et np.isnan\n",
    "\n",
    "\n"
   ]
  },
  {
   "cell_type": "code",
   "execution_count": 46,
   "metadata": {},
   "outputs": [
    {
     "data": {
      "text/plain": [
       "True"
      ]
     },
     "execution_count": 46,
     "metadata": {},
     "output_type": "execute_result"
    }
   ],
   "source": [
    "np.isinf(b)"
   ]
  },
  {
   "cell_type": "code",
   "execution_count": 47,
   "metadata": {},
   "outputs": [
    {
     "data": {
      "text/plain": [
       "array([False, False,  True, False, False])"
      ]
     },
     "execution_count": 47,
     "metadata": {},
     "output_type": "execute_result"
    }
   ],
   "source": [
    "np.isnan(a)"
   ]
  }
 ],
 "metadata": {
  "kernelspec": {
   "display_name": "py311-mne_septembre",
   "language": "python",
   "name": "python3"
  },
  "language_info": {
   "codemirror_mode": {
    "name": "ipython",
    "version": 3
   },
   "file_extension": ".py",
   "mimetype": "text/x-python",
   "name": "python",
   "nbconvert_exporter": "python",
   "pygments_lexer": "ipython3",
   "version": "3.11.4"
  }
 },
 "nbformat": 4,
 "nbformat_minor": 4
}
