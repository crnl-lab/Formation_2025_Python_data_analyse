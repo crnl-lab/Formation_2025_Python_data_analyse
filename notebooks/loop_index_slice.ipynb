{
 "cells": [
  {
   "cell_type": "markdown",
   "metadata": {},
   "source": [
    "\n",
    "# Les boucles, le slicing, les index de listes et les dictionnaires \n"
   ]
  },
  {
   "cell_type": "markdown",
   "metadata": {},
   "source": [
    "# Structure générale d'une boucle :    "
   ]
  },
  {
   "cell_type": "markdown",
   "metadata": {},
   "source": [
    "```python\n",
    "for item in maListe: #(toujours faire attention aux deux points!)\n",
    "    do something #(attention à l'indentation)\n",
    "```"
   ]
  },
  {
   "cell_type": "markdown",
   "metadata": {},
   "source": [
    "# Boucle for avec range (par compteur)"
   ]
  },
  {
   "cell_type": "markdown",
   "metadata": {},
   "source": [
    "Par exemple, si on veut boucler sur des index\n",
    "\n"
   ]
  },
  {
   "cell_type": "code",
   "execution_count": null,
   "metadata": {},
   "outputs": [],
   "source": [
    "for i in range(10):\n",
    "    print('ma variable i vaut', i)"
   ]
  },
  {
   "cell_type": "markdown",
   "metadata": {},
   "source": [
    "# Boucle avec elements"
   ]
  },
  {
   "cell_type": "markdown",
   "metadata": {},
   "source": [
    "On peut aussi boucler sur les elements d'une liste directement"
   ]
  },
  {
   "cell_type": "code",
   "execution_count": null,
   "metadata": {},
   "outputs": [],
   "source": [
    "liste_de_lettres = ['a','b','c','d','e','f','g','h']\n",
    "\n",
    "for lettre in liste_de_lettres:\n",
    "    print(lettre)"
   ]
  },
  {
   "cell_type": "markdown",
   "metadata": {},
   "source": [
    "On peut aussi boucler sur l'index de la liste, en utilisant :\n",
    "- len(), qui donne la taille de la liste\n",
    "- [ ] pour accéder à un élément par son index\n"
   ]
  },
  {
   "cell_type": "code",
   "execution_count": null,
   "metadata": {},
   "outputs": [],
   "source": [
    "print(len(liste_de_lettres))"
   ]
  },
  {
   "cell_type": "code",
   "execution_count": null,
   "metadata": {},
   "outputs": [],
   "source": [
    "print(liste_de_lettres[0])"
   ]
  },
  {
   "cell_type": "code",
   "execution_count": null,
   "metadata": {},
   "outputs": [],
   "source": [
    "for i in range(len(liste_de_lettres)):\n",
    "    print(i,':', liste_de_lettres[i])\n",
    "    "
   ]
  },
  {
   "cell_type": "markdown",
   "metadata": {},
   "source": [
    "# Enumerate"
   ]
  },
  {
   "cell_type": "markdown",
   "metadata": {},
   "source": [
    "Enumerate permet de boucler sur les éléments d'une liste tout en récuperant leur index "
   ]
  },
  {
   "cell_type": "code",
   "execution_count": null,
   "metadata": {},
   "outputs": [],
   "source": [
    "for i,elem in enumerate(liste_de_lettres):\n",
    "    print(i, ':', elem)\n"
   ]
  },
  {
   "cell_type": "markdown",
   "metadata": {},
   "source": [
    "# Exercice 1 - Copie de liste sans doublons\n",
    "\n",
    "1) Déclarer puis afficher la liste suivante: \n",
    "```python\n",
    "   nombres = [1, 3, 4, 5, 6, 3, 8, 7, 4, 1, 2, 5, 6, 3, 4, 9, 6] \n",
    "```\n",
    "2) Créer puis afficher une nouvelle liste à partir de la première, \n",
    "   mais sans doublons (ie : sans deux fois le même élément). \n",
    "3) Affichez la liste sans doublon dans l'ordre décroissant\n",
    "\n",
    "## Pistes\n",
    "\n",
    "- La méthode de liste `count` permet de connaître le nombre d'occurence d'un élement dans une liste\n",
    "- Le mot-clé `in` permet de savoir si un élement est dans une liste\n",
    "- La méthode de liste `append` permet d'ajouter un élément à une liste\n",
    "- Les options de la méthode de liste `sort` sont documentées dans l'aide : `nombres.sort?` \n",
    "\n",
    "## Solution 1 :"
   ]
  },
  {
   "cell_type": "code",
   "execution_count": null,
   "metadata": {},
   "outputs": [],
   "source": []
  },
  {
   "cell_type": "markdown",
   "metadata": {},
   "source": [
    "# Exercice 2 : boucle sur liste\n",
    "\n",
    "Construire une liste de 33 elements: \n",
    "```\n",
    "[ \"monique 0\", \"therese 0\", \"jean claude 0\",\n",
    "\"monique 1\", \"therese 1\", \"jean claude 1\",\n",
    "\"monique 2\", \"therese 2\", \"jean claude 2\", ... ,\n",
    "\"monique 10\" \"therese 10\", \"jean claude 10\"]\n",
    "```"
   ]
  },
  {
   "cell_type": "markdown",
   "metadata": {},
   "source": [
    "## Solution 2 :"
   ]
  },
  {
   "cell_type": "code",
   "execution_count": null,
   "metadata": {},
   "outputs": [],
   "source": []
  },
  {
   "cell_type": "markdown",
   "metadata": {},
   "source": [
    "# Boucle sur dictionnaire"
   ]
  },
  {
   "cell_type": "markdown",
   "metadata": {},
   "source": [
    "Pour les dictionnaires, on a la possibilité de boucler \n",
    "- sur les clefs (keys)\n",
    "- sur les valeurs (values)\n",
    "- ou même sur les deux en même temps"
   ]
  },
  {
   "cell_type": "code",
   "execution_count": null,
   "metadata": {},
   "outputs": [],
   "source": [
    "dict_alphabet = {'a':10,'b':20.0,'c':\"hello\"}"
   ]
  },
  {
   "cell_type": "markdown",
   "metadata": {},
   "source": [
    "## Boucle sur les clefs ('a','b','c')"
   ]
  },
  {
   "cell_type": "code",
   "execution_count": null,
   "metadata": {},
   "outputs": [],
   "source": [
    "for key in dict_alphabet.keys():\n",
    "    print(key)"
   ]
  },
  {
   "cell_type": "markdown",
   "metadata": {},
   "source": [
    "## Boucle sur les valeurs (1,2,3)"
   ]
  },
  {
   "cell_type": "code",
   "execution_count": null,
   "metadata": {},
   "outputs": [],
   "source": [
    "for val in dict_alphabet.values():\n",
    "    print(val)\n",
    "    "
   ]
  },
  {
   "cell_type": "markdown",
   "metadata": {},
   "source": [
    "<div class=\"alert\">\n",
    "⚠️ On peut récupérer les valeurs dans le dictionnaire a partir des clefs, mais pas l'inverse.\n",
    "</div>"
   ]
  },
  {
   "cell_type": "code",
   "execution_count": null,
   "metadata": {},
   "outputs": [],
   "source": [
    "for key in dict_alphabet.keys():\n",
    "    print(key, dict_alphabet[key])\n",
    "    "
   ]
  },
  {
   "cell_type": "markdown",
   "metadata": {},
   "source": [
    "<div class=\"alert\">\n",
    "⚠️ Attention, un dictionnaire n'a pas d'ordre, on va donc boucler dans un ordre inconnu...\n",
    "</div>"
   ]
  },
  {
   "cell_type": "markdown",
   "metadata": {},
   "source": [
    "La totale: on boucle sur les deux a la fois"
   ]
  },
  {
   "cell_type": "code",
   "execution_count": null,
   "metadata": {},
   "outputs": [],
   "source": [
    "for key,val in dict_alphabet.items():\n",
    "    print (key,val)"
   ]
  },
  {
   "cell_type": "markdown",
   "metadata": {},
   "source": [
    "# Exercice 3 : inverser un dictionnaire.\n",
    "\n",
    "1) Définir une variable de type dictionnaire qui contient les traductions du français vers l'anglais qui suivent : \n",
    "```python\n",
    "dict_fr_to_en = { \"voiture\" : \"car\", \"maison\" : \"house\", \"vin\" : \"wine\" }\n",
    "```\n",
    "2) Utiliser une boucle pour créer un dictionnaire pour faire les traductions de l'anglais vers le français à partir de ce premier dictionnaire. On veut obtenir :\n",
    "```python\n",
    "dict_en_to_fr = { ‘car’ : ‘voiture’,  ‘house’ : ‘maison’, ‘wine’ : ‘vin’}\n",
    "```\n",
    "3) Exécuter les commandes suivantes pour tester votre nouveau dictionnaire\n",
    "```python\n",
    "print(dict_fr_to_en[\"voiture\"])\n",
    "print(dict_en_to_fr[\"car\"])\n",
    "```\n",
    "### Quelques pistes :\n",
    "\n",
    "- pour assigner une valeur à un dictionnaire : `dict_en_to_fr[key] = val`\n",
    "- pour créer un dictionnaire vide : `dict_en_to_fr = {}`\n"
   ]
  },
  {
   "cell_type": "markdown",
   "metadata": {},
   "source": [
    "# Solution 3"
   ]
  },
  {
   "cell_type": "code",
   "execution_count": null,
   "metadata": {},
   "outputs": [],
   "source": []
  },
  {
   "cell_type": "markdown",
   "metadata": {},
   "source": [
    "# Compréhension de liste\n",
    "\n",
    "La compréhension de liste est une notion qui permet d'écrire une boucle de manière très compressée : là ou une syntaxe classique de boucle nous conduirait à écrire le code suivant :\n",
    "\n",
    "```python\n",
    "ma_nouvelle_liste = []\n",
    "for item in ma_liste:\n",
    "    if condition(item):\n",
    "        nouvel_item = function(item)\n",
    "        ma_nouvelle_liste.append(nouvel_item)\n",
    "```\n",
    "\n",
    "La compréhension de liste nous permet un code équivalent en une seule ligne :\n",
    "\n",
    "\n",
    "```python\n",
    "ma_nouvelle_liste = [ function(item) for item in ma_liste if condition(item) ]\n",
    "```\n",
    "\n",
    "### Par exemple :"
   ]
  },
  {
   "cell_type": "code",
   "execution_count": null,
   "metadata": {},
   "outputs": [],
   "source": [
    "carres = [ i**2 for i in range(5)]\n",
    "print(carres)"
   ]
  },
  {
   "cell_type": "markdown",
   "metadata": {},
   "source": []
  },
  {
   "cell_type": "markdown",
   "metadata": {},
   "source": [
    "# Exercice 4 : compréhension de listes\n",
    "\n",
    "liste = [\"a\", \"yoda\", \"foo\", \"b\", \"c\", \"b\", \"d\", \"d\"] \n",
    "\n",
    "En une seule ligne, écrire l'instruction qui permet d'obtenir une nouvelle liste qui : \n",
    "- contient tous les éléments de liste de longueur inférieure ou égale à 2 \n",
    "\n",
    "- contient tous les éléments de liste qui ne sont pas \"d\" \n",
    "\n",
    "- contient tous les éléments de liste qui se répètent plusieurs fois"
   ]
  },
  {
   "cell_type": "markdown",
   "metadata": {},
   "source": [
    "## Solution 4 :"
   ]
  },
  {
   "cell_type": "code",
   "execution_count": null,
   "metadata": {},
   "outputs": [],
   "source": []
  },
  {
   "cell_type": "markdown",
   "metadata": {},
   "source": [
    "# Les subtilités de range\n",
    "\n",
    "Vous avez pu voir que quand on a affiché range(10), on avait en fait les valeurs 0,1, ... , 9\n",
    "\n"
   ]
  },
  {
   "cell_type": "code",
   "execution_count": null,
   "metadata": {},
   "outputs": [],
   "source": [
    "for i in range(10):\n",
    "    print(i)"
   ]
  },
  {
   "cell_type": "markdown",
   "metadata": {},
   "source": [
    "Ce qui nous fait bien 10 éléments (qui correspondent au '10' que l'on a donné en argument), en partant de 0. \n",
    "\n",
    "Ce fonctionnement de python peut sembler bizarre à première vue, mais c'est en fait très pratique pour spécifier le nombre total d'itérations. Par exemple, si on veut que python nous dise 3 fois bravo on peut écrire : \n"
   ]
  },
  {
   "cell_type": "code",
   "execution_count": null,
   "metadata": {},
   "outputs": [],
   "source": [
    "{ print('Bravo !') for i in range(3) };"
   ]
  },
  {
   "cell_type": "markdown",
   "metadata": {},
   "source": [
    "\n",
    "## Range avec plusieurs arguments"
   ]
  },
  {
   "cell_type": "markdown",
   "metadata": {},
   "source": [
    "\n",
    "L'aide de range propose plusieurs signatures :\n",
    "\n",
    "- La signature avec un seul argument que nous avons utilisée jusqu'ici : `range(stop)`.\n",
    "- Une signature avec 2 arguments : `range(start, stop)`\n",
    "- Une signature avec 3 arguments : `range(start, stop, step)`"
   ]
  },
  {
   "cell_type": "code",
   "execution_count": null,
   "metadata": {},
   "outputs": [],
   "source": [
    "?range"
   ]
  },
  {
   "cell_type": "markdown",
   "metadata": {},
   "source": [
    "\n",
    "#### La version à 2 arguments : `range(start, stop)`\n",
    "\n",
    "On peut l'interpréter comme un intervalle fermé à gauche et ouvert à droite : [ start:stop ["
   ]
  },
  {
   "cell_type": "code",
   "execution_count": null,
   "metadata": {},
   "outputs": [],
   "source": [
    "for i in range(5,10):\n",
    "    print(i)\n"
   ]
  },
  {
   "cell_type": "markdown",
   "metadata": {},
   "source": [
    "<div class=\"alert\">\n",
    "⚠️ On indique la première valeur (5) qui est incluse, mais la derniere valeur (10) est EXCLUE\n",
    "</div>\n",
    "\n",
    "L'explication tient au fait que `range(stop)` avec un seul argument est équivalent à `range(0, stop)`, or dans le cas où on n'a qu'un seul argument, on veut réellement préciser le nombre d'itérations N, \n",
    "où N = stop - start, et on veut commencer à 0 comme l'indexation de nos listes. \n",
    "\n",
    "Si range(N) renvoyait [1, 2, ... N ] on devrait utiliser des `[i-1]` pour accéder aux éléments de nos listes, \n",
    "ce serait beaucoup moins pratique.\n",
    "\n",
    "<div class=\"alert\">\n",
    "⚠️ range(20,2) retourne une liste vide (start = 20, stop = 2) : dès le premier élément on a dépassé la valeur de stop.\n",
    "</div>"
   ]
  },
  {
   "cell_type": "markdown",
   "metadata": {},
   "source": [
    "\n",
    "#### La version à 3 arguments : `range(start, stop, step)`\n",
    "\n",
    "Le troisième argument est le saut à effecter d'une itération à la suivante"
   ]
  },
  {
   "cell_type": "code",
   "execution_count": null,
   "metadata": {},
   "outputs": [],
   "source": [
    "for i in range(5,20,2):\n",
    "    print(i)\n"
   ]
  },
  {
   "cell_type": "code",
   "execution_count": null,
   "metadata": {},
   "outputs": [],
   "source": [
    "for i in range(20,2,-1):\n",
    "    print(i)\n",
    "    "
   ]
  },
  {
   "cell_type": "markdown",
   "metadata": {},
   "source": [
    "### Équivalence des signatures de `range`\n",
    "\n",
    "En réalité toutes ces signatures se ramènent à celle à 3 arguments :\n",
    "- `range(stop)` équivaut à `range(0, stop, 1)` \n",
    "- `range(start, stop)` équivaut à `range(start, stop, 1)`"
   ]
  },
  {
   "cell_type": "markdown",
   "metadata": {},
   "source": [
    "# Indexation des éléments"
   ]
  },
  {
   "cell_type": "markdown",
   "metadata": {},
   "source": [
    "On peut acceder à des elements par leur index, entre 0 et N-1 si on a N elements dans une liste"
   ]
  },
  {
   "cell_type": "code",
   "execution_count": null,
   "metadata": {},
   "outputs": [],
   "source": [
    "liste_de_lettres = ['a','b','c','d','e','f','g','h']\n",
    "\n",
    "print(liste_de_lettres[0])"
   ]
  },
  {
   "cell_type": "code",
   "execution_count": null,
   "metadata": {},
   "outputs": [],
   "source": [
    "print(liste_de_lettres[1])"
   ]
  },
  {
   "cell_type": "code",
   "execution_count": null,
   "metadata": {
    "tags": [
     "raises-exception"
    ]
   },
   "outputs": [],
   "source": [
    "## attention, lettres[N] - avec N la longueur de la liste - plante \n",
    "print(liste_de_lettres[8])"
   ]
  },
  {
   "cell_type": "markdown",
   "metadata": {},
   "source": [
    "-1 a un comportement spécial: il permet d'indiquer le dernier élément de la liste \n"
   ]
  },
  {
   "cell_type": "code",
   "execution_count": null,
   "metadata": {},
   "outputs": [],
   "source": [
    "print(liste_de_lettres[-1])\n"
   ]
  },
  {
   "cell_type": "markdown",
   "metadata": {},
   "source": [
    "Il est donc équivalent à len(lettres)-1, mais quelle que soit la longueur de la liste"
   ]
  },
  {
   "cell_type": "code",
   "execution_count": null,
   "metadata": {},
   "outputs": [],
   "source": [
    "len_list = len(liste_de_lettres)\n",
    "print(liste_de_lettres[len_list-1])"
   ]
  },
  {
   "cell_type": "code",
   "execution_count": null,
   "metadata": {},
   "outputs": [],
   "source": [
    "# et on peut faire du moonwalk...\n",
    "print(liste_de_lettres[-2])"
   ]
  },
  {
   "cell_type": "markdown",
   "metadata": {},
   "source": [
    "# Slicing sur liste"
   ]
  },
  {
   "cell_type": "markdown",
   "metadata": {},
   "source": [
    "Quand on veut récupérer plusieurs éléments (dans un intervalle par exemple), on parle de **slicing**.\n",
    "\n",
    "Un intervalle est specifié par start:stop(:step) AVEC STOP NON INCLUS (comme range)\n",
    "\n",
    "Par défaut, si omis, et si step est omis ou positif\n",
    "- start = 0 - comme pour range  - ex. :stop ou :stop:step ou ::step\n",
    "- stop = la longueur de la liste - ex. start: ou start::step ou ::step\n",
    "- step = 1 (comme pour range) - ex start: ou start:stop\n"
   ]
  },
  {
   "cell_type": "code",
   "execution_count": null,
   "metadata": {},
   "outputs": [],
   "source": [
    "liste_de_nombres = [0,1,2,3,4,5,6,7] \n",
    "print(liste_de_nombres[1:7:2])   "
   ]
  },
  {
   "cell_type": "code",
   "execution_count": null,
   "metadata": {},
   "outputs": [],
   "source": [
    "#tous les 2 elements a partir du second \n",
    "print(liste_de_nombres[1::2])"
   ]
  },
  {
   "cell_type": "code",
   "execution_count": null,
   "metadata": {},
   "outputs": [],
   "source": [
    "## a partir du 4eme element et jusqu'6eme NON INCLUS\n",
    "print(liste_de_nombres[3:5])"
   ]
  },
  {
   "cell_type": "code",
   "execution_count": null,
   "metadata": {},
   "outputs": [],
   "source": [
    "## implicitement, start = 0 et step = 1\n",
    "print(liste_de_nombres[:5])"
   ]
  },
  {
   "cell_type": "markdown",
   "metadata": {},
   "source": [
    "Si on indique un step négatif, on va dans l'ordre décroissant\n"
   ]
  },
  {
   "cell_type": "code",
   "execution_count": null,
   "metadata": {},
   "outputs": [],
   "source": [
    "print(liste_de_nombres[5:3:-1])\n"
   ]
  },
  {
   "cell_type": "markdown",
   "metadata": {},
   "source": [
    "<div class=\"alert\">\n",
    "⚠️ Attention ! Cette fois, le plus grand index (5) est inclus - c'est le plus petit index (3) qui est exclu \n",
    "</div>\n",
    "\n",
    "Si step est négatif, alors par défaut :\n",
    "- start = -1 (index du dernier élément de la liste)\n",
    "- stop = -N-1 (pour aller jusqu'au premier élément inclus)"
   ]
  },
  {
   "cell_type": "code",
   "execution_count": null,
   "metadata": {},
   "outputs": [],
   "source": [
    "## ordre inverse de la liste\n",
    "print(liste_de_nombres[::-1])"
   ]
  },
  {
   "cell_type": "markdown",
   "metadata": {},
   "source": [
    "<div class=\"alert\">\n",
    "⚠️ Il faut indiquer un start ET un stop pour indiquer un step, avec 2 fois ':' . Si deux valeurs (et un seul ':') seulement sont indiqués, par défaut c'est start et stop\n",
    "</div>"
   ]
  },
  {
   "cell_type": "code",
   "execution_count": null,
   "metadata": {},
   "outputs": [],
   "source": [
    "print(liste_de_nombres[5:-1])\n",
    "## On part du 6eme élement jusqu'a l'avant dernier (signification du -1)"
   ]
  },
  {
   "cell_type": "code",
   "execution_count": null,
   "metadata": {},
   "outputs": [],
   "source": [
    "print(liste_de_nombres[5:0:-1])\n",
    "## on part du 6eme élement et on va jusqu'au premier (non inclus) dans l'ordre inverse\n"
   ]
  },
  {
   "cell_type": "code",
   "execution_count": null,
   "metadata": {},
   "outputs": [],
   "source": [
    "\n",
    "####### comment on fait pour inclure aussi la première valeur ???\n",
    "print(liste_de_nombres[5::-1])"
   ]
  },
  {
   "cell_type": "markdown",
   "metadata": {},
   "source": [
    "# Exercice 5 :  slicing + concat\n",
    "\n",
    "décoder le message suivant:\n",
    "\n",
    "l = [\"python\", \"compris\", \"c'est\", \"parfaitement\",   \"super\",   \"j'ai\"]  \n",
    "\n",
    "## Solution 5"
   ]
  },
  {
   "cell_type": "code",
   "execution_count": null,
   "metadata": {},
   "outputs": [],
   "source": []
  },
  {
   "cell_type": "markdown",
   "metadata": {},
   "source": [
    "# Exercice 6 : copie / clonage\n",
    "\n",
    "Créez une liste avec 3 éléments.\n",
    "\n",
    "Faites une copie de cette liste.\n",
    "\n",
    "Changez un des éléments dans la liste originelle.\n",
    "\n",
    "Que constatez-vous sur la copie ?\n",
    "\n",
    "\n",
    "## Solution 6 :"
   ]
  },
  {
   "cell_type": "code",
   "execution_count": null,
   "metadata": {},
   "outputs": [],
   "source": []
  },
  {
   "cell_type": "code",
   "execution_count": null,
   "metadata": {},
   "outputs": [],
   "source": []
  },
  {
   "cell_type": "code",
   "execution_count": null,
   "metadata": {},
   "outputs": [],
   "source": []
  },
  {
   "cell_type": "markdown",
   "metadata": {},
   "source": [
    "# Exercice 7 : slicing de str\n",
    "On a la liste suivante : \n",
    "\n",
    "mot = \"Amanda\" \n",
    "\n",
    "Utilisez le slicing pour obtenir les chaines suivantes : \n",
    "+ A \n",
    "+ a \n",
    "+ man \n",
    "+ Aa \n",
    "+ adnamA \n",
    "+ nda \n",
    "+ anm \n",
    "+ aa \n",
    "+ da\n",
    "\n",
    "## Solution 7 :"
   ]
  },
  {
   "cell_type": "code",
   "execution_count": null,
   "metadata": {},
   "outputs": [],
   "source": []
  }
 ],
 "metadata": {
  "kernelspec": {
   "display_name": "formPy2025",
   "language": "python",
   "name": "python3"
  },
  "language_info": {
   "codemirror_mode": {
    "name": "ipython",
    "version": 3
   },
   "file_extension": ".py",
   "mimetype": "text/x-python",
   "name": "python",
   "nbconvert_exporter": "python",
   "pygments_lexer": "ipython3",
   "version": "3.12.3"
  }
 },
 "nbformat": 4,
 "nbformat_minor": 4
}
