{
 "cells": [
  {
   "cell_type": "markdown",
   "metadata": {},
   "source": [
    "\n",
    "# Les boucles, le slicing, les index de listes et les dictionnaires \n"
   ]
  },
  {
   "cell_type": "markdown",
   "metadata": {},
   "source": [
    "# Structure générale d'une boucle :    "
   ]
  },
  {
   "cell_type": "markdown",
   "metadata": {},
   "source": [
    "```python\n",
    "for item in maListe: #(toujours faire attention aux deux points!)\n",
    "    do something #(attention à l'indentation)\n",
    "```"
   ]
  },
  {
   "cell_type": "markdown",
   "metadata": {},
   "source": [
    "# Boucle for avec range (par compteur)"
   ]
  },
  {
   "cell_type": "markdown",
   "metadata": {},
   "source": [
    "Par exemple, si on veut boucler sur des index\n",
    "\n"
   ]
  },
  {
   "cell_type": "code",
   "execution_count": 1,
   "metadata": {},
   "outputs": [
    {
     "name": "stdout",
     "output_type": "stream",
     "text": [
      "ma variable i vaut 0\n",
      "ma variable i vaut 1\n",
      "ma variable i vaut 2\n",
      "ma variable i vaut 3\n",
      "ma variable i vaut 4\n",
      "ma variable i vaut 5\n",
      "ma variable i vaut 6\n",
      "ma variable i vaut 7\n",
      "ma variable i vaut 8\n",
      "ma variable i vaut 9\n"
     ]
    }
   ],
   "source": [
    "for i in range(10):\n",
    "    print('ma variable i vaut', i)"
   ]
  },
  {
   "cell_type": "markdown",
   "metadata": {},
   "source": [
    "# Boucle avec elements"
   ]
  },
  {
   "cell_type": "markdown",
   "metadata": {},
   "source": [
    "On peut aussi boucler sur les elements d'une liste directement"
   ]
  },
  {
   "cell_type": "code",
   "execution_count": 2,
   "metadata": {},
   "outputs": [
    {
     "name": "stdout",
     "output_type": "stream",
     "text": [
      "a\n",
      "b\n",
      "c\n",
      "d\n",
      "e\n",
      "f\n",
      "g\n",
      "h\n"
     ]
    }
   ],
   "source": [
    "liste_de_lettres = ['a','b','c','d','e','f','g','h']\n",
    "\n",
    "for lettre in liste_de_lettres:\n",
    "    print(lettre)"
   ]
  },
  {
   "cell_type": "markdown",
   "metadata": {},
   "source": [
    "On peut aussi boucler sur l'index de la liste, en utilisant :\n",
    "- len(), qui donne la taille de la liste\n",
    "- [ ] pour accéder à un élément par son index\n"
   ]
  },
  {
   "cell_type": "code",
   "execution_count": 3,
   "metadata": {},
   "outputs": [
    {
     "name": "stdout",
     "output_type": "stream",
     "text": [
      "8\n"
     ]
    }
   ],
   "source": [
    "print(len(liste_de_lettres))"
   ]
  },
  {
   "cell_type": "code",
   "execution_count": 4,
   "metadata": {},
   "outputs": [
    {
     "name": "stdout",
     "output_type": "stream",
     "text": [
      "a\n"
     ]
    }
   ],
   "source": [
    "print(liste_de_lettres[0])"
   ]
  },
  {
   "cell_type": "code",
   "execution_count": 5,
   "metadata": {},
   "outputs": [
    {
     "name": "stdout",
     "output_type": "stream",
     "text": [
      "0 : a\n",
      "1 : b\n",
      "2 : c\n",
      "3 : d\n",
      "4 : e\n",
      "5 : f\n",
      "6 : g\n",
      "7 : h\n"
     ]
    }
   ],
   "source": [
    "for i in range(len(liste_de_lettres)):\n",
    "    print(i,':', liste_de_lettres[i])\n",
    "    "
   ]
  },
  {
   "cell_type": "markdown",
   "metadata": {},
   "source": [
    "# Enumerate"
   ]
  },
  {
   "cell_type": "markdown",
   "metadata": {},
   "source": [
    "Enumerate permet de boucler sur les éléments d'une liste tout en récuperant leur index "
   ]
  },
  {
   "cell_type": "code",
   "execution_count": 6,
   "metadata": {},
   "outputs": [
    {
     "name": "stdout",
     "output_type": "stream",
     "text": [
      "0 : a\n",
      "1 : b\n",
      "2 : c\n",
      "3 : d\n",
      "4 : e\n",
      "5 : f\n",
      "6 : g\n",
      "7 : h\n"
     ]
    }
   ],
   "source": [
    "for i,elem in enumerate(liste_de_lettres):\n",
    "    print(i, ':', elem)\n"
   ]
  },
  {
   "cell_type": "markdown",
   "metadata": {},
   "source": [
    "# Exercice 1 - Copie de liste sans doublons\n",
    "\n",
    "1) Déclarer puis afficher la liste suivante: \n",
    "```python\n",
    "   nombres = [1, 3, 4, 5, 6, 3, 8, 7, 4, 1, 2, 5, 6, 3, 4, 9, 6] \n",
    "```\n",
    "2) Créer puis afficher une nouvelle liste à partir de la première, \n",
    "   mais sans doublons (ie : sans deux fois le même élément). \n",
    "3) Affichez la liste sans doublon dans l'ordre décroissant\n",
    "\n",
    "## Pistes\n",
    "\n",
    "- La méthode de liste `count` permet de connaître le nombre d'occurence d'un élement dans une liste\n",
    "- Le mot-clé `in` permet de savoir si un élement est dans une liste\n",
    "- La méthode de liste `append` permet d'ajouter un élément à une liste\n",
    "- Les options de la méthode de liste `sort` sont documentées dans l'aide : `nombres.sort?` \n",
    "\n",
    "## Solution 1 :"
   ]
  },
  {
   "cell_type": "code",
   "execution_count": 7,
   "metadata": {},
   "outputs": [
    {
     "name": "stdout",
     "output_type": "stream",
     "text": [
      "1) [1, 3, 4, 5, 6, 3, 8, 7, 4, 1, 2, 5, 6, 3, 4, 9, 6]\n",
      "2) [1, 3, 4, 5, 6, 8, 7, 2, 9]\n",
      "2 bis) [1, 3, 4, 5, 6, 8, 7, 2, 9]\n",
      "3) [9, 8, 7, 6, 5, 4, 3, 2, 1]\n"
     ]
    }
   ],
   "source": [
    "# 1 - déclaration de la liste\n",
    "nombres = [1, 3, 4, 5, 6, 3, 8, 7, 4, 1, 2, 5, 6, 3, 4, 9, 6]\n",
    "print('1)', nombres)\n",
    "\n",
    "# 2 - option avec count pour créer une copie sans doublon\n",
    "nombres_sans_doublons = []\n",
    "for el in nombres:\n",
    "    if nombres_sans_doublons.count(el) < 1 :\n",
    "        nombres_sans_doublons.append(el)\n",
    "print('2)', nombres_sans_doublons)\n",
    "\n",
    "\n",
    "# 2 bis - option avec in pour créer une copie sans doublon\n",
    "nombres_sans_doublons = []\n",
    "for el in nombres:\n",
    "    if el not in nombres_sans_doublons:\n",
    "        nombres_sans_doublons.append(el)\n",
    "print('2 bis)', nombres_sans_doublons)\n",
    "\n",
    "# 3 - tri décroissant en place\n",
    "nombres_sans_doublons.sort(reverse=True)\n",
    "print('3)', nombres_sans_doublons)\n"
   ]
  },
  {
   "cell_type": "code",
   "execution_count": null,
   "metadata": {},
   "outputs": [],
   "source": []
  },
  {
   "cell_type": "markdown",
   "metadata": {},
   "source": [
    "# Exercice 2 : boucle sur liste\n",
    "\n",
    "Construire une liste de 33 elements: \n",
    "```\n",
    "[ \"monique 0\", \"therese 0\", \"jean claude 0\",\n",
    "\"monique 1\", \"therese 1\", \"jean claude 1\",\n",
    "\"monique 2\", \"therese 2\", \"jean claude 2\", ... ,\n",
    "\"monique 10\" \"therese 10\", \"jean claude 10\"]\n",
    "```"
   ]
  },
  {
   "cell_type": "code",
   "execution_count": null,
   "metadata": {},
   "outputs": [],
   "source": []
  },
  {
   "cell_type": "markdown",
   "metadata": {},
   "source": [
    "## Solution 2 :"
   ]
  },
  {
   "cell_type": "code",
   "execution_count": 8,
   "metadata": {},
   "outputs": [
    {
     "name": "stdout",
     "output_type": "stream",
     "text": [
      "['monique 0', 'therese 0', 'jean claude 0', 'monique 1', 'therese 1', 'jean claude 1', 'monique 2', 'therese 2', 'jean claude 2', 'monique 3', 'therese 3', 'jean claude 3', 'monique 4', 'therese 4', 'jean claude 4', 'monique 5', 'therese 5', 'jean claude 5', 'monique 6', 'therese 6', 'jean claude 6', 'monique 7', 'therese 7', 'jean claude 7', 'monique 8', 'therese 8', 'jean claude 8', 'monique 9', 'therese 9', 'jean claude 9', 'monique 10', 'therese 10', 'jean claude 10']\n"
     ]
    }
   ],
   "source": [
    "## solution 2\n",
    "liste_noms = []\n",
    "\n",
    "for i in range(11):\n",
    "    for nom in ['monique','therese','jean claude']:\n",
    "    \n",
    "        nom_num = nom + ' ' + str(i)\n",
    "        liste_noms.append(nom_num)\n",
    "        \n",
    "print(liste_noms)"
   ]
  },
  {
   "cell_type": "markdown",
   "metadata": {},
   "source": [
    "# Boucle sur dictionnaire"
   ]
  },
  {
   "cell_type": "markdown",
   "metadata": {},
   "source": [
    "Pour les dictionnaires, on a la possibilité de boucler \n",
    "- sur les clefs (keys)\n",
    "- sur les valeurs (values)\n",
    "- ou même sur les deux en même temps"
   ]
  },
  {
   "cell_type": "code",
   "execution_count": 9,
   "metadata": {},
   "outputs": [],
   "source": [
    "dict_alphabet = {'a':10,'b':20.0,'c':\"hello\"}"
   ]
  },
  {
   "cell_type": "markdown",
   "metadata": {},
   "source": [
    "## Boucle sur les clefs ('a','b','c')"
   ]
  },
  {
   "cell_type": "code",
   "execution_count": 10,
   "metadata": {},
   "outputs": [
    {
     "name": "stdout",
     "output_type": "stream",
     "text": [
      "a\n",
      "b\n",
      "c\n"
     ]
    }
   ],
   "source": [
    "for key in dict_alphabet.keys():\n",
    "    print(key)"
   ]
  },
  {
   "cell_type": "markdown",
   "metadata": {},
   "source": [
    "## Boucle sur les valeurs (1,2,3)"
   ]
  },
  {
   "cell_type": "code",
   "execution_count": 11,
   "metadata": {},
   "outputs": [
    {
     "name": "stdout",
     "output_type": "stream",
     "text": [
      "10\n",
      "20.0\n",
      "hello\n"
     ]
    }
   ],
   "source": [
    "for val in dict_alphabet.values():\n",
    "    print(val)\n",
    "    "
   ]
  },
  {
   "cell_type": "markdown",
   "metadata": {},
   "source": [
    "<div class=\"alert\">\n",
    "⚠️ On peut récupérer les valeurs dans le dictionnaire a partir des clefs, mais pas l'inverse.\n",
    "</div>"
   ]
  },
  {
   "cell_type": "code",
   "execution_count": 12,
   "metadata": {},
   "outputs": [
    {
     "name": "stdout",
     "output_type": "stream",
     "text": [
      "a 10\n",
      "b 20.0\n",
      "c hello\n"
     ]
    }
   ],
   "source": [
    "for key in dict_alphabet.keys():\n",
    "    print(key, dict_alphabet[key])\n",
    "    "
   ]
  },
  {
   "cell_type": "markdown",
   "metadata": {},
   "source": [
    "<div class=\"alert\">\n",
    "⚠️ Attention, un dictionnaire n'a pas d'ordre, on va donc boucler dans un ordre inconnu...\n",
    "</div>"
   ]
  },
  {
   "cell_type": "markdown",
   "metadata": {},
   "source": [
    "La totale: on boucle sur les deux a la fois"
   ]
  },
  {
   "cell_type": "code",
   "execution_count": 13,
   "metadata": {},
   "outputs": [
    {
     "name": "stdout",
     "output_type": "stream",
     "text": [
      "a 10\n",
      "b 20.0\n",
      "c hello\n"
     ]
    }
   ],
   "source": [
    "for key,val in dict_alphabet.items():\n",
    "    print (key,val)"
   ]
  },
  {
   "cell_type": "markdown",
   "metadata": {},
   "source": [
    "# Exercice 3 : inverser un dictionnaire.\n",
    "\n",
    "1) Définir une variable de type dictionnaire qui contient les traductions du français vers l'anglais qui suivent : \n",
    "```python\n",
    "dict_fr_to_en = { \"voiture\" : \"car\", \"maison\" : \"house\", \"vin\" : \"wine\" }\n",
    "```\n",
    "2) Utiliser une boucle pour créer un dictionnaire pour faire les traductions de l'anglais vers le français à partir de ce premier dictionnaire. On veut obtenir :\n",
    "```python\n",
    "dict_en_to_fr = { ‘car’ : ‘voiture’,  ‘house’ : ‘maison’, ‘wine’ : ‘vin’}\n",
    "```\n",
    "3) Exécuter les commandes suivantes pour tester votre nouveau dictionnaire\n",
    "```python\n",
    "print(dict_fr_to_en[\"voiture\"])\n",
    "print(dict_en_to_fr[\"car\"])\n",
    "```\n",
    "### Quelques pistes :\n",
    "\n",
    "- pour assigner une valeur à un dictionnaire : `dict_en_to_fr[key] = val`\n",
    "- pour créer un dictionnaire vide : `dict_en_to_fr = {}`\n"
   ]
  },
  {
   "cell_type": "markdown",
   "metadata": {},
   "source": [
    "# Solution 3"
   ]
  },
  {
   "cell_type": "code",
   "execution_count": 14,
   "metadata": {},
   "outputs": [
    {
     "name": "stdout",
     "output_type": "stream",
     "text": [
      "{'car': 'voiture', 'house': 'maison', 'wine': 'vin'}\n"
     ]
    }
   ],
   "source": [
    "dict_fr_to_en = { \"voiture\" : \"car\", \"maison\" : \"house\", \"vin\" : \"wine\"}\n",
    "\n",
    "dict_en_to_fr = {}\n",
    "\n",
    "for key,value in dict_fr_to_en.items():\n",
    "    dict_en_to_fr[value] = key\n",
    "    \n",
    "print(dict_en_to_fr)"
   ]
  },
  {
   "cell_type": "markdown",
   "metadata": {},
   "source": [
    "# Compréhension de liste\n",
    "\n",
    "La compréhension de liste est une notion qui permet d'écrire une boucle de manière très compressée : là ou une syntaxe classique de boucle nous conduirait à écrire le code suivant :\n",
    "\n",
    "```python\n",
    "ma_nouvelle_liste = []\n",
    "for item in ma_liste:\n",
    "    if condition(item):\n",
    "        nouvel_item = function(item)\n",
    "        ma_nouvelle_liste.append(nouvel_item)\n",
    "```\n",
    "\n",
    "La compréhension de liste nous permet un code équivalent en une seule ligne :\n",
    "\n",
    "\n",
    "```python\n",
    "ma_nouvelle_liste = [ function(item) for item in ma_liste if condition(item) ]\n",
    "```\n",
    "\n",
    "### Par exemple :"
   ]
  },
  {
   "cell_type": "code",
   "execution_count": 15,
   "metadata": {},
   "outputs": [
    {
     "name": "stdout",
     "output_type": "stream",
     "text": [
      "[0, 1, 4, 9, 16]\n"
     ]
    }
   ],
   "source": [
    "carres = [ i**2 for i in range(5)]\n",
    "print(carres)"
   ]
  },
  {
   "cell_type": "markdown",
   "metadata": {},
   "source": []
  },
  {
   "cell_type": "markdown",
   "metadata": {},
   "source": [
    "# Exercice 4 : compréhension de listes\n",
    "\n",
    "liste = [\"a\", \"yoda\", \"foo\", \"b\", \"c\", \"b\", \"d\", \"d\"] \n",
    "\n",
    "En une seule ligne, écrire l'instruction qui permet d'obtenir une nouvelle liste qui : \n",
    "- contient tous les éléments de liste de longueur inférieure ou égale à 2 \n",
    "\n",
    "- contient tous les éléments de liste qui ne sont pas \"d\" \n",
    "\n",
    "- contient tous les éléments de liste qui se répètent plusieurs fois"
   ]
  },
  {
   "cell_type": "markdown",
   "metadata": {},
   "source": [
    "## Solution 4 :"
   ]
  },
  {
   "cell_type": "code",
   "execution_count": 16,
   "metadata": {},
   "outputs": [
    {
     "name": "stdout",
     "output_type": "stream",
     "text": [
      "['a', 'b', 'c', 'b', 'd', 'd']\n",
      "['a', 'yoda', 'foo', 'b', 'c', 'b']\n",
      "['b', 'b', 'd', 'd']\n"
     ]
    }
   ],
   "source": [
    "liste = [\"a\", \"yoda\", \"foo\", \"b\", \"c\", \"b\", \"d\", \"d\"] \n",
    "\n",
    "l=[el for el in liste if len(el)<=2]\n",
    "print(l)\n",
    "l=[el for el in liste if el !=\"d\"]\n",
    "print(l)\n",
    "l=[el for el in liste if liste.count(el)>1]\n",
    "print(l)"
   ]
  },
  {
   "cell_type": "markdown",
   "metadata": {},
   "source": [
    "# Les subtilités de range\n",
    "\n",
    "Vous avez pu voir que quand on a affiché range(10), on avait en fait les valeurs 0,1, ... , 9\n",
    "\n"
   ]
  },
  {
   "cell_type": "code",
   "execution_count": 17,
   "metadata": {},
   "outputs": [
    {
     "name": "stdout",
     "output_type": "stream",
     "text": [
      "0\n",
      "1\n",
      "2\n",
      "3\n",
      "4\n",
      "5\n",
      "6\n",
      "7\n",
      "8\n",
      "9\n"
     ]
    }
   ],
   "source": [
    "for i in range(10):\n",
    "    print(i)"
   ]
  },
  {
   "cell_type": "markdown",
   "metadata": {},
   "source": [
    "Ce qui nous fait bien 10 éléments (qui correspondent au '10' que l'on a donné en argument), en partant de 0. \n",
    "\n",
    "Ce fonctionnement de python peut sembler bizarre à première vue, mais c'est en fait très pratique pour spécifier le nombre total d'itérations. Par exemple, si on veut que python nous dise 3 fois bravo on peut écrire : \n"
   ]
  },
  {
   "cell_type": "code",
   "execution_count": 18,
   "metadata": {},
   "outputs": [
    {
     "name": "stdout",
     "output_type": "stream",
     "text": [
      "Bravo !\n",
      "Bravo !\n",
      "Bravo !\n"
     ]
    }
   ],
   "source": [
    "{ print('Bravo !') for i in range(3) };"
   ]
  },
  {
   "cell_type": "markdown",
   "metadata": {},
   "source": [
    "\n",
    "## Range avec plusieurs arguments"
   ]
  },
  {
   "cell_type": "markdown",
   "metadata": {},
   "source": [
    "\n",
    "L'aide de range propose plusieurs signatures :\n",
    "\n",
    "- La signature avec un seul argument que nous avons utilisée jusqu'ici : `range(stop)`.\n",
    "- Une signature avec 2 arguments : `range(start, stop)`\n",
    "- Une signature avec 3 arguments : `range(start, stop, step)`"
   ]
  },
  {
   "cell_type": "code",
   "execution_count": 19,
   "metadata": {},
   "outputs": [
    {
     "name": "stdout",
     "output_type": "stream",
     "text": [
      "\u001b[31mInit signature:\u001b[39m range(self, /, *args, **kwargs)\n",
      "\u001b[31mDocstring:\u001b[39m     \n",
      "range(stop) -> range object\n",
      "range(start, stop[, step]) -> range object\n",
      "\n",
      "Return an object that produces a sequence of integers from start (inclusive)\n",
      "to stop (exclusive) by step.  range(i, j) produces i, i+1, i+2, ..., j-1.\n",
      "start defaults to 0, and stop is omitted!  range(4) produces 0, 1, 2, 3.\n",
      "These are exactly the valid indices for a list of 4 elements.\n",
      "When step is given, it specifies the increment (or decrement).\n",
      "\u001b[31mType:\u001b[39m           type\n",
      "\u001b[31mSubclasses:\u001b[39m     "
     ]
    }
   ],
   "source": [
    "?range"
   ]
  },
  {
   "cell_type": "markdown",
   "metadata": {},
   "source": [
    "\n",
    "#### La version à 2 arguments : `range(start, stop)`\n",
    "\n",
    "On peut l'interpréter comme un intervalle fermé à gauche et ouvert à droite : [ start:stop ["
   ]
  },
  {
   "cell_type": "code",
   "execution_count": 20,
   "metadata": {},
   "outputs": [
    {
     "name": "stdout",
     "output_type": "stream",
     "text": [
      "5\n",
      "6\n",
      "7\n",
      "8\n",
      "9\n"
     ]
    }
   ],
   "source": [
    "for i in range(5,10):\n",
    "    print(i)\n"
   ]
  },
  {
   "cell_type": "markdown",
   "metadata": {},
   "source": [
    "<div class=\"alert\">\n",
    "⚠️ On indique la première valeur (5) qui est incluse, mais la derniere valeur (10) est EXCLUE\n",
    "</div>\n",
    "\n",
    "L'explication tient au fait que `range(stop)` avec un seul argument est équivalent à `range(0, stop)`, or dans le cas où on n'a qu'un seul argument, on veut réellement préciser le nombre d'itérations N, \n",
    "où N = stop - start, et on veut commencer à 0 comme l'indexation de nos listes. \n",
    "\n",
    "Si range(N) renvoyait [1, 2, ... N ] on devrait utiliser des `[i-1]` pour accéder aux éléments de nos listes, \n",
    "ce serait beaucoup moins pratique.\n",
    "\n",
    "<div class=\"alert\">\n",
    "⚠️ range(20,2) retourne une liste vide (start = 20, stop = 2) : dès le premier élément on a dépassé la valeur de stop.\n",
    "</div>"
   ]
  },
  {
   "cell_type": "markdown",
   "metadata": {},
   "source": [
    "\n",
    "#### La version à 3 arguments : `range(start, stop, step)`\n",
    "\n",
    "Le troisième argument est le saut à effecter d'une itération à la suivante"
   ]
  },
  {
   "cell_type": "code",
   "execution_count": 21,
   "metadata": {},
   "outputs": [
    {
     "name": "stdout",
     "output_type": "stream",
     "text": [
      "5\n",
      "7\n",
      "9\n",
      "11\n",
      "13\n",
      "15\n",
      "17\n",
      "19\n"
     ]
    }
   ],
   "source": [
    "for i in range(5,20,2):\n",
    "    print(i)\n"
   ]
  },
  {
   "cell_type": "code",
   "execution_count": 22,
   "metadata": {},
   "outputs": [
    {
     "name": "stdout",
     "output_type": "stream",
     "text": [
      "20\n",
      "19\n",
      "18\n",
      "17\n",
      "16\n",
      "15\n",
      "14\n",
      "13\n",
      "12\n",
      "11\n",
      "10\n",
      "9\n",
      "8\n",
      "7\n",
      "6\n",
      "5\n",
      "4\n",
      "3\n"
     ]
    }
   ],
   "source": [
    "for i in range(20,2,-1):\n",
    "    print(i)\n",
    "    "
   ]
  },
  {
   "cell_type": "markdown",
   "metadata": {},
   "source": [
    "### Équivalence des signatures de `range`\n",
    "\n",
    "En réalité toutes ces signatures se ramènent à celle à 3 arguments :\n",
    "- `range(stop)` équivaut à `range(0, stop, 1)` \n",
    "- `range(start, stop)` équivaut à `range(start, stop, 1)`"
   ]
  },
  {
   "cell_type": "markdown",
   "metadata": {},
   "source": [
    "# Indexation des éléments"
   ]
  },
  {
   "cell_type": "markdown",
   "metadata": {},
   "source": [
    "On peut acceder à des elements par leur index, entre 0 et N-1 si on a N elements dans une liste"
   ]
  },
  {
   "cell_type": "code",
   "execution_count": 23,
   "metadata": {},
   "outputs": [
    {
     "name": "stdout",
     "output_type": "stream",
     "text": [
      "a\n"
     ]
    }
   ],
   "source": [
    "liste_de_lettres = ['a','b','c','d','e','f','g','h']\n",
    "\n",
    "print(liste_de_lettres[0])"
   ]
  },
  {
   "cell_type": "code",
   "execution_count": 24,
   "metadata": {},
   "outputs": [
    {
     "name": "stdout",
     "output_type": "stream",
     "text": [
      "b\n"
     ]
    }
   ],
   "source": [
    "print(liste_de_lettres[1])"
   ]
  },
  {
   "cell_type": "code",
   "execution_count": 25,
   "metadata": {
    "tags": [
     "raises-exception"
    ]
   },
   "outputs": [
    {
     "ename": "IndexError",
     "evalue": "list index out of range",
     "output_type": "error",
     "traceback": [
      "\u001b[31m---------------------------------------------------------------------------\u001b[39m",
      "\u001b[31mIndexError\u001b[39m                                Traceback (most recent call last)",
      "\u001b[36mCell\u001b[39m\u001b[36m \u001b[39m\u001b[32mIn[25]\u001b[39m\u001b[32m, line 2\u001b[39m\n\u001b[32m      1\u001b[39m \u001b[38;5;66;03m## attention, lettres[N] - avec N la longueur de la liste - plante \u001b[39;00m\n\u001b[32m----> \u001b[39m\u001b[32m2\u001b[39m \u001b[38;5;28mprint\u001b[39m(\u001b[43mliste_de_lettres\u001b[49m\u001b[43m[\u001b[49m\u001b[32;43m8\u001b[39;49m\u001b[43m]\u001b[49m)\n",
      "\u001b[31mIndexError\u001b[39m: list index out of range"
     ]
    }
   ],
   "source": [
    "## attention, lettres[N] - avec N la longueur de la liste - plante \n",
    "print(liste_de_lettres[8])"
   ]
  },
  {
   "cell_type": "markdown",
   "metadata": {},
   "source": [
    "-1 a un comportement spécial: il permet d'indiquer le dernier élément de la liste \n"
   ]
  },
  {
   "cell_type": "code",
   "execution_count": 26,
   "metadata": {},
   "outputs": [
    {
     "name": "stdout",
     "output_type": "stream",
     "text": [
      "h\n"
     ]
    }
   ],
   "source": [
    "print(liste_de_lettres[-1])\n"
   ]
  },
  {
   "cell_type": "markdown",
   "metadata": {},
   "source": [
    "Il est donc équivalent à len(lettres)-1, mais quelle que soit la longueur de la liste"
   ]
  },
  {
   "cell_type": "code",
   "execution_count": 27,
   "metadata": {},
   "outputs": [
    {
     "name": "stdout",
     "output_type": "stream",
     "text": [
      "h\n"
     ]
    }
   ],
   "source": [
    "len_list = len(liste_de_lettres)\n",
    "print(liste_de_lettres[len_list-1])"
   ]
  },
  {
   "cell_type": "code",
   "execution_count": 28,
   "metadata": {},
   "outputs": [
    {
     "name": "stdout",
     "output_type": "stream",
     "text": [
      "g\n"
     ]
    }
   ],
   "source": [
    "# et on peut faire du moonwalk...\n",
    "print(liste_de_lettres[-2])"
   ]
  },
  {
   "cell_type": "markdown",
   "metadata": {},
   "source": [
    "# Slicing sur liste"
   ]
  },
  {
   "cell_type": "markdown",
   "metadata": {},
   "source": [
    "Quand on veut récupérer plusieurs éléments (dans un intervalle par exemple), on parle de **slicing**.\n",
    "\n",
    "Un intervalle est specifié par start:stop(:step) AVEC STOP NON INCLUS (comme range)\n",
    "\n",
    "Par défaut, si omis, et si step est omis ou positif\n",
    "- start = 0 - comme pour range  - ex. :stop ou :stop:step ou ::step\n",
    "- stop = la longueur de la liste - ex. start: ou start::step ou ::step\n",
    "- step = 1 (comme pour range) - ex start: ou start:stop\n"
   ]
  },
  {
   "cell_type": "code",
   "execution_count": 29,
   "metadata": {},
   "outputs": [
    {
     "name": "stdout",
     "output_type": "stream",
     "text": [
      "[1, 3, 5]\n"
     ]
    }
   ],
   "source": [
    "liste_de_nombres = [0,1,2,3,4,5,6,7] \n",
    "print(liste_de_nombres[1:7:2])   "
   ]
  },
  {
   "cell_type": "code",
   "execution_count": 30,
   "metadata": {},
   "outputs": [
    {
     "name": "stdout",
     "output_type": "stream",
     "text": [
      "[1, 3, 5, 7]\n"
     ]
    }
   ],
   "source": [
    "#tous les 2 elements a partir du second \n",
    "print(liste_de_nombres[1::2])"
   ]
  },
  {
   "cell_type": "code",
   "execution_count": 31,
   "metadata": {},
   "outputs": [
    {
     "name": "stdout",
     "output_type": "stream",
     "text": [
      "[3, 4]\n"
     ]
    }
   ],
   "source": [
    "## a partir du 4eme element et jusqu'6eme NON INCLUS\n",
    "print(liste_de_nombres[3:5])"
   ]
  },
  {
   "cell_type": "code",
   "execution_count": 32,
   "metadata": {},
   "outputs": [
    {
     "name": "stdout",
     "output_type": "stream",
     "text": [
      "[0, 1, 2, 3, 4]\n"
     ]
    }
   ],
   "source": [
    "## implicitement, start = 0 et step = 1\n",
    "print(liste_de_nombres[:5])"
   ]
  },
  {
   "cell_type": "markdown",
   "metadata": {},
   "source": [
    "Si on indique un step négatif, on va dans l'ordre décroissant\n"
   ]
  },
  {
   "cell_type": "code",
   "execution_count": 33,
   "metadata": {},
   "outputs": [
    {
     "name": "stdout",
     "output_type": "stream",
     "text": [
      "[5, 4]\n"
     ]
    }
   ],
   "source": [
    "print(liste_de_nombres[5:3:-1])\n"
   ]
  },
  {
   "cell_type": "markdown",
   "metadata": {},
   "source": [
    "<div class=\"alert\">\n",
    "⚠️ Attention ! Cette fois, le plus grand index (5) est inclus - c'est le plus petit index (3) qui est exclu \n",
    "</div>\n",
    "\n",
    "Si step est négatif, alors par défaut :\n",
    "- start = -1 (index du dernier élément de la liste)\n",
    "- stop = -N-1 (pour aller jusqu'au premier élément inclus)"
   ]
  },
  {
   "cell_type": "code",
   "execution_count": 34,
   "metadata": {},
   "outputs": [
    {
     "name": "stdout",
     "output_type": "stream",
     "text": [
      "[7, 6, 5, 4, 3, 2, 1, 0]\n"
     ]
    }
   ],
   "source": [
    "## ordre inverse de la liste\n",
    "print(liste_de_nombres[::-1])"
   ]
  },
  {
   "cell_type": "markdown",
   "metadata": {},
   "source": [
    "<div class=\"alert\">\n",
    "⚠️ Il faut indiquer un start ET un stop pour indiquer un step, avec 2 fois ':' . Si deux valeurs (et un seul ':') seulement sont indiqués, par défaut c'est start et stop\n",
    "</div>"
   ]
  },
  {
   "cell_type": "code",
   "execution_count": 35,
   "metadata": {},
   "outputs": [
    {
     "name": "stdout",
     "output_type": "stream",
     "text": [
      "[5, 6]\n"
     ]
    }
   ],
   "source": [
    "print(liste_de_nombres[5:-1])\n",
    "## On part du 6eme élement jusqu'a l'avant dernier (signification du -1)"
   ]
  },
  {
   "cell_type": "code",
   "execution_count": 36,
   "metadata": {},
   "outputs": [
    {
     "name": "stdout",
     "output_type": "stream",
     "text": [
      "[5, 4, 3, 2, 1]\n"
     ]
    }
   ],
   "source": [
    "print(liste_de_nombres[5:0:-1])\n",
    "## on part du 6eme élement et on va jusqu'au premier (non inclus) dans l'ordre inverse\n"
   ]
  },
  {
   "cell_type": "code",
   "execution_count": 37,
   "metadata": {},
   "outputs": [
    {
     "name": "stdout",
     "output_type": "stream",
     "text": [
      "[5, 4, 3, 2, 1, 0]\n"
     ]
    }
   ],
   "source": [
    "\n",
    "####### comment on fait pour inclure aussi la première valeur ???\n",
    "print(liste_de_nombres[5::-1])"
   ]
  },
  {
   "cell_type": "markdown",
   "metadata": {},
   "source": [
    "# Exercice 5 :  slicing + concat\n",
    "\n",
    "décoder le message suivant:\n",
    "\n",
    "l = [\"python\", \"compris\", \"c'est\", \"parfaitement\",   \"super\",   \"j'ai\"]  \n",
    "\n",
    "## Solution 5"
   ]
  },
  {
   "cell_type": "code",
   "execution_count": 38,
   "metadata": {},
   "outputs": [
    {
     "name": "stdout",
     "output_type": "stream",
     "text": [
      "[\"c'est\", 'super', \"j'ai\", 'parfaitement', 'compris', 'python']\n"
     ]
    }
   ],
   "source": [
    "l = [\"python\", \"c'est\", \"compris\",  \"super\", \"parfaitement\", \"j'ai\"]  \n",
    "\n",
    "print(l[1::2] + l[4::-2])"
   ]
  },
  {
   "cell_type": "markdown",
   "metadata": {},
   "source": [
    "# Exercice 6 : copie / clonage\n",
    "\n",
    "Créez une liste avec 3 éléments.\n",
    "\n",
    "Faites une copie de cette liste.\n",
    "\n",
    "Changez un des éléments dans la liste originelle.\n",
    "\n",
    "Que constatez-vous sur la copie ?\n",
    "\n",
    "\n",
    "## Solution 6 :"
   ]
  },
  {
   "cell_type": "code",
   "execution_count": 39,
   "metadata": {},
   "outputs": [
    {
     "data": {
      "text/plain": [
       "['yep', 'yip', 'yop']"
      ]
     },
     "execution_count": 39,
     "metadata": {},
     "output_type": "execute_result"
    }
   ],
   "source": [
    "l = ['yep', 'yip', 'yop']\n",
    "l"
   ]
  },
  {
   "cell_type": "code",
   "execution_count": 40,
   "metadata": {},
   "outputs": [
    {
     "data": {
      "text/plain": [
       "['yep', 'yip', 'yop']"
      ]
     },
     "execution_count": 40,
     "metadata": {},
     "output_type": "execute_result"
    }
   ],
   "source": [
    "l2 = l.copy()\n",
    "l2"
   ]
  },
  {
   "cell_type": "code",
   "execution_count": 41,
   "metadata": {},
   "outputs": [
    {
     "name": "stdout",
     "output_type": "stream",
     "text": [
      "['yep', 'yip', 'yop']\n",
      "['yep', 'zut', 'yop']\n"
     ]
    }
   ],
   "source": [
    "l2[1] = 'zut'\n",
    "print(l)\n",
    "print(l2)"
   ]
  },
  {
   "cell_type": "markdown",
   "metadata": {},
   "source": [
    "# Exercice 7 : slicing de str\n",
    "On a la liste suivante : \n",
    "\n",
    "mot = \"Amanda\" \n",
    "\n",
    "Utilisez le slicing pour obtenir les chaines suivantes : \n",
    "+ A \n",
    "+ a \n",
    "+ man \n",
    "+ Aa \n",
    "+ adnamA \n",
    "+ nda \n",
    "+ anm \n",
    "+ aa \n",
    "+ da\n",
    "\n",
    "## Solution 7 :"
   ]
  },
  {
   "cell_type": "code",
   "execution_count": 42,
   "metadata": {},
   "outputs": [
    {
     "name": "stdout",
     "output_type": "stream",
     "text": [
      "A\n",
      "a\n",
      "man\n",
      "Aa\n",
      "adnamA\n",
      "nda\n",
      "anm\n",
      "aa\n",
      "da\n"
     ]
    }
   ],
   "source": [
    "mot = \"Amanda\"\n",
    "print(mot[0])\n",
    "print(mot[-1])\n",
    "print(mot[1:4])\n",
    "print(mot[0:4:2])\n",
    "print(mot[::-1])\n",
    "print(mot[3:])\n",
    "print(mot[::-2])\n",
    "print(mot[::-3])\n",
    "print(mot[-2:])"
   ]
  },
  {
   "cell_type": "code",
   "execution_count": null,
   "metadata": {},
   "outputs": [],
   "source": []
  }
 ],
 "metadata": {
  "kernelspec": {
   "display_name": "formPy2025",
   "language": "python",
   "name": "python3"
  },
  "language_info": {
   "codemirror_mode": {
    "name": "ipython",
    "version": 3
   },
   "file_extension": ".py",
   "mimetype": "text/x-python",
   "name": "python",
   "nbconvert_exporter": "python",
   "pygments_lexer": "ipython3",
   "version": "3.12.3"
  }
 },
 "nbformat": 4,
 "nbformat_minor": 4
}
