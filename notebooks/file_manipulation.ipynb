{
 "cells": [
  {
   "cell_type": "markdown",
   "metadata": {},
   "source": [
    "\n",
    "# Manipulation de fichiers\n"
   ]
  },
  {
   "cell_type": "markdown",
   "metadata": {},
   "source": [
    "# open\n",
    "\n",
    "Le mode est donné sous la forme d'une chaîne de caractères. Voici les principaux modes :\n",
    "\n",
    "    'r' : ouverture en lecture (Read).\n",
    "\n",
    "    'w' : ouverture en écriture (Write). Le contenu du fichier est écrasé. Si le fichier n'existe pas, il est créé.\n",
    "\n",
    "    'a' : ouverture en écriture en mode ajout (Append). On écrit à la fin du fichier sans écraser l'ancien contenu du fichier. Si le fichier n'existe pas, il est créé.\n",
    "    "
   ]
  },
  {
   "cell_type": "code",
   "execution_count": 5,
   "metadata": {},
   "outputs": [
    {
     "data": {
      "text/plain": [
       "3"
      ]
     },
     "execution_count": 5,
     "metadata": {},
     "output_type": "execute_result"
    }
   ],
   "source": [
    "f = open(\"toto.txt\",mode='w')\n",
    "f.write('yep')"
   ]
  },
  {
   "cell_type": "markdown",
   "metadata": {},
   "source": [
    "# close\n",
    "\n",
    "Lorsque l'on a fini de manipuler un fichier ouvert, il est normalement necessaire de le fermer, pour liberer les ressources liées à ce fichier"
   ]
  },
  {
   "cell_type": "code",
   "execution_count": 6,
   "metadata": {},
   "outputs": [],
   "source": [
    "f.close()"
   ]
  },
  {
   "cell_type": "markdown",
   "metadata": {},
   "source": [
    "# with"
   ]
  },
  {
   "cell_type": "markdown",
   "metadata": {},
   "source": [
    "La \"vraie\" maniere \"pythonique\" de faire consiste a utiliser le mot-clé \"with\". Ceci evite d'avoir à fermer explicitement le fichier avec close. C'est un gestionnaire de contexte, il encapsule une série d'opération et gère les exceptions."
   ]
  },
  {
   "cell_type": "code",
   "execution_count": 7,
   "metadata": {},
   "outputs": [
    {
     "name": "stdout",
     "output_type": "stream",
     "text": [
      "False\n",
      "True\n"
     ]
    }
   ],
   "source": [
    "with open(\"toto.txt\",'r') as f:  # le fichier existe à l'avance sinon error\n",
    "    print(f.closed) ## closed (et pas 'close') est un marqueur booleen indiquant si le fichier est ouvert ou fermé\n",
    "print(f.closed)\n"
   ]
  },
  {
   "cell_type": "markdown",
   "metadata": {},
   "source": [
    "# read"
   ]
  },
  {
   "cell_type": "markdown",
   "metadata": {},
   "source": [
    "Tout le contenu du fichier est lu d'un coup"
   ]
  },
  {
   "cell_type": "code",
   "execution_count": 8,
   "metadata": {},
   "outputs": [
    {
     "name": "stdout",
     "output_type": "stream",
     "text": [
      "val :  yep\n"
     ]
    }
   ],
   "source": [
    "### je veux voir le contenu de mon fichier\n",
    "with open(\"toto.txt\",'r') as f:\n",
    "    val = f.read() \n",
    "print('val : ', val)"
   ]
  },
  {
   "cell_type": "markdown",
   "metadata": {},
   "source": [
    "# readlines"
   ]
  },
  {
   "cell_type": "markdown",
   "metadata": {},
   "source": [
    "Le contenu du fichier est lu ligne par ligne"
   ]
  },
  {
   "cell_type": "code",
   "execution_count": 9,
   "metadata": {},
   "outputs": [],
   "source": [
    "# let write a multi line\n",
    "txt = \"\"\"yep\n",
    "yop\n",
    "yip\n",
    "\"\"\"\n",
    "with open(\"toto2.txt\",'w') as f:\n",
    "    f.write(txt)"
   ]
  },
  {
   "cell_type": "code",
   "execution_count": 10,
   "metadata": {},
   "outputs": [
    {
     "name": "stdout",
     "output_type": "stream",
     "text": [
      "['yep\\n', 'yop\\n', 'yip\\n']\n"
     ]
    }
   ],
   "source": [
    "### je veux voir le contenu de mon fichier ligne par ligne\n",
    "f = open(\"toto2.txt\",'r')\n",
    "lines = f.readlines()\n",
    "f.close()\n",
    "print(lines)"
   ]
  },
  {
   "cell_type": "markdown",
   "metadata": {},
   "source": [
    "### Exo tampon\n",
    "\n",
    "Ecrivez la cellule précédente avec le mot-clef \"with\""
   ]
  },
  {
   "cell_type": "markdown",
   "metadata": {},
   "source": [
    "### Solution Exo tampon"
   ]
  },
  {
   "cell_type": "code",
   "execution_count": 11,
   "metadata": {},
   "outputs": [
    {
     "name": "stdout",
     "output_type": "stream",
     "text": [
      "['yep\\n', 'yop\\n', 'yip\\n']\n"
     ]
    }
   ],
   "source": [
    "### je veux voir le contenu de mon fichier ligne par ligne\n",
    "with open(\"toto2.txt\",'r') as f:\n",
    "    lines = f.readlines()\n",
    "print(lines)"
   ]
  },
  {
   "cell_type": "markdown",
   "metadata": {},
   "source": [
    "# Lecture string/bytes et importance de l'encoding (UTF-8)\n",
    "\n",
    "str = Pour le texte humain (multi-langue, symboles).\n",
    "\n",
    "bytes = Pour les données binaires (réseau, fichiers, chiffrement)."
   ]
  },
  {
   "cell_type": "code",
   "execution_count": 12,
   "metadata": {},
   "outputs": [
    {
     "name": "stdout",
     "output_type": "stream",
     "text": [
      "b\"Ceci est une chaine d'octets\"\n",
      "<class 'bytes'>\n",
      "115\n",
      "Ceci est une chaine de caractères particuliers 你好 صباح الخير\n",
      "<class 'str'>\n",
      "ي\n"
     ]
    }
   ],
   "source": [
    "chaine1 = b\"Ceci est une chaine d'octets\"\n",
    "\n",
    "print(chaine1)\n",
    "print(type(chaine1))\n",
    "print(chaine1[-1])\n",
    "\n",
    "chaine2 = \"Ceci est une chaine de caractères particuliers 你好 صباح الخير\"\n",
    "\n",
    "print(chaine2)\n",
    "print(type(chaine2))\n",
    "print(chaine2[-2])\n"
   ]
  },
  {
   "cell_type": "markdown",
   "metadata": {},
   "source": [
    "### Exo tampon\n",
    "\n",
    "Quel est le code binaire de la lettre \"c\" ?"
   ]
  },
  {
   "cell_type": "markdown",
   "metadata": {},
   "source": [
    "### Solution Exo tampon"
   ]
  },
  {
   "cell_type": "code",
   "execution_count": 13,
   "metadata": {},
   "outputs": [
    {
     "name": "stdout",
     "output_type": "stream",
     "text": [
      "99\n"
     ]
    }
   ],
   "source": [
    "print(chaine1[2])"
   ]
  },
  {
   "cell_type": "markdown",
   "metadata": {},
   "source": [
    "## Fichiers en Python : Texte vs Binaire\n",
    "\n",
    "Un **fichier** permet de stocker des données de manière persistante. On peut distinguer deux grands types :\n",
    "\n",
    "- **Fichiers texte** (`.txt`, `.csv`, `.json`) : lisibles par l'humain, pratiques pour l’échange de données, mais plus volumineux et plus lents à lire/écrire.\n",
    "- **Fichiers binaires** (`.bin`, `.pkl`, `.npy`) : plus compacts et rapides, parfaits pour stocker des objets complexes, mais illisibles sans programme.\n",
    "\n",
    "### Histoire interaction avec les ordinateurs, en bref\n",
    "- Au début, tout était binaire : les machines lisaient directement les 0 et 1.\n",
    "- Avec l’arrivée de normes comme **ASCII** (puis **UTF-8**), on a pu écrire du texte dans des fichiers lisibles.\n",
    "- Aujourd’hui, les deux formats coexistent selon les besoins : lisibilité humaine ou performance machine.\n"
   ]
  },
  {
   "cell_type": "markdown",
   "metadata": {},
   "source": [
    "| Époque        | Interaction humaine               | Remarques                            |\n",
    "|---------------|------------------------------------|---------------------------------------|\n",
    "| 1940–1950     | Câblage, interrupteurs             | Programmation physique, très lente   |\n",
    "| 1950–1960     | Cartes perforées                   | Codage manuel des instructions       |\n",
    "| 1960+         | Claviers, terminaux, imprimantes   | Apparition du texte, norme ASCII     |\n"
   ]
  },
  {
   "cell_type": "markdown",
   "metadata": {},
   "source": [
    "## Comment pensait-on en binaire ?\n",
    "\n",
    "Au début de l’informatique, les programmeurs ne retenaient pas tout en 0 et 1 par cœur, mais ils apprenaient à **traduire chaque opération en code binaire**, compréhensible par la machine. On appelait ça du **langage machine**.\n",
    "\n",
    "\n",
    "### Exemple simple : un mini-processeur fictif\n",
    "\n",
    "Imaginons un processeur avec ces instructions :\n",
    "\n",
    "| Instruction       | Code binaire | Signification                   |\n",
    "|-------------------|--------------|----------------------------------|\n",
    "| `0001`            | Charger      | Charge une valeur en mémoire     |\n",
    "| `0010`            | Ajouter      | Ajoute une valeur                |\n",
    "| `0011`            | Sauvegarder  | Sauvegarde le résultat           |\n",
    "| `1111`            | Fin          | Termine le programme             |\n",
    "\n",
    "Les valeurs sont aussi codées sur 4 bits.  \n",
    "Par exemple : `0001` = 1, `0010` = 2, `0100` = 4, etc.\n",
    "\n",
    "\n",
    "### Objectif : additionner 1 + 2\n",
    "\n",
    "Voici ce que le programmeur devait écrire :    \n",
    "0001 0001 # Charger 1  \n",
    "0010 0010 # Ajouter 2  \n",
    "0011 0100 # Sauvegarder dans l’adresse 4  \n",
    "1111 0000 # Fin du programme  \n",
    "\n",
    "---"
   ]
  },
  {
   "cell_type": "markdown",
   "metadata": {},
   "source": [
    "####  ASCII ou l'esperanto informatique des années 60\n",
    "\n",
    "L’ASCII (American Standard Code for Information Interchange) est un format d’encodage historique (1963) qui associe des caractères (lettres, chiffres, symboles) à des nombres.\n",
    "\n",
    "7 bits par caractère → 128 combinaisons possibles (de 0 à 127).\n",
    "\n",
    "Exemple :\n",
    "\n",
    "    A = 65 (en décimal) = 1000001 (en binaire).\n",
    "\n",
    "    a = 97, 0 = 48, @ = 64.\n",
    "\n",
    "\n",
    "- Fondement des textes numériques : Fichiers .txt, code source, protocoles réseau.\n",
    "\n",
    "- Communication entre systèmes : Permet à des machines hétérogènes d’échanger du texte.\n",
    "\n",
    "- Limitations : Ne gère pas les accents (è, ñ) ni les alphabets non-latins (→ Unicode aujourd’hui).\n"
   ]
  },
  {
   "cell_type": "markdown",
   "metadata": {},
   "source": [
    "### UTF-8\n",
    "\n",
    "- ASCII (7 bits) encode 128 caractères basiques (anglais), de façon unique.\n",
    "- Unicode étend cela à tous les alphabets (🌍, é, 字).\n",
    "- UTF-8 est un encodage d’Unicode rétro-compatible avec ASCII (1 byte pour ASCII, 2-4 bytes pour les autres)."
   ]
  },
  {
   "cell_type": "code",
   "execution_count": 14,
   "metadata": {},
   "outputs": [],
   "source": [
    "# lets put this 2 object in the same file\n",
    "with open(\"chaine.txt\",'wb') as f:\n",
    "    f.write(chaine1)\n",
    "\n",
    "with open(\"chaine.txt\",'a') as f:\n",
    "    f.write('\\n')\n",
    "    f.write(chaine2)"
   ]
  },
  {
   "cell_type": "code",
   "execution_count": 15,
   "metadata": {},
   "outputs": [
    {
     "name": "stdout",
     "output_type": "stream",
     "text": [
      "Ceci est une chaine d'octets\n",
      "Ceci est une chaine de caractères particuliers 你好 صباح الخير <class 'str'> 89\n"
     ]
    }
   ],
   "source": [
    "with open('chaine.txt', mode= 'r', encoding='utf8') as f:\n",
    "    txt = f.read()\n",
    "print(txt, type(txt), len(txt))"
   ]
  },
  {
   "cell_type": "code",
   "execution_count": 16,
   "metadata": {},
   "outputs": [
    {
     "name": "stdout",
     "output_type": "stream",
     "text": [
      "b\"Ceci est une chaine d'octets\\nCeci est une chaine de caract\\xc3\\xa8res particuliers \\xe4\\xbd\\xa0\\xe5\\xa5\\xbd \\xd8\\xb5\\xd8\\xa8\\xd8\\xa7\\xd8\\xad \\xd8\\xa7\\xd9\\x84\\xd8\\xae\\xd9\\x8a\\xd8\\xb1\" <class 'bytes'> 103\n"
     ]
    }
   ],
   "source": [
    "with open('chaine.txt', mode='rb') as f:\n",
    "    b = f.read()\n",
    "print(b, type(b), len(b))"
   ]
  },
  {
   "cell_type": "code",
   "execution_count": 17,
   "metadata": {},
   "outputs": [
    {
     "name": "stdout",
     "output_type": "stream",
     "text": [
      "Ceci est une chaine d'octets\n",
      "Ceci est une chaine de caractères particuliers 你好 صباح الخير <class 'str'>\n"
     ]
    }
   ],
   "source": [
    "txt2 = b.decode('utf8')\n",
    "print(txt2, type(txt2))"
   ]
  },
  {
   "cell_type": "markdown",
   "metadata": {},
   "source": [
    "# Sauvegarde et lecture avec numpy : format texte\n"
   ]
  },
  {
   "cell_type": "markdown",
   "metadata": {},
   "source": [
    "## loadtxt "
   ]
  },
  {
   "cell_type": "code",
   "execution_count": 18,
   "metadata": {},
   "outputs": [
    {
     "name": "stdout",
     "output_type": "stream",
     "text": [
      "[[-12.  56.   4.]\n",
      " [  6.  50.  12.]\n",
      " [  8.  36.   2.]\n",
      " [ 24.  24. -18.]\n",
      " [-12.  22.  28.]\n",
      " [-12.  22.  26.]\n",
      " [-32.  20. -18.]\n",
      " [-28.  16.  32.]\n",
      " [-48.  14.   8.]\n",
      " [-10.  10.  44.]\n",
      " [-34.   8.  38.]\n",
      " [  4.   6.  50.]\n",
      " [  4.   6.  50.]\n",
      " [ 10.   4.  74.]\n",
      " [ -2.   4.  44.]\n",
      " [ 24.   4. -10.]\n",
      " [ 24.   4. -16.]\n",
      " [ 40.   2.  62.]\n",
      " [-54.   2.  38.]\n",
      " [-26.  -4.  70.]]\n"
     ]
    }
   ],
   "source": [
    "import numpy as np\n",
    "\n",
    "data = np.loadtxt('./data/Coords.txt') \n",
    "print (data)\n"
   ]
  },
  {
   "cell_type": "markdown",
   "metadata": {},
   "source": [
    "## savetxt"
   ]
  },
  {
   "cell_type": "code",
   "execution_count": 19,
   "metadata": {},
   "outputs": [
    {
     "name": "stdout",
     "output_type": "stream",
     "text": [
      "[[0. 0. 0. ... 0. 0. 0.]\n",
      " [0. 0. 0. ... 0. 0. 0.]\n",
      " [0. 0. 0. ... 0. 0. 0.]\n",
      " ...\n",
      " [0. 0. 0. ... 0. 0. 0.]\n",
      " [0. 0. 0. ... 0. 0. 0.]\n",
      " [0. 0. 0. ... 0. 0. 0.]]\n"
     ]
    }
   ],
   "source": [
    "data = np.zeros(shape = (1000,1000), dtype = \"float32\")\n",
    "print(data)"
   ]
  },
  {
   "cell_type": "code",
   "execution_count": 20,
   "metadata": {
    "tags": []
   },
   "outputs": [],
   "source": [
    "np.savetxt(\"data.txt\", data, fmt = \"%f\")"
   ]
  },
  {
   "cell_type": "markdown",
   "metadata": {},
   "source": [
    "# Sauvegarde et lecture avec numpy : format .npy, load et save\n",
    "\n",
    "Plus rapide et plus léger."
   ]
  },
  {
   "cell_type": "code",
   "execution_count": 21,
   "metadata": {},
   "outputs": [],
   "source": [
    "np.save(\"data.npy\", data)"
   ]
  },
  {
   "cell_type": "code",
   "execution_count": 22,
   "metadata": {},
   "outputs": [
    {
     "data": {
      "text/plain": [
       "array([[0., 0., 0., ..., 0., 0., 0.],\n",
       "       [0., 0., 0., ..., 0., 0., 0.],\n",
       "       [0., 0., 0., ..., 0., 0., 0.],\n",
       "       ...,\n",
       "       [0., 0., 0., ..., 0., 0., 0.],\n",
       "       [0., 0., 0., ..., 0., 0., 0.],\n",
       "       [0., 0., 0., ..., 0., 0., 0.]], dtype=float32)"
      ]
     },
     "execution_count": 22,
     "metadata": {},
     "output_type": "execute_result"
    }
   ],
   "source": [
    "data2 = np.load(\"data.npy\")\n",
    "data2"
   ]
  },
  {
   "cell_type": "markdown",
   "metadata": {},
   "source": [
    "# Concept d'Arborescence"
   ]
  },
  {
   "cell_type": "markdown",
   "metadata": {},
   "source": [
    "![Image](./img/mac_tree.png)     ![Image](./img/win_tree.jpg)    ![Image](./img/linux-tree.png)"
   ]
  },
  {
   "cell_type": "markdown",
   "metadata": {},
   "source": [
    "## Racine :\n",
    "\n",
    "    mac et linux : /\n",
    "    \n",
    "    windows : C:\\\n",
    "\n",
    "##  Arborescences de fichiers : Linux, macOS et Windows\n",
    "\n",
    "###  Organisation commune\n",
    "\n",
    "Tous les systèmes d'exploitation utilisent une **structure hiérarchique** pour organiser les fichiers :\n",
    "- Les fichiers sont dans des dossiers (répertoires), qui peuvent contenir d'autres fichiers ou dossiers.\n",
    "- On distingue les **chemins absolus** (depuis la racine) et **relatifs** (depuis le dossier courant).\n",
    "\n",
    "---\n",
    "\n",
    "### Linux / macOS (Unix-like)\n",
    "\n",
    "- L’arborescence commence par la **racine `/`**\n",
    "- Dossiers principaux :\n",
    "  - `/home/nom_utilisateur` : dossier personnel\n",
    "  - `/etc`, `/usr`, `/tmp` : configuration, programmes, fichiers temporaires\n",
    "- Le **séparateur de chemins** est `/`\n",
    "\n",
    "Exemple : `/home/alice/Documents/projet.txt`\n",
    "\n",
    "---\n",
    "\n",
    "###  Windows\n",
    "\n",
    "- Organisation basée sur des **lettres de lecteur** : `C:\\`, `D:\\`, etc.\n",
    "- Le **séparateur de chemins** est `\\` (antislash)\n",
    "- Dossier utilisateur : `C:\\Users\\NomUtilisateur`\n",
    "\n",
    "Exemple : `C:\\Users\\Alice\\Documents\\projet.txt`\n",
    "\n",
    "---\n",
    "\n",
    "###  Portabilité\n",
    "\n",
    "Sous Python, le module `pathlib` permet de manipuler les chemins de façon **portable**, c'est-à-dire quel que soit le système (Windows, macOS ou Linux).\n"
   ]
  },
  {
   "cell_type": "markdown",
   "metadata": {},
   "source": [
    "### Chemin absolu :\n",
    "    \n",
    "    linux : /home/alex/projets/formation_python/\n",
    "    \n",
    "    windows : C:\\\\Users\\\\alex\\\\projets\\\\formation_python\\\\   (double\\ car caractère d'échapement)\n",
    "    \n",
    "    mac : /Disque dur/Users/alex/projets/formation_python/\n",
    "\n",
    "---\n"
   ]
  },
  {
   "cell_type": "markdown",
   "metadata": {},
   "source": [
    "### Chemin relatif :\n",
    "\n",
    "    ./          là ou je suis actuellement\n",
    "    ../       je remonte d'un dossier par rapport à là ou je suis\n",
    "    \n",
    "    idem windows mais avec \\\n",
    "    \n",
    "    \n",
    "    exemple : np.loadtxt('./data/Coords.txt') \n",
    "\n",
    "---\n",
    "\n",
    "\n",
    "\n",
    "- Windows utilise \\ par héritage de MS-DOS (années 80), tandis qu'Unix/Linux/macOS utilisent / depuis les années 70.\n",
    "\n",
    "- Compatibilité moderne :\n",
    "Windows accepte souvent / aussi, mais Linux/macOS rejettent \\ (caractère d'échappement : n -> \\n retour à la ligne).\n",
    "\n",
    "- Bonne pratique :\n",
    "Préférez / pour un code multi-OS (ex: Path(\"dossier/fichier\") en Python).\n",
    "\n",
    "---\n",
    "    \n",
    "    "
   ]
  },
  {
   "cell_type": "markdown",
   "metadata": {},
   "source": [
    "## Le module os (Operating System)\n",
    "\n",
    "\n",
    "\n",
    "### 1 - Prendre de l'information sur le sysème de fichiers\n",
    "\n",
    "+ import os\n",
    "\n",
    "\n",
    "+ os.uname() : infos système\n",
    "\n",
    "\n",
    "+ os.getcwd() : pour obtenir le répertoire en cours\n",
    "\n",
    "\n",
    "+ os.path.abspath(path) : retourne une version absolue du chemin path\n",
    "\n",
    "\n",
    "+ os.path.relpath(path[, start]) : retourne une version relative du chemin path. Par défaut, par rapport au working dir, sinon : spécifier un argument start qui sera le répertoire de base\n",
    "\n",
    "\n",
    "### 2 - Faire des actions sur le système de fichiers\n",
    "\n",
    "+ os.chdir(foldername)  : va dans le répertoire spécifié\n",
    "\n",
    "\n",
    "+ os.mkdir(’mydir’) : crée le répertoire mydir\n",
    "\n",
    "\n",
    "+ os.rename(oldname, newname) : renomme oldname en newname\n",
    "\n",
    "\n",
    "+ os.remove(filename) : efface le fichier filename\n",
    "\n",
    "\n",
    "### 3 - Utilitaires\n",
    "\n",
    "+ os.path.join(morceau1, morceau2) : colle deux morceaux de chemin ensemble  en utilisant les caractères adaptés au système\n",
    "\n",
    "\n",
    "+ os.path.expanduser(\"~\") : retourne le chemin vers le répertoire \"Home\" de l'utilisateur sur la machine\n",
    "\n",
    "\n",
    "+ os.path.split(racine/nomfichier_ou_rep) : permet de séparer la dernière branche de la racine, résultat sous forme de tuple\n",
    "    *ex : (filepath, filename) = os.path.split(\"/Users/admin/Desktop\") \n",
    "    *filename: \"Desktop\"\n",
    "\n",
    "\n",
    "+ os.path.splitext(nomfichier.extension) : sépare le nom de l'extension. Résultat sous forme de tuple\n",
    "\n",
    "\n",
    "+ os.listdir(path) :  prend un nom de chemin et retourne une liste du contenu du répertoire.\n",
    "\n",
    "\n",
    "+ os.path.isfile : pour séparer les fichiers des répertoires. (os.path.isdir existe aussi). isfile prend un nom de chemin et :\n",
    "     *retourne 1 / True si le chemin représente un fichier\n",
    "     *0 / False dans le cas contraire. \n",
    "\n",
    "\n",
    "+ os.walk(top, topdown=True) : à parir de top (repertoire racine), parcourt l'arborescence en descendant si topdown=True, en montant sinon, et renvoie un tuple : (dirpath, dirnames, filenames) qui contient tous les répertoires dirnames rencontrés avec les fichiers filenames qui s'y trouvent"
   ]
  },
  {
   "cell_type": "code",
   "execution_count": 4,
   "metadata": {},
   "outputs": [
    {
     "name": "stdout",
     "output_type": "stream",
     "text": [
      "./img/axis.png\n",
      "./img/dataset-diagram-logo.png\n",
      "./img/groupby.png\n",
      "./img/image.jpeg\n",
      "./img/intro_numpy.png\n",
      "./img/intro_xarray.png\n",
      "./img/iris.jpeg\n",
      "./img/linux-tree.png\n",
      "./img/mac_tree.png\n",
      "./img/mixed_viewer_example.png\n",
      "./img/neologo.png\n",
      "./img/neo_base_schematic.png\n",
      "./img/neo_multi_segment_diagram.png\n",
      "./img/np_3D.png\n",
      "./img/np_concat_0.png\n",
      "./img/np_concat_1.png\n",
      "./img/np_concat_2.png\n",
      "./img/PES_figure.bmp\n",
      "./img/PES_figure2.bmp\n",
      "./img/PES_figure3.bmp\n",
      "./img/PES_figure4.bmp\n",
      "./img/scipy-logo-300.png\n",
      "./img/slice.jpeg\n",
      "./img/win_tree.jpg\n"
     ]
    }
   ],
   "source": [
    "import os\n",
    "\n",
    "for dossier, sous_dossiers, fichiers in os.walk('./img/'):\n",
    "    for fichier in fichiers:\n",
    "        print(os.path.join(dossier, fichier))"
   ]
  },
  {
   "cell_type": "code",
   "execution_count": null,
   "metadata": {},
   "outputs": [
    {
     "data": {
      "text/plain": [
       "['Base_language.ipynb',\n",
       " 'chaine.txt',\n",
       " 'data',\n",
       " 'data.npy',\n",
       " 'data.txt',\n",
       " 'EEG_MNE.ipynb',\n",
       " 'EEG_MNE_exo.ipynb',\n",
       " 'ephyviewer.ipynb',\n",
       " 'file_manipulation.ipynb',\n",
       " 'formula_statsmodels.ipynb',\n",
       " 'img',\n",
       " 'loop_index_slice.ipynb',\n",
       " 'matplotlib_base.ipynb',\n",
       " 'networkx.ipynb',\n",
       " 'numpy_advanced.ipynb',\n",
       " 'numpy_base.ipynb',\n",
       " 'numpy_indexing.ipynb',\n",
       " 'pandas_base.ipynb',\n",
       " 'pandas_exo.ipynb',\n",
       " 'plotly.ipynb',\n",
       " 'python-neo.ipynb',\n",
       " 'seaborn_pingouin.ipynb',\n",
       " 'skimage.ipynb',\n",
       " 'sklearn.ipynb',\n",
       " 'torch.ipynb',\n",
       " 'toto.txt',\n",
       " 'toto2.txt',\n",
       " 'xarray.ipynb']"
      ]
     },
     "execution_count": 23,
     "metadata": {},
     "output_type": "execute_result"
    }
   ],
   "source": [
    "os.listdir('./')"
   ]
  },
  {
   "cell_type": "markdown",
   "metadata": {},
   "source": [
    "## Le module pathlib = nouvelle méthode"
   ]
  },
  {
   "cell_type": "code",
   "execution_count": 24,
   "metadata": {},
   "outputs": [
    {
     "data": {
      "text/plain": [
       "PosixPath('/home/alex')"
      ]
     },
     "execution_count": 24,
     "metadata": {},
     "output_type": "execute_result"
    }
   ],
   "source": [
    "from pathlib import Path\n",
    "\n",
    "home = Path.home()\n",
    "home\n"
   ]
  },
  {
   "cell_type": "code",
   "execution_count": 25,
   "metadata": {},
   "outputs": [
    {
     "data": {
      "text/plain": [
       "PosixPath('/media/alex/Elements/Alex/Trajectoires/Presentation/Formation_2025_Python_data_analyse/notebooks')"
      ]
     },
     "execution_count": 25,
     "metadata": {},
     "output_type": "execute_result"
    }
   ],
   "source": [
    "ici = Path('.').absolute()\n",
    "ici"
   ]
  },
  {
   "cell_type": "code",
   "execution_count": 26,
   "metadata": {},
   "outputs": [
    {
     "data": {
      "text/plain": [
       "PosixPath('/home/alex/Documents')"
      ]
     },
     "execution_count": 26,
     "metadata": {},
     "output_type": "execute_result"
    }
   ],
   "source": [
    "doc = home / 'Documents'\n",
    "doc"
   ]
  },
  {
   "cell_type": "code",
   "execution_count": 27,
   "metadata": {},
   "outputs": [
    {
     "name": "stdout",
     "output_type": "stream",
     "text": [
      "/root\n",
      "/swapfile\n",
      "/srv\n",
      "/libx32\n",
      "/dev\n",
      "/boot\n",
      "/media\n",
      "/usr\n",
      "/proc\n",
      "/opt\n",
      "/lib64\n",
      "/lib\n",
      "/sys\n",
      "/lost+found\n",
      "/sbin\n",
      "/mnt\n",
      "/snap\n",
      "/home\n",
      "/lib32\n",
      "/bin\n",
      "/etc\n",
      "/run\n",
      "/cdrom\n",
      "/tmp\n",
      "/var\n"
     ]
    }
   ],
   "source": [
    "for item in Path('/').iterdir():\n",
    "    print(item)"
   ]
  },
  {
   "cell_type": "code",
   "execution_count": 28,
   "metadata": {},
   "outputs": [
    {
     "name": "stdout",
     "output_type": "stream",
     "text": [
      "True\n",
      "linux-tree\n",
      ".png\n",
      "img\n",
      "img\n",
      ".\n"
     ]
    }
   ],
   "source": [
    "file_path = Path('./img/linux-tree.png')\n",
    "\n",
    "print(file_path.is_file())\n",
    "\n",
    "print(file_path.stem)\n",
    "print(file_path.suffix)\n",
    "print(file_path.parent)\n",
    "print(file_path.parents[0])\n",
    "print(file_path.parents[1])\n",
    "#print(file_path.parents[2])\n",
    "\n"
   ]
  },
  {
   "cell_type": "code",
   "execution_count": 29,
   "metadata": {},
   "outputs": [
    {
     "name": "stdout",
     "output_type": "stream",
     "text": [
      "/media/alex/Elements/Alex/Trajectoires/Presentation/Formation_2025_Python_data_analyse/notebooks/Base_language.ipynb\n",
      "/media/alex/Elements/Alex/Trajectoires/Presentation/Formation_2025_Python_data_analyse/notebooks/EEG_MNE.ipynb\n",
      "/media/alex/Elements/Alex/Trajectoires/Presentation/Formation_2025_Python_data_analyse/notebooks/EEG_MNE_exo.ipynb\n",
      "/media/alex/Elements/Alex/Trajectoires/Presentation/Formation_2025_Python_data_analyse/notebooks/ephyviewer.ipynb\n",
      "/media/alex/Elements/Alex/Trajectoires/Presentation/Formation_2025_Python_data_analyse/notebooks/file_manipulation.ipynb\n",
      "/media/alex/Elements/Alex/Trajectoires/Presentation/Formation_2025_Python_data_analyse/notebooks/formula_statsmodels.ipynb\n",
      "/media/alex/Elements/Alex/Trajectoires/Presentation/Formation_2025_Python_data_analyse/notebooks/loop_index_slice.ipynb\n",
      "/media/alex/Elements/Alex/Trajectoires/Presentation/Formation_2025_Python_data_analyse/notebooks/matplotlib_base.ipynb\n",
      "/media/alex/Elements/Alex/Trajectoires/Presentation/Formation_2025_Python_data_analyse/notebooks/networkx.ipynb\n",
      "/media/alex/Elements/Alex/Trajectoires/Presentation/Formation_2025_Python_data_analyse/notebooks/numpy_advanced.ipynb\n",
      "/media/alex/Elements/Alex/Trajectoires/Presentation/Formation_2025_Python_data_analyse/notebooks/numpy_base.ipynb\n",
      "/media/alex/Elements/Alex/Trajectoires/Presentation/Formation_2025_Python_data_analyse/notebooks/numpy_indexing.ipynb\n",
      "/media/alex/Elements/Alex/Trajectoires/Presentation/Formation_2025_Python_data_analyse/notebooks/pandas_base.ipynb\n",
      "/media/alex/Elements/Alex/Trajectoires/Presentation/Formation_2025_Python_data_analyse/notebooks/pandas_exo.ipynb\n",
      "/media/alex/Elements/Alex/Trajectoires/Presentation/Formation_2025_Python_data_analyse/notebooks/plotly.ipynb\n",
      "/media/alex/Elements/Alex/Trajectoires/Presentation/Formation_2025_Python_data_analyse/notebooks/python-neo.ipynb\n",
      "/media/alex/Elements/Alex/Trajectoires/Presentation/Formation_2025_Python_data_analyse/notebooks/seaborn_pingouin.ipynb\n",
      "/media/alex/Elements/Alex/Trajectoires/Presentation/Formation_2025_Python_data_analyse/notebooks/skimage.ipynb\n",
      "/media/alex/Elements/Alex/Trajectoires/Presentation/Formation_2025_Python_data_analyse/notebooks/sklearn.ipynb\n",
      "/media/alex/Elements/Alex/Trajectoires/Presentation/Formation_2025_Python_data_analyse/notebooks/torch.ipynb\n",
      "/media/alex/Elements/Alex/Trajectoires/Presentation/Formation_2025_Python_data_analyse/notebooks/xarray.ipynb\n"
     ]
    }
   ],
   "source": [
    "ici = Path('.').absolute()\n",
    "\n",
    "for file in ici.glob('*.ipynb'):\n",
    "    print(file)"
   ]
  },
  {
   "cell_type": "code",
   "execution_count": 30,
   "metadata": {},
   "outputs": [
    {
     "name": "stdout",
     "output_type": "stream",
     "text": [
      "/home/alex/.config/Code/User/History/60317893/RDE4.ipynb\n",
      "/home/alex/.config/Code/User/History/60317893/XaQe.ipynb\n",
      "/home/alex/.config/Code/User/History/60317893/r2te.ipynb\n",
      "/home/alex/.config/Code/User/History/60317893/V5ua.ipynb\n",
      "/home/alex/.config/Code/User/History/60317893/Dyc3.ipynb\n",
      "/home/alex/.config/Code/User/History/60317893/LYmv.ipynb\n",
      "/home/alex/.config/Code/User/History/60317893/cMqZ.ipynb\n",
      "/home/alex/.config/Code/User/History/60317893/CNjv.ipynb\n",
      "/home/alex/.config/Code/User/History/60317893/kgOZ.ipynb\n",
      "/home/alex/.config/Code/User/History/60317893/1rQB.ipynb\n",
      "/home/alex/.config/Code/User/History/60317893/3wZr.ipynb\n",
      "/home/alex/.config/Code/User/History/60317893/kiBJ.ipynb\n",
      "/home/alex/.config/Code/User/History/60317893/ow69.ipynb\n",
      "/home/alex/.config/Code/User/History/60317893/l0kY.ipynb\n",
      "/home/alex/.config/Code/User/History/-5fa8ac0/hv8I.ipynb\n",
      "/home/alex/.config/Code/User/History/-5fa8ac0/L8yv.ipynb\n",
      "/home/alex/.config/Code/User/History/-1c11a9fb/RsAL.ipynb\n",
      "/home/alex/.config/Code/User/History/-1c11a9fb/TLoy.ipynb\n",
      "/home/alex/.config/Code/User/History/-1c11a9fb/F9cZ.ipynb\n",
      "/home/alex/.config/Code/User/History/-1c11a9fb/tbPV.ipynb\n",
      "/home/alex/.config/Code/User/History/-1c11a9fb/uZ5P.ipynb\n",
      "/home/alex/.config/Code/User/History/-1c11a9fb/K8Z4.ipynb\n",
      "/home/alex/.config/Code/User/History/-1c11a9fb/QvVf.ipynb\n",
      "/home/alex/.config/Code/User/History/68fcef9d/BQ6O.ipynb\n",
      "/home/alex/.config/Code/User/History/-3b620e20/coAO.ipynb\n",
      "/home/alex/.config/Code/User/History/-3b620e20/xOsz.ipynb\n",
      "/home/alex/.config/Code/User/History/-3b620e20/xaGy.ipynb\n",
      "/home/alex/.config/Code/User/History/-3b620e20/sIGO.ipynb\n",
      "/home/alex/.config/Code/User/History/-3b620e20/VG8c.ipynb\n",
      "/home/alex/.config/Code/User/History/-3b620e20/YLd0.ipynb\n",
      "/home/alex/.config/Code/User/History/-3b620e20/Sei5.ipynb\n",
      "/home/alex/.config/Code/User/History/-3b620e20/rteq.ipynb\n",
      "/home/alex/.config/Code/User/History/-3b620e20/Abrs.ipynb\n",
      "/home/alex/.config/Code/User/History/-3b620e20/BCXx.ipynb\n",
      "/home/alex/.config/Code/User/History/-3b620e20/I0ue.ipynb\n",
      "/home/alex/.config/Code/User/History/-3b620e20/JH71.ipynb\n",
      "/home/alex/.config/Code/User/History/-3b620e20/MgRw.ipynb\n",
      "/home/alex/.config/Code/User/History/-3b620e20/MfLN.ipynb\n",
      "/home/alex/.config/Code/User/History/-3b620e20/tQfw.ipynb\n",
      "/home/alex/.config/Code/User/History/-3b620e20/kSz5.ipynb\n",
      "/home/alex/.config/Code/User/History/-3b620e20/hFQN.ipynb\n",
      "/home/alex/.config/Code/User/History/-3b620e20/avq3.ipynb\n",
      "/home/alex/.config/Code/User/History/-3b620e20/VzOt.ipynb\n",
      "/home/alex/.config/Code/User/History/-3b620e20/t8Bk.ipynb\n",
      "/home/alex/.config/Code/User/History/-3b620e20/KJEo.ipynb\n",
      "/home/alex/.config/Code/User/History/-3b620e20/eUBh.ipynb\n",
      "/home/alex/.config/Code/User/History/-3b620e20/J9J2.ipynb\n",
      "/home/alex/.config/Code/User/History/-3b620e20/FM2Y.ipynb\n",
      "/home/alex/.config/Code/User/History/-3b620e20/lxOu.ipynb\n",
      "/home/alex/.config/Code/User/History/-3b620e20/ANXb.ipynb\n",
      "/home/alex/.config/Code/User/History/-3b620e20/v3LP.ipynb\n",
      "/home/alex/.config/Code/User/History/-3b620e20/LP2i.ipynb\n",
      "/home/alex/.vscode/extensions/ms-python.python-2025.4.0-linux-x64/python_files/Notebooks intro.ipynb\n",
      "/home/alex/Bureau/Trajectoires/FrancoisQuesque/.ipynb_checkpoints/MergeFiles-checkpoint.ipynb\n",
      "/home/alex/Bureau/Trajectoires/FrancoisQuesque/Notes_etudiants2025/MergeFiles.ipynb\n",
      "/home/alex/Bureau/Trajectoires/ClaraSaleri/Analysis/Analysis.ipynb\n",
      "/home/alex/Bureau/Trajectoires/ClaraSaleri/Analysis/.ipynb_checkpoints/Analysis-checkpoint.ipynb\n",
      "/home/alex/Bureau/Trajectoires/AmelieFraunie/Analysis.ipynb\n",
      "/home/alex/Bureau/Trajectoires/AmelieFraunie/.ipynb_checkpoints/Analysis-checkpoint.ipynb\n",
      "/home/alex/Bureau/Trajectoires/Piotr_Bayes/Analysis.ipynb\n",
      "/home/alex/Bureau/Trajectoires/Piotr_Bayes/.ipynb_checkpoints/Analysis-checkpoint.ipynb\n",
      "/home/alex/Bureau/Trajectoires/Audrey_Breton/Recherche/IRM/Test/Test.ipynb\n",
      "/home/alex/Bureau/Trajectoires/Audrey_Breton/Recherche/IRM/Test/.ipynb_checkpoints/Test-checkpoint.ipynb\n",
      "/home/alex/Bureau/Trajectoires/Audrey_Breton/Recherche/BienEtre/Analysis/Data_PreTreatment.ipynb\n",
      "/home/alex/Bureau/Trajectoires/Audrey_Breton/Recherche/BienEtre/Analysis/.ipynb_checkpoints/Data_PreTreatment-checkpoint.ipynb\n",
      "/home/alex/Bureau/Trajectoires/Sollusions/Analysis/Analysis.ipynb\n",
      "/home/alex/Bureau/Trajectoires/Sollusions/Analysis/.ipynb_checkpoints/Analysis-checkpoint.ipynb\n",
      "/home/alex/Bureau/Trajectoires/EricChabanat/Maelanne2024/Crypt_data.ipynb\n",
      "/home/alex/Bureau/Trajectoires/EricChabanat/Maelanne2024/.ipynb_checkpoints/Crypt_data-checkpoint.ipynb\n",
      "/home/alex/Bureau/Trajectoires/ExpertsCNV/Analysis/Analysis_2categ.ipynb\n",
      "/home/alex/Bureau/Trajectoires/ExpertsCNV/Analysis/Analysis.ipynb\n",
      "/home/alex/Bureau/Trajectoires/ExpertsCNV/Analysis/.ipynb_checkpoints/Analysis-checkpoint.ipynb\n",
      "/home/alex/Bureau/Trajectoires/ExpertsCNV/Analysis/.ipynb_checkpoints/Analysis_2categ-checkpoint.ipynb\n",
      "/home/alex/Bureau/Trajectoires/Presentation/Cours_Ucly/2024/Analysis/Figures_UCLY.ipynb\n",
      "/home/alex/Bureau/Trajectoires/Presentation/Cours_Ucly/2024/Analysis/.ipynb_checkpoints/Figures_UCLY-checkpoint.ipynb\n",
      "/home/alex/Bureau/Trajectoires/Stats/Exercices/Exercices.ipynb\n",
      "/home/alex/Bureau/Trajectoires/Stats/Exercices/01 Thinking Probabilistically.ipynb\n",
      "/home/alex/Bureau/Trajectoires/Stats/Exercices/.ipynb_checkpoints/Exercices-checkpoint.ipynb\n",
      "/home/alex/Bureau/Trajectoires/Stats/Exercices/.ipynb_checkpoints/01 Thinking Probabilistically-checkpoint.ipynb\n",
      "/home/alex/Bureau/Trajectoires/Stats/BAP-master/code/Chp4/04_Generalizing_linear_models.ipynb\n",
      "/home/alex/Bureau/Trajectoires/Stats/BAP-master/code/Chp3/03_Modeling with Linear Regressions.ipynb\n",
      "/home/alex/Bureau/Trajectoires/Stats/BAP-master/code/Chp3/.ipynb_checkpoints/03_Modeling with Linear Regressions-checkpoint.ipynb\n",
      "/home/alex/Bureau/Trajectoires/Stats/BAP-master/code/Chp5/05_Model_comparison.ipynb\n",
      "/home/alex/Bureau/Trajectoires/Stats/BAP-master/code/Chp8/08_Inference_engines.ipynb\n",
      "/home/alex/Bureau/Trajectoires/Stats/BAP-master/code/Chp1/01 Thinking Probabilistically.ipynb\n",
      "/home/alex/Bureau/Trajectoires/Stats/BAP-master/code/Chp1/.ipynb_checkpoints/01 Thinking Probabilistically-checkpoint.ipynb\n",
      "/home/alex/Bureau/Trajectoires/Stats/BAP-master/code/Chp2/02 Programming probabilistically.ipynb\n",
      "/home/alex/Bureau/Trajectoires/Stats/BAP-master/code/Chp6/06_mixture_models.ipynb\n",
      "/home/alex/Bureau/Trajectoires/Stats/BAP-master/code/Chp7/07_Gaussian process.ipynb\n",
      "/home/alex/Bureau/Trajectoires/Stats/BAP-master/extras/multinomial_ppcs.ipynb\n",
      "/home/alex/Bureau/Trajectoires/Stats/BAP-master/extras/interactions.ipynb\n",
      "/home/alex/Bureau/Trajectoires/Stats/BAP-master/extras/guest_blog_post.ipynb\n",
      "/home/alex/Bureau/Trajectoires/Stats/BAP-master/first_edition/code/Chp4/04_Understanding_and_predicting_data_with_linear_regression_models.ipynb\n",
      "/home/alex/Bureau/Trajectoires/Stats/BAP-master/first_edition/code/Chp3/Chp_03_Juggling_with_multiparametric_and_Hierarchical_models.ipynb\n",
      "/home/alex/Bureau/Trajectoires/Stats/BAP-master/first_edition/code/Chp5/05_Classifying_outcomes_with_logistic_regression.ipynb\n",
      "/home/alex/Bureau/Trajectoires/Stats/BAP-master/first_edition/code/Chp8/08_Gaussian_processes.ipynb\n",
      "/home/alex/Bureau/Trajectoires/Stats/BAP-master/first_edition/code/Chp1/01_Thinking_Probabilistically_a_Bayesian_Inference_Primer.ipynb\n",
      "/home/alex/Bureau/Trajectoires/Stats/BAP-master/first_edition/code/Chp2/02_Programming_probabilistically_a_PyMC3_primer.ipynb\n",
      "/home/alex/Bureau/Trajectoires/Stats/BAP-master/first_edition/code/Chp6/06_Model_comparison.ipynb\n",
      "/home/alex/Bureau/Trajectoires/Stats/BAP-master/first_edition/code/Chp7/07_Mixture_Models.ipynb\n",
      "/home/alex/Bureau/Trajectoires/Stats/BAP-master/first_edition/GP/simple_GP.ipynb\n",
      "/home/alex/Bureau/Trajectoires/Stats/BAP-master/first_edition/Errata/Chp_01.ipynb\n",
      "/home/alex/Bureau/Trajectoires/Stats/BAP-master/first_edition/Errata/Chp_02.ipynb\n",
      "/home/alex/Bureau/Trajectoires/Stats/BAP-master/first_edition/Errata/Chp_03.ipynb\n",
      "/home/alex/Bureau/Trajectoires/Stats/BAP-master/first_edition/Errata/Chp_04.ipynb\n",
      "/home/alex/Bureau/Trajectoires/Stats/BAP-master/first_edition/Errata/Chp_08.ipynb\n",
      "/home/alex/Bureau/Trajectoires/Stats/BAP-master/first_edition/Errata/Chp_06.ipynb\n",
      "/home/alex/Bureau/Trajectoires/Stats/BAP-master/first_edition/Errata/Chp_05.ipynb\n",
      "/home/alex/Bureau/Trajectoires/Stats/BAP-master/exercises/Chapter4.ipynb\n",
      "/home/alex/Bureau/Trajectoires/Stats/BAP-master/exercises/Chapter3.ipynb\n",
      "/home/alex/Bureau/Trajectoires/Stats/BAP-master/exercises/Chapter2.ipynb\n",
      "/home/alex/Bureau/Trajectoires/Stats/BAP-master/exercises/Chapter1.ipynb\n",
      "/home/alex/Bureau/Trajectoires/Stats/BAP-master/exercises/.ipynb_checkpoints/Chapter1-checkpoint.ipynb\n",
      "/home/alex/Bureau/Trajectoires/Stats/BAP-master/exercises/.ipynb_checkpoints/Chapter2-checkpoint.ipynb\n",
      "/home/alex/Bureau/Trajectoires/Stats/BAP-master/exercises/.ipynb_checkpoints/Chapter3-checkpoint.ipynb\n",
      "/home/alex/Bureau/Trajectoires/Sebastien_Mateo/MAXIMAND/.ipynb_checkpoints/List_Randomisation-checkpoint.ipynb\n",
      "/home/alex/Bureau/Trajectoires/Sebastien_Mateo/Covid_velo/Analysis_old_data.ipynb\n",
      "/home/alex/Bureau/Trajectoires/Sebastien_Mateo/Covid_velo/Analysis2022.ipynb\n",
      "/home/alex/Bureau/Trajectoires/Sebastien_Mateo/Covid_velo/Analysis.ipynb\n",
      "/home/alex/Bureau/Trajectoires/Sebastien_Mateo/Covid_velo/.ipynb_checkpoints/Analysis-checkpoint.ipynb\n",
      "/home/alex/Bureau/Trajectoires/Sebastien_Mateo/Covid_velo/.ipynb_checkpoints/Analysis2022-checkpoint.ipynb\n",
      "/home/alex/Bureau/Trajectoires/Sebastien_Mateo/Covid_velo/.ipynb_checkpoints/Figures_UCLY-checkpoint.ipynb\n",
      "/home/alex/Bureau/Trajectoires/Sebastien_Mateo/Covid_velo/.ipynb_checkpoints/Analysis_old_data-checkpoint.ipynb\n",
      "/home/alex/Bureau/Trajectoires/Amelie_Richard/Analysis/Figures/Data_pythonNotebook/Figures.ipynb\n",
      "/home/alex/Bureau/Trajectoires/Amelie_Richard/Analysis/Figures/Data_pythonNotebook/.ipynb_checkpoints/Figures-checkpoint.ipynb\n",
      "/home/alex/Bureau/Trajectoires/Amelie_Richard/Analysis/Figures/.ipynb_checkpoints/Figures-checkpoint.ipynb\n",
      "/home/alex/Bureau/Trajectoires/TristanJurkiewicz/Analysis.ipynb\n",
      "/home/alex/Bureau/Trajectoires/TristanJurkiewicz/.ipynb_checkpoints/Analysis-checkpoint.ipynb\n",
      "/home/alex/Bureau/Perso/FP3/Parse_JSON.ipynb\n",
      "/home/alex/Bureau/Perso/FP3/.ipynb_checkpoints/Parse_JSON-checkpoint.ipynb\n",
      "/home/alex/Bureau/Perso/Tuiliere/TACO/Energie/Analysis/Analysis_ConsoElec.ipynb\n",
      "/home/alex/Bureau/Perso/Tuiliere/TACO/Energie/Analysis/.ipynb_checkpoints/Analysis_ConsoElec-checkpoint.ipynb\n",
      "/home/alex/Bureau/Perso/Tuiliere/TACO/Stats/.ipynb_checkpoints/Bayesian-checkpoint.ipynb\n",
      "/home/alex/Bureau/Perso/Tuiliere/TACO/Stats/Enercoop/Analysis.ipynb\n",
      "/home/alex/Bureau/Perso/Tuiliere/TACO/Stats/Enercoop/.ipynb_checkpoints/Analysis-checkpoint.ipynb\n",
      "/home/alex/Bureau/Perso/Tuiliere/TACO/Stats/Achat/Bayesian.ipynb\n",
      "/home/alex/Bureau/Perso/Tuiliere/TACO/Stats/Wifi/data/Ping_Tuiliere.ipynb\n",
      "/home/alex/Bureau/Perso/Tuiliere/TACO/Stats/Wifi/data/.ipynb_checkpoints/Ping_Tuiliere-checkpoint.ipynb\n",
      "/home/alex/.local/lib/python3.8/site-packages/matplotlib/backends/web_backend/nbagg_uat.ipynb\n",
      "/home/alex/.local/share/Trash/files/Cours_Python_avril2025/file_manipulation.ipynb\n",
      "/home/alex/.local/share/Trash/files/Cours_Python_avril2025/scipy_overview.ipynb\n"
     ]
    }
   ],
   "source": [
    "# recursif\n",
    "for file in Path('/home/alex/').glob('**/*.ipynb'):\n",
    "    print(file)\n"
   ]
  },
  {
   "cell_type": "markdown",
   "metadata": {},
   "source": [
    "## Exercice 1\n",
    "\n",
    "a. Faire un script pour explorer le dossier 'data/data_folder'\n",
    "\n",
    "b. Lire les datas dans une structure hierachique adaptée (dict/list/array)\n",
    "\n"
   ]
  },
  {
   "cell_type": "markdown",
   "metadata": {},
   "source": [
    "## Solution 1.a."
   ]
  },
  {
   "cell_type": "code",
   "execution_count": 31,
   "metadata": {},
   "outputs": [
    {
     "name": "stdout",
     "output_type": "stream",
     "text": [
      "data/data_folder/HJ02\n",
      "data/data_folder/LM04\n",
      "data/data_folder/ST01\n",
      "data/data_folder/UJ03\n",
      "data/data_folder/HJ02/session_1.npy\n",
      "data/data_folder/HJ02/session_2.npy\n",
      "data/data_folder/HJ02/session_3.npy\n",
      "data/data_folder/HJ02/session_4.npy\n",
      "data/data_folder/HJ02/session_5.npy\n",
      "data/data_folder/LM04/session_1.npy\n",
      "data/data_folder/LM04/session_2.npy\n",
      "data/data_folder/LM04/session_3.npy\n",
      "data/data_folder/LM04/session_4.npy\n",
      "data/data_folder/LM04/session_5.npy\n",
      "data/data_folder/ST01/session_1.npy\n",
      "data/data_folder/ST01/session_2.npy\n",
      "data/data_folder/ST01/session_3.npy\n",
      "data/data_folder/ST01/session_4.npy\n",
      "data/data_folder/ST01/session_5.npy\n",
      "data/data_folder/UJ03/session_1.npy\n",
      "data/data_folder/UJ03/session_2.npy\n",
      "data/data_folder/UJ03/session_3.npy\n",
      "data/data_folder/UJ03/session_4.npy\n",
      "data/data_folder/UJ03/session_5.npy\n"
     ]
    }
   ],
   "source": [
    "path_data = './data/data_folder/'\n",
    "\n",
    "# recursif\n",
    "for file in Path(path_data).glob('**/*'):\n",
    "    print(file)\n"
   ]
  },
  {
   "cell_type": "markdown",
   "metadata": {},
   "source": [
    "## Solution 1.b."
   ]
  },
  {
   "cell_type": "code",
   "execution_count": null,
   "metadata": {},
   "outputs": [
    {
     "name": "stdout",
     "output_type": "stream",
     "text": [
      "{'HJ02/session_1.npy': array([[ 0.55996076,  1.40188671,  2.00716549],\n",
      "       [ 0.39095788,  0.77321955, -0.75044337],\n",
      "       [ 1.00866443, -0.35668001,  0.49793207],\n",
      "       [-0.86711327,  0.40056226, -0.77971829]]), 'HJ02/session_2.npy': array([[-1.29806685,  0.03022072, -1.37587918],\n",
      "       [ 0.57163766,  1.03226634,  0.37189735],\n",
      "       [-0.7952975 , -0.34279625,  0.37093617],\n",
      "       [ 0.44633999, -0.44482825,  1.13871228]]), 'HJ02/session_3.npy': array([[-1.48598199, -1.45692286,  1.90019572],\n",
      "       [-1.31145154, -0.11440697, -1.83359649],\n",
      "       [ 1.27752558,  0.3734068 , -0.55602085],\n",
      "       [-1.55311024,  0.93572405,  1.326925  ]]), 'HJ02/session_4.npy': array([[-1.56899284,  1.10091972, -1.04331003],\n",
      "       [-1.20840134, -0.17228726,  1.34375573],\n",
      "       [ 0.1379342 , -1.13626238,  0.22276613],\n",
      "       [ 0.42508644,  0.58950312,  0.35705745]]), 'HJ02/session_5.npy': array([[-1.7347265 ,  1.90726086,  0.26651993],\n",
      "       [ 0.85703526, -0.04849984, -1.05552666],\n",
      "       [-0.5676066 , -0.89587758,  0.89477329],\n",
      "       [ 0.10703574, -1.32986214,  1.85436898]]), 'LM04/session_1.npy': array([[-0.38437686, -0.06271837, -0.82084786],\n",
      "       [-0.79739786,  0.83418151,  0.07146799],\n",
      "       [ 0.13707849,  0.11063433,  0.2016983 ],\n",
      "       [-0.57891268, -0.52524443,  0.329934  ]]), 'LM04/session_2.npy': array([[ 0.72770224,  1.12386998,  1.16356675],\n",
      "       [ 1.15305513,  0.36136859, -1.22096704],\n",
      "       [ 0.52472131, -0.9703159 , -0.58245406],\n",
      "       [ 0.62051694,  1.71951811, -1.44501606]]), 'LM04/session_3.npy': array([[-0.35249814,  0.5895377 , -0.66634582],\n",
      "       [ 0.32521291, -1.4074326 ,  0.83472463],\n",
      "       [-1.23893676, -0.13928455,  0.54966689],\n",
      "       [ 0.99065481,  0.68066323, -0.7676674 ]]), 'LM04/session_4.npy': array([[-0.62435599, -0.58404729,  1.11186882],\n",
      "       [ 1.3928259 ,  0.45811526,  1.94850676],\n",
      "       [-0.7660031 , -0.1861138 ,  0.8726239 ],\n",
      "       [ 0.5886938 ,  1.3347231 , -0.85882485]]), 'LM04/session_5.npy': array([[-1.53341981,  1.04922465,  0.5698391 ],\n",
      "       [-0.63232657,  0.30614386,  0.1820365 ],\n",
      "       [-0.44168687,  0.48363786, -0.02290024],\n",
      "       [ 0.9115286 ,  0.16189369, -0.1818959 ]]), 'ST01/session_1.npy': array([[ 0.98709994, -1.56206329,  0.67991403],\n",
      "       [ 0.15045004, -0.04870027,  0.92348229],\n",
      "       [-0.06379522,  0.31838826, -0.97254135],\n",
      "       [-0.4318255 ,  0.56316911,  0.51542128]]), 'ST01/session_2.npy': array([[-1.37446607,  0.77471333, -3.32607595],\n",
      "       [ 2.13101326,  0.20674242, -1.10742134],\n",
      "       [-1.43194356,  2.15985496, -1.37384019],\n",
      "       [ 0.85982173, -0.06844014, -0.1607968 ]]), 'ST01/session_3.npy': array([[ 1.23919226, -0.12958547,  0.78818082],\n",
      "       [-0.60837368,  0.07957184,  0.23778785],\n",
      "       [ 0.71276165, -0.69707259,  0.87300822],\n",
      "       [-0.31410541,  0.79037717, -3.23867177]]), 'ST01/session_4.npy': array([[-0.92839649,  0.64171505, -0.71272713],\n",
      "       [-0.24419653,  1.79090322,  0.50802894],\n",
      "       [-0.05288209, -0.36533635,  0.10701192],\n",
      "       [-0.26140426, -0.00484426,  0.15658016]]), 'ST01/session_5.npy': array([[ 0.90662266,  2.23730039,  0.35461322],\n",
      "       [ 0.09435512,  0.97716562, -0.94782627],\n",
      "       [-0.23006766, -0.43436618, -1.27472078],\n",
      "       [-0.22752045,  0.04854418, -0.15018364]]), 'UJ03/session_1.npy': array([[ 2.22818769, -0.50955824,  0.03992623],\n",
      "       [ 0.41742752, -2.01602787, -0.21802683],\n",
      "       [ 0.47037164,  0.74212077,  0.34622762],\n",
      "       [ 0.77117791, -2.02967243, -0.57107898]]), 'UJ03/session_2.npy': array([[ 0.39786945,  0.61703221,  0.15183394],\n",
      "       [-0.43560855, -0.35867696,  1.34792642],\n",
      "       [ 1.2627654 , -1.01953818,  1.44585437],\n",
      "       [ 0.89007494,  0.61240892,  0.02416696]]), 'UJ03/session_3.npy': array([[ 2.52932469,  1.68744126,  1.94924154],\n",
      "       [ 0.86571286,  0.87198381,  0.18029687],\n",
      "       [ 2.25554749, -1.07055761, -0.48938934],\n",
      "       [ 1.7422904 , -0.10962135,  1.14372104]]), 'UJ03/session_4.npy': array([[ 1.58631923, -0.72739628, -0.26158817],\n",
      "       [ 2.56425695,  1.13199062,  0.54568674],\n",
      "       [-0.49778992,  1.4074506 , -0.4162464 ],\n",
      "       [ 1.55625927,  0.60217849,  0.3552943 ]]), 'UJ03/session_5.npy': array([[-1.45133283, -1.40125602, -1.99980305],\n",
      "       [ 0.10602695,  0.43662809, -0.22712406],\n",
      "       [ 0.52926951,  0.56603048, -1.72214415],\n",
      "       [-0.67931098,  0.42050995,  0.09543247]])}\n"
     ]
    }
   ],
   "source": [
    "\"\"\"\n",
    "Charge récursivement les fichiers .npy dans une structure hiérarchique.\n",
    "Retourne un dictionnaire où les clés sont les noms des dossiers.\n",
    "\"\"\"\n",
    "\n",
    "data_structure = {}\n",
    "root_path = Path(path_data)\n",
    "\n",
    "# Parcours des sous-dossiers\n",
    "for subdir in root_path.iterdir():\n",
    "    if subdir.is_dir():\n",
    "        # Parcours des fichiers .npy dans le sous-dossier\n",
    "        for npy_file in subdir.glob(\"*.npy\"):\n",
    "            key_name = f\"{subdir.name}/{npy_file.name}\"\n",
    "            data_structure[key_name] = np.load(npy_file)\n",
    "\n",
    "print(data_structure)\n"
   ]
  }
 ],
 "metadata": {
  "kernelspec": {
   "display_name": "env_formation",
   "language": "python",
   "name": "python3"
  },
  "language_info": {
   "codemirror_mode": {
    "name": "ipython",
    "version": 3
   },
   "file_extension": ".py",
   "mimetype": "text/x-python",
   "name": "python",
   "nbconvert_exporter": "python",
   "pygments_lexer": "ipython3",
   "version": "3.12.9"
  }
 },
 "nbformat": 4,
 "nbformat_minor": 4
}
