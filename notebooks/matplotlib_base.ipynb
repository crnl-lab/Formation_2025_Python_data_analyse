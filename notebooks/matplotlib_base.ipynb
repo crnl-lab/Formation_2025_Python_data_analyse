{
 "cells": [
  {
   "cell_type": "markdown",
   "metadata": {},
   "source": [
    "# Matplotlib base\n",
    "\n",
    "Matplotlib est un des outils qui permet de faire des graphiques avec Python.\n",
    "\n",
    "## %matplotlib\n",
    "\n",
    "Ce mot \"magique\" permet d'indiquer à jupyter le type de graphique souhaité (statique ou interactif, matriciel ou vectoriel, avec qt...)\n",
    "\n",
    "Voir https://ipython.readthedocs.io/en/stable/interactive/magics.html#magic-matplotlib "
   ]
  },
  {
   "cell_type": "code",
   "execution_count": null,
   "metadata": {},
   "outputs": [],
   "source": [
    "%matplotlib -l"
   ]
  },
  {
   "cell_type": "code",
   "execution_count": null,
   "metadata": {},
   "outputs": [],
   "source": [
    "%matplotlib inline    \n",
    "# inline est OK pour créer des images statiques matricielles (png)\n",
    "# notebook ajoute de l'interactivité dans le notebook (zoom...)\n",
    "# widget aussi, mais avec ipywidget qui marche mieux que notebook dans vs-code.\n",
    "# qt ou tk ouvrent des fenêtres en dehors du notebook"
   ]
  },
  {
   "cell_type": "code",
   "execution_count": null,
   "metadata": {},
   "outputs": [],
   "source": [
    "import matplotlib.pyplot as plt\n",
    "import numpy as np"
   ]
  },
  {
   "cell_type": "code",
   "execution_count": null,
   "metadata": {},
   "outputs": [],
   "source": [
    "a = np.array([3., 5.6,3.3, 4.7,])"
   ]
  },
  {
   "cell_type": "code",
   "execution_count": null,
   "metadata": {
    "tags": []
   },
   "outputs": [],
   "source": [
    "plt.plot(a)"
   ]
  },
  {
   "cell_type": "markdown",
   "metadata": {},
   "source": [
    "# ⚠️ Préférez l'approche objet !\n",
    "\n",
    "Cela vous facilitera la vie pour préciser si vous voulez 2 courbes sur le même axe ou 2 axes dans la même figure, ou pour modifier ensuite un élément de la figure."
   ]
  },
  {
   "cell_type": "code",
   "execution_count": null,
   "metadata": {
    "tags": []
   },
   "outputs": [],
   "source": [
    "fig, ax = plt.subplots()\n",
    "print(type(fig))\n",
    "print(type(ax))\n",
    "ax.plot(a)\n",
    "ax.plot(a**2, color='r')\n",
    "ax.set_title('weigth evolution')\n",
    "ax.set_xlabel('age')\n",
    "ax.set_ylabel('weigth')"
   ]
  },
  {
   "cell_type": "markdown",
   "metadata": {},
   "source": [
    "# Grille de subplots"
   ]
  },
  {
   "cell_type": "code",
   "execution_count": null,
   "metadata": {},
   "outputs": [],
   "source": [
    "fig, axs = plt.subplots(nrows=2, ncols=3)\n",
    "for row in range(2):\n",
    "    for column in range(3):\n",
    "        ax = axs[row,column]\n",
    "        ax.plot(np.random.rand(5))\n",
    "        ax.set_title(f'row{row} col{column}')\n",
    "        ax.set_xticks([])\n",
    "        ax.set_yticks([])\n",
    "fig.savefig('mafigure.svg')\n"
   ]
  },
  {
   "cell_type": "markdown",
   "metadata": {},
   "source": [
    "# 2 variables, styles et couleurs, limites, légende..."
   ]
  },
  {
   "cell_type": "code",
   "execution_count": null,
   "metadata": {},
   "outputs": [],
   "source": [
    "fig, ax = plt.subplots()\n",
    "a = np.array([1, 1.4, 5, 6.3])\n",
    "w = np.array([10, 15.3, 24, 50.])\n",
    "w2 = w[::-1]\n",
    "ax.plot(a, w, marker='o', linestyle='-', color='m', markerfacecolor='#FF8000', label='animal1')\n",
    "ax.plot(a, w2, marker='*', linestyle='--', color='g', markerfacecolor='#C280FF', label='animal2')\n",
    "ax.set_title('weight evolution')\n",
    "ax.set_xlabel('age')\n",
    "ax.set_ylabel('weight')\n",
    "ax.set_xlim(0,10)\n",
    "ax.set_ylim(0,100)\n",
    "ax.legend()"
   ]
  },
  {
   "cell_type": "markdown",
   "metadata": {},
   "source": [
    " # scatter plot\n",
    " \n",
    " Il y a plusieurs façons de tracer des nuages de points :\n",
    " - `plot` en supprimant les lignes entre les points (`linestyle='None'`) et en ajoutant un `marker`\n",
    " - `scatter` en spécifiant ou non le type de `marker`."
   ]
  },
  {
   "cell_type": "code",
   "execution_count": null,
   "metadata": {},
   "outputs": [],
   "source": [
    "fig, ax = plt.subplots()\n",
    "x = np.random.randn(200)*2+5\n",
    "y = np.random.randn(200)/2+2\n",
    "ax.plot(x, y, marker='o', linestyle='None', )\n"
   ]
  },
  {
   "cell_type": "code",
   "execution_count": null,
   "metadata": {},
   "outputs": [],
   "source": [
    "fig, ax = plt.subplots()\n",
    "ax.scatter(x, y);"
   ]
  },
  {
   "cell_type": "markdown",
   "metadata": {},
   "source": [
    "# Tracé d'histogramme\n",
    "\n",
    "numpy propose une fonction `histogram` qui renvoie `count`, `bins`.\n"
   ]
  },
  {
   "cell_type": "code",
   "execution_count": null,
   "metadata": {},
   "outputs": [],
   "source": [
    "# les 1000 premières valeurs de a sont issues d'une variable aléatoire de moyenne -0.4 et d'écart-type 0.2 \n",
    "# les 4000 valeurs suivantes sont issues d'une autre variable aléatoire de moyenne 1.6 et d'écart-type 1\n",
    "a = np.concatenate([np.random.randn(1000)*.2-.4, np.random.randn(4000)+1.6])\n",
    "# On choisit des seuils entre -1 et 1 avec un pas de 0.1\n",
    "bins = np.arange(-1, 1.1, .1)\n",
    "# Pour chaque intervalle entre 2 seuils/bins successifs on obtient le nombre d'observations\n",
    "count, bins = np.histogram(a, bins=bins)\n",
    "fig, ax = plt.subplots()\n",
    "# Attention le vecteur bins correspond au limites de bins donc count.size = bins.size - 1\n",
    "ax.bar(bins[:-1],count,width=.1)\n",
    "ax.plot(bins[:-1],count, color='r')"
   ]
  },
  {
   "cell_type": "code",
   "execution_count": null,
   "metadata": {},
   "outputs": [],
   "source": [
    "#plus simplement\n",
    "fig, ax = plt.subplots()\n",
    "ax.hist(a, bins=50)"
   ]
  },
  {
   "cell_type": "markdown",
   "metadata": {},
   "source": [
    "# image"
   ]
  },
  {
   "cell_type": "code",
   "execution_count": null,
   "metadata": {},
   "outputs": [],
   "source": [
    "# generation des data : une belle boite d'oeuf vu du dessus\n",
    "x = np.cos(np.linspace(0, 4*np.pi, 100))\n",
    "y = np.sin(np.linspace(0, 4*np.pi, 100))\n",
    "X,Y = np.meshgrid(x,y)\n",
    "data = Y*X"
   ]
  },
  {
   "cell_type": "code",
   "execution_count": null,
   "metadata": {},
   "outputs": [],
   "source": [
    "# attention interpolation\n",
    "fig, ax = plt.subplots()\n",
    "im = ax.imshow(data, cmap='hot', interpolation='nearest')\n",
    "im.set_clim(-2, 2)\n",
    "fig.colorbar(im, ax=ax)"
   ]
  },
  {
   "cell_type": "code",
   "execution_count": null,
   "metadata": {},
   "outputs": [],
   "source": [
    "fig, ax = plt.subplots()\n",
    "im = ax.pcolormesh(data, cmap='gray',)\n",
    "im.set_clim(-2, 2)\n",
    "fig.colorbar(im, ax=ax)"
   ]
  },
  {
   "cell_type": "code",
   "execution_count": null,
   "metadata": {},
   "outputs": [],
   "source": [
    "fig, ax = plt.subplots()\n",
    "im = ax.contourf(data, cmap='PiYG', levels=9)\n",
    "im.set_clim(-2, 2)\n",
    "fig.colorbar(im, ax=ax)"
   ]
  },
  {
   "cell_type": "markdown",
   "metadata": {},
   "source": [
    "# fill_between"
   ]
  },
  {
   "cell_type": "code",
   "execution_count": null,
   "metadata": {},
   "outputs": [],
   "source": [
    "fig, ax = plt.subplots()\n",
    "x = np.arange(0,30, .1)\n",
    "y1 = x**3\n",
    "y2 = x**3.5\n",
    "m = (y1 + y2)/2\n",
    "\n",
    "ax.fill_between(x, y1, y2, color='y', alpha=.4)\n",
    "ax.plot(x, m, color='k')\n"
   ]
  },
  {
   "cell_type": "code",
   "execution_count": null,
   "metadata": {},
   "outputs": [],
   "source": []
  },
  {
   "cell_type": "markdown",
   "metadata": {
    "jp-MarkdownHeadingCollapsed": true,
    "tags": []
   },
   "source": [
    "# Exercice 1\n",
    "\n",
    "\n",
    "Créer un signal sinusoidal de fréquence 5 Hz, avec une fréquence d'échantillonage de 1000 Hz sur l'intervalle 0-3s.\n",
    "\n",
    "Aide : il faut créer un vecteur **temps**\n"
   ]
  },
  {
   "cell_type": "markdown",
   "metadata": {
    "tags": []
   },
   "source": [
    "# Solution 1"
   ]
  },
  {
   "cell_type": "code",
   "execution_count": null,
   "metadata": {},
   "outputs": [],
   "source": []
  },
  {
   "cell_type": "markdown",
   "metadata": {},
   "source": [
    "# Exercice 2\n",
    "\n",
    "Idem exercice 1 mais en ajoutant du bruit blanc.\n",
    "\n"
   ]
  },
  {
   "cell_type": "markdown",
   "metadata": {
    "tags": []
   },
   "source": [
    "# Solution 2"
   ]
  },
  {
   "cell_type": "code",
   "execution_count": null,
   "metadata": {},
   "outputs": [],
   "source": []
  },
  {
   "cell_type": "markdown",
   "metadata": {},
   "source": [
    "# Exercice 3\n",
    "\n",
    "  * Générer 9 signaux sinusoidaux de frequence 5Hz entre 0 et 3.s.\n",
    "  * Chaque signal a niveau de bruit de plus en plus grand (faire un peu comme on veut)\n",
    "  * Sur la figure 1 : Afficher chaque signal dans un subplot sur une grille\n",
    "  * Sur la figure 2 : afficher la moyenne et la std."
   ]
  },
  {
   "cell_type": "markdown",
   "metadata": {},
   "source": [
    "# Solution 3"
   ]
  },
  {
   "cell_type": "code",
   "execution_count": null,
   "metadata": {},
   "outputs": [],
   "source": []
  }
 ],
 "metadata": {
  "kernelspec": {
   "display_name": "formPy2025",
   "language": "python",
   "name": "python3"
  },
  "language_info": {
   "codemirror_mode": {
    "name": "ipython",
    "version": 3
   },
   "file_extension": ".py",
   "mimetype": "text/x-python",
   "name": "python",
   "nbconvert_exporter": "python",
   "pygments_lexer": "ipython3",
   "version": "3.12.3"
  }
 },
 "nbformat": 4,
 "nbformat_minor": 4
}
