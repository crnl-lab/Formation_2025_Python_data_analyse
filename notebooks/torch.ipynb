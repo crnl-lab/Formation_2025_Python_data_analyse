{
 "cells": [
  {
   "cell_type": "markdown",
   "metadata": {},
   "source": [
    "# torch\n"
   ]
  },
  {
   "cell_type": "markdown",
   "metadata": {},
   "source": [
    "### c'est quasi comme numpy"
   ]
  },
  {
   "cell_type": "code",
   "execution_count": 38,
   "metadata": {},
   "outputs": [],
   "source": [
    "import torch\n",
    "import numpy as np\n",
    "import matplotlib.pyplot as plt\n"
   ]
  },
  {
   "cell_type": "code",
   "execution_count": 39,
   "metadata": {},
   "outputs": [
    {
     "data": {
      "text/plain": [
       "array([[1., 1., 1., 1., 1., 1., 1., 1., 1., 1.],\n",
       "       [1., 1., 1., 1., 1., 1., 1., 1., 1., 1.],\n",
       "       [1., 1., 1., 1., 1., 1., 1., 1., 1., 1.],\n",
       "       [1., 1., 1., 1., 1., 1., 1., 1., 1., 1.],\n",
       "       [1., 1., 1., 1., 1., 1., 1., 1., 1., 1.]])"
      ]
     },
     "execution_count": 39,
     "metadata": {},
     "output_type": "execute_result"
    }
   ],
   "source": [
    "a = np.ones((5,10))\n",
    "a"
   ]
  },
  {
   "cell_type": "code",
   "execution_count": 40,
   "metadata": {},
   "outputs": [
    {
     "data": {
      "text/plain": [
       "tensor([[1., 1., 1., 1., 1., 1., 1., 1., 1., 1.],\n",
       "        [1., 1., 1., 1., 1., 1., 1., 1., 1., 1.],\n",
       "        [1., 1., 1., 1., 1., 1., 1., 1., 1., 1.],\n",
       "        [1., 1., 1., 1., 1., 1., 1., 1., 1., 1.],\n",
       "        [1., 1., 1., 1., 1., 1., 1., 1., 1., 1.]])"
      ]
     },
     "execution_count": 40,
     "metadata": {},
     "output_type": "execute_result"
    }
   ],
   "source": [
    "a = torch.ones((5,10))\n",
    "a"
   ]
  },
  {
   "cell_type": "code",
   "execution_count": 41,
   "metadata": {},
   "outputs": [
    {
     "data": {
      "text/plain": [
       "tensor([[0.0128, 0.2597, 0.6679],\n",
       "        [0.8597, 0.4784, 0.7172],\n",
       "        [0.2827, 0.5649, 0.4146],\n",
       "        [0.6016, 0.1886, 0.9234],\n",
       "        [0.5737, 0.0919, 0.1255],\n",
       "        [0.4036, 0.6591, 0.9402],\n",
       "        [0.0390, 0.3722, 0.0499],\n",
       "        [0.8760, 0.5540, 0.7918],\n",
       "        [0.3528, 0.2186, 0.4321],\n",
       "        [0.9365, 0.3762, 0.9308]])"
      ]
     },
     "execution_count": 41,
     "metadata": {},
     "output_type": "execute_result"
    }
   ],
   "source": [
    "b = torch.rand((10, 3))\n",
    "b"
   ]
  },
  {
   "cell_type": "code",
   "execution_count": 42,
   "metadata": {},
   "outputs": [
    {
     "data": {
      "text/plain": [
       "tensor([[4.9383, 3.7637, 5.9933],\n",
       "        [4.9383, 3.7637, 5.9933],\n",
       "        [4.9383, 3.7637, 5.9933],\n",
       "        [4.9383, 3.7637, 5.9933],\n",
       "        [4.9383, 3.7637, 5.9933]])"
      ]
     },
     "execution_count": 42,
     "metadata": {},
     "output_type": "execute_result"
    }
   ],
   "source": [
    "a @ b"
   ]
  },
  {
   "cell_type": "code",
   "execution_count": 43,
   "metadata": {},
   "outputs": [
    {
     "data": {
      "text/plain": [
       "tensor([[2., 2., 2., 2., 2., 2., 2., 2., 2., 2.],\n",
       "        [2., 2., 2., 2., 2., 2., 2., 2., 2., 2.],\n",
       "        [2., 2., 2., 2., 2., 2., 2., 2., 2., 2.],\n",
       "        [2., 2., 2., 2., 2., 2., 2., 2., 2., 2.],\n",
       "        [2., 2., 2., 2., 2., 2., 2., 2., 2., 2.]])"
      ]
     },
     "execution_count": 43,
     "metadata": {},
     "output_type": "execute_result"
    }
   ],
   "source": [
    "a + 1"
   ]
  },
  {
   "cell_type": "code",
   "execution_count": 44,
   "metadata": {},
   "outputs": [
    {
     "data": {
      "text/plain": [
       "torch.Size([5, 10])"
      ]
     },
     "execution_count": 44,
     "metadata": {},
     "output_type": "execute_result"
    }
   ],
   "source": [
    "a.shape"
   ]
  },
  {
   "cell_type": "code",
   "execution_count": 45,
   "metadata": {},
   "outputs": [
    {
     "data": {
      "text/plain": [
       "torch.float32"
      ]
     },
     "execution_count": 45,
     "metadata": {},
     "output_type": "execute_result"
    }
   ],
   "source": [
    "a.dtype"
   ]
  },
  {
   "cell_type": "markdown",
   "metadata": {},
   "source": [
    "### mais ça marche sur GPU (quand on est riche)"
   ]
  },
  {
   "cell_type": "code",
   "execution_count": 46,
   "metadata": {},
   "outputs": [
    {
     "data": {
      "text/plain": [
       "device(type='cpu')"
      ]
     },
     "execution_count": 46,
     "metadata": {},
     "output_type": "execute_result"
    }
   ],
   "source": [
    "a.device"
   ]
  },
  {
   "cell_type": "code",
   "execution_count": 47,
   "metadata": {},
   "outputs": [],
   "source": [
    "a2 = a.to('cuda')\n"
   ]
  },
  {
   "cell_type": "code",
   "execution_count": 48,
   "metadata": {},
   "outputs": [
    {
     "data": {
      "text/plain": [
       "tensor([[3., 3., 3., 3., 3., 3., 3., 3., 3., 3.],\n",
       "        [3., 3., 3., 3., 3., 3., 3., 3., 3., 3.],\n",
       "        [3., 3., 3., 3., 3., 3., 3., 3., 3., 3.],\n",
       "        [3., 3., 3., 3., 3., 3., 3., 3., 3., 3.],\n",
       "        [3., 3., 3., 3., 3., 3., 3., 3., 3., 3.]], device='cuda:0')"
      ]
     },
     "execution_count": 48,
     "metadata": {},
     "output_type": "execute_result"
    }
   ],
   "source": [
    "a2 + 2"
   ]
  },
  {
   "cell_type": "code",
   "execution_count": 49,
   "metadata": {},
   "outputs": [],
   "source": [
    "n = 1000\n",
    "a = torch.rand((n, n))\n",
    "b = torch.rand((n, n))\n",
    "a2 = a.to('cuda')\n",
    "b2 = b.to('cuda')\n"
   ]
  },
  {
   "cell_type": "code",
   "execution_count": 50,
   "metadata": {},
   "outputs": [
    {
     "name": "stdout",
     "output_type": "stream",
     "text": [
      "3.75 ms ± 1.1 ms per loop (mean ± std. dev. of 7 runs, 100 loops each)\n",
      "349 μs ± 1.16 μs per loop (mean ± std. dev. of 7 runs, 1,000 loops each)\n"
     ]
    }
   ],
   "source": [
    "%timeit a @ b\n",
    "%timeit a2 @ b2\n"
   ]
  },
  {
   "cell_type": "markdown",
   "metadata": {},
   "source": [
    "### torch dataset"
   ]
  },
  {
   "cell_type": "code",
   "execution_count": 51,
   "metadata": {},
   "outputs": [],
   "source": [
    "from torchvision import datasets\n",
    "from torchvision.transforms import ToTensor\n",
    "\n",
    "\n",
    "training_data = datasets.FashionMNIST(\n",
    "    root=\"data\",\n",
    "    train=True,\n",
    "    download=True,\n",
    "    transform=ToTensor()\n",
    ")\n",
    "\n",
    "test_data = datasets.FashionMNIST(\n",
    "    root=\"data\",\n",
    "    train=False,\n",
    "    download=True,\n",
    "    transform=ToTensor()\n",
    ")"
   ]
  },
  {
   "cell_type": "code",
   "execution_count": 52,
   "metadata": {},
   "outputs": [
    {
     "data": {
      "image/png": "[encoded data removed]",
      "text/plain": [
       "<Figure size 640x480 with 9 Axes>"
      ]
     },
     "metadata": {},
     "output_type": "display_data"
    }
   ],
   "source": [
    "fig, axs = plt.subplots(nrows=3, ncols=3)\n",
    "for i in range(9):\n",
    "    ax = axs.flatten()[i]\n",
    "    img, label = training_data[i]\n",
    "    img.shape\n",
    "    \n",
    "    ax.imshow(img[0, :, :], cmap=\"grey\")\n",
    "    ax.set_title(label)\n",
    "\n",
    "    # figure.add_subplot(rows, cols, i)\n",
    "    # plt.title(labels_map[label])\n",
    "    # plt.axis(\"off\")\n",
    "    # plt.imshow(img.squeeze(), cmap=\"gray\")"
   ]
  },
  {
   "cell_type": "code",
   "execution_count": null,
   "metadata": {},
   "outputs": [],
   "source": []
  },
  {
   "cell_type": "markdown",
   "metadata": {},
   "source": [
    "### ça sert surtout à faire des NN"
   ]
  },
  {
   "cell_type": "code",
   "execution_count": 53,
   "metadata": {},
   "outputs": [],
   "source": [
    "from torch import nn"
   ]
  },
  {
   "cell_type": "code",
   "execution_count": 54,
   "metadata": {},
   "outputs": [],
   "source": [
    "class NeuralNetwork(nn.Module):\n",
    "    def __init__(self):\n",
    "        super().__init__()\n",
    "        self.flatten = nn.Flatten()\n",
    "        self.linear_relu_stack = nn.Sequential(\n",
    "            nn.Linear(28*28, 512),\n",
    "            nn.ReLU(),\n",
    "            nn.Linear(512, 512),\n",
    "            nn.ReLU(),\n",
    "            nn.Linear(512, 10),\n",
    "        )\n",
    "\n",
    "    def forward(self, x):\n",
    "        x = self.flatten(x)\n",
    "        logits = self.linear_relu_stack(x)\n",
    "        return logits"
   ]
  },
  {
   "cell_type": "code",
   "execution_count": 55,
   "metadata": {},
   "outputs": [
    {
     "name": "stdout",
     "output_type": "stream",
     "text": [
      "NeuralNetwork(\n",
      "  (flatten): Flatten(start_dim=1, end_dim=-1)\n",
      "  (linear_relu_stack): Sequential(\n",
      "    (0): Linear(in_features=784, out_features=512, bias=True)\n",
      "    (1): ReLU()\n",
      "    (2): Linear(in_features=512, out_features=512, bias=True)\n",
      "    (3): ReLU()\n",
      "    (4): Linear(in_features=512, out_features=10, bias=True)\n",
      "  )\n",
      ")\n"
     ]
    }
   ],
   "source": [
    "model = NeuralNetwork().to(\"cuda\")\n",
    "print(model)"
   ]
  },
  {
   "cell_type": "markdown",
   "metadata": {},
   "source": [
    "#### visualisation du model"
   ]
  },
  {
   "cell_type": "code",
   "execution_count": 56,
   "metadata": {},
   "outputs": [
    {
     "data": {
      "image/svg+xml": [
       "<?xml version=\"1.0\" encoding=\"UTF-8\" standalone=\"no\"?>\n",
       "<!DOCTYPE svg PUBLIC \"-//W3C//DTD SVG 1.1//EN\"\n",
       " \"http://www.w3.org/Graphics/SVG/1.1/DTD/svg11.dtd\">\n",
       "<!-- Generated by graphviz version 2.43.0 (0)\n",
       " -->\n",
       "<!-- Title: %3 Pages: 1 -->\n",
       "<svg width=\"571pt\" height=\"545pt\"\n",
       " viewBox=\"0.00 0.00 571.00 545.00\" xmlns=\"http://www.w3.org/2000/svg\" xmlns:xlink=\"http://www.w3.org/1999/xlink\">\n",
       "<g id=\"graph0\" class=\"graph\" transform=\"scale(1 1) rotate(0) translate(4 541)\">\n",
       "<title>%3</title>\n",
       "<polygon fill=\"white\" stroke=\"transparent\" points=\"-4,4 -4,-541 567,-541 567,4 -4,4\"/>\n",
       "<!-- 140627961246928 -->\n",
       "<g id=\"node1\" class=\"node\">\n",
       "<title>140627961246928</title>\n",
       "<polygon fill=\"#caff70\" stroke=\"black\" points=\"294,-31 229,-31 229,0 294,0 294,-31\"/>\n",
       "<text text-anchor=\"middle\" x=\"261.5\" y=\"-7\" font-family=\"monospace\" font-size=\"10.00\"> (1, 10)</text>\n",
       "</g>\n",
       "<!-- 140627958100512 -->\n",
       "<g id=\"node2\" class=\"node\">\n",
       "<title>140627958100512</title>\n",
       "<polygon fill=\"lightgrey\" stroke=\"black\" points=\"312,-86 211,-86 211,-67 312,-67 312,-86\"/>\n",
       "<text text-anchor=\"middle\" x=\"261.5\" y=\"-74\" font-family=\"monospace\" font-size=\"10.00\">AddmmBackward0</text>\n",
       "</g>\n",
       "<!-- 140627958100512&#45;&gt;140627961246928 -->\n",
       "<g id=\"edge20\" class=\"edge\">\n",
       "<title>140627958100512&#45;&gt;140627961246928</title>\n",
       "<path fill=\"none\" stroke=\"black\" d=\"M261.5,-66.79C261.5,-60.07 261.5,-50.4 261.5,-41.34\"/>\n",
       "<polygon fill=\"black\" stroke=\"black\" points=\"265,-41.19 261.5,-31.19 258,-41.19 265,-41.19\"/>\n",
       "</g>\n",
       "<!-- 140627958100464 -->\n",
       "<g id=\"node3\" class=\"node\">\n",
       "<title>140627958100464</title>\n",
       "<polygon fill=\"lightgrey\" stroke=\"black\" points=\"180,-141 79,-141 79,-122 180,-122 180,-141\"/>\n",
       "<text text-anchor=\"middle\" x=\"129.5\" y=\"-129\" font-family=\"monospace\" font-size=\"10.00\">AccumulateGrad</text>\n",
       "</g>\n",
       "<!-- 140627958100464&#45;&gt;140627958100512 -->\n",
       "<g id=\"edge1\" class=\"edge\">\n",
       "<title>140627958100464&#45;&gt;140627958100512</title>\n",
       "<path fill=\"none\" stroke=\"black\" d=\"M150.71,-121.98C172.23,-113.34 205.78,-99.87 230.33,-90.02\"/>\n",
       "<polygon fill=\"black\" stroke=\"black\" points=\"231.93,-93.14 239.91,-86.17 229.32,-86.65 231.93,-93.14\"/>\n",
       "</g>\n",
       "<!-- 140627959673776 -->\n",
       "<g id=\"node4\" class=\"node\">\n",
       "<title>140627959673776</title>\n",
       "<polygon fill=\"lightblue\" stroke=\"black\" points=\"193,-207 32,-207 32,-177 193,-177 193,-207\"/>\n",
       "<text text-anchor=\"middle\" x=\"112.5\" y=\"-195\" font-family=\"monospace\" font-size=\"10.00\">linear_relu_stack.4.bias</text>\n",
       "<text text-anchor=\"middle\" x=\"112.5\" y=\"-184\" font-family=\"monospace\" font-size=\"10.00\"> (10)</text>\n",
       "</g>\n",
       "<!-- 140627959673776&#45;&gt;140627958100464 -->\n",
       "<g id=\"edge2\" class=\"edge\">\n",
       "<title>140627959673776&#45;&gt;140627958100464</title>\n",
       "<path fill=\"none\" stroke=\"black\" d=\"M116.62,-176.84C118.88,-169.04 121.72,-159.27 124.16,-150.89\"/>\n",
       "<polygon fill=\"black\" stroke=\"black\" points=\"127.52,-151.85 126.95,-141.27 120.8,-149.89 127.52,-151.85\"/>\n",
       "</g>\n",
       "<!-- 140627958102672 -->\n",
       "<g id=\"node5\" class=\"node\">\n",
       "<title>140627958102672</title>\n",
       "<polygon fill=\"lightgrey\" stroke=\"black\" points=\"309,-141 214,-141 214,-122 309,-122 309,-141\"/>\n",
       "<text text-anchor=\"middle\" x=\"261.5\" y=\"-129\" font-family=\"monospace\" font-size=\"10.00\">ReluBackward0</text>\n",
       "</g>\n",
       "<!-- 140627958102672&#45;&gt;140627958100512 -->\n",
       "<g id=\"edge3\" class=\"edge\">\n",
       "<title>140627958102672&#45;&gt;140627958100512</title>\n",
       "<path fill=\"none\" stroke=\"black\" d=\"M261.5,-121.75C261.5,-114.8 261.5,-104.85 261.5,-96.13\"/>\n",
       "<polygon fill=\"black\" stroke=\"black\" points=\"265,-96.09 261.5,-86.09 258,-96.09 265,-96.09\"/>\n",
       "</g>\n",
       "<!-- 140627958091056 -->\n",
       "<g id=\"node6\" class=\"node\">\n",
       "<title>140627958091056</title>\n",
       "<polygon fill=\"lightgrey\" stroke=\"black\" points=\"312,-201.5 211,-201.5 211,-182.5 312,-182.5 312,-201.5\"/>\n",
       "<text text-anchor=\"middle\" x=\"261.5\" y=\"-189.5\" font-family=\"monospace\" font-size=\"10.00\">AddmmBackward0</text>\n",
       "</g>\n",
       "<!-- 140627958091056&#45;&gt;140627958102672 -->\n",
       "<g id=\"edge4\" class=\"edge\">\n",
       "<title>140627958091056&#45;&gt;140627958102672</title>\n",
       "<path fill=\"none\" stroke=\"black\" d=\"M261.5,-182.37C261.5,-174.25 261.5,-161.81 261.5,-151.39\"/>\n",
       "<polygon fill=\"black\" stroke=\"black\" points=\"265,-151.17 261.5,-141.17 258,-151.17 265,-151.17\"/>\n",
       "</g>\n",
       "<!-- 140627959642768 -->\n",
       "<g id=\"node7\" class=\"node\">\n",
       "<title>140627959642768</title>\n",
       "<polygon fill=\"lightgrey\" stroke=\"black\" points=\"147,-267.5 46,-267.5 46,-248.5 147,-248.5 147,-267.5\"/>\n",
       "<text text-anchor=\"middle\" x=\"96.5\" y=\"-255.5\" font-family=\"monospace\" font-size=\"10.00\">AccumulateGrad</text>\n",
       "</g>\n",
       "<!-- 140627959642768&#45;&gt;140627958091056 -->\n",
       "<g id=\"edge5\" class=\"edge\">\n",
       "<title>140627959642768&#45;&gt;140627958091056</title>\n",
       "<path fill=\"none\" stroke=\"black\" d=\"M118.75,-248.37C147.37,-237.27 197.26,-217.92 229.83,-205.28\"/>\n",
       "<polygon fill=\"black\" stroke=\"black\" points=\"231.28,-208.48 239.34,-201.6 228.75,-201.95 231.28,-208.48\"/>\n",
       "</g>\n",
       "<!-- 140627957761520 -->\n",
       "<g id=\"node8\" class=\"node\">\n",
       "<title>140627957761520</title>\n",
       "<polygon fill=\"lightblue\" stroke=\"black\" points=\"161,-339 0,-339 0,-309 161,-309 161,-339\"/>\n",
       "<text text-anchor=\"middle\" x=\"80.5\" y=\"-327\" font-family=\"monospace\" font-size=\"10.00\">linear_relu_stack.2.bias</text>\n",
       "<text text-anchor=\"middle\" x=\"80.5\" y=\"-316\" font-family=\"monospace\" font-size=\"10.00\"> (512)</text>\n",
       "</g>\n",
       "<!-- 140627957761520&#45;&gt;140627959642768 -->\n",
       "<g id=\"edge6\" class=\"edge\">\n",
       "<title>140627957761520&#45;&gt;140627959642768</title>\n",
       "<path fill=\"none\" stroke=\"black\" d=\"M84.05,-308.8C86.35,-299.6 89.37,-287.53 91.86,-277.58\"/>\n",
       "<polygon fill=\"black\" stroke=\"black\" points=\"95.26,-278.39 94.29,-267.84 88.47,-276.7 95.26,-278.39\"/>\n",
       "</g>\n",
       "<!-- 140627956489168 -->\n",
       "<g id=\"node9\" class=\"node\">\n",
       "<title>140627956489168</title>\n",
       "<polygon fill=\"lightgrey\" stroke=\"black\" points=\"277,-267.5 182,-267.5 182,-248.5 277,-248.5 277,-267.5\"/>\n",
       "<text text-anchor=\"middle\" x=\"229.5\" y=\"-255.5\" font-family=\"monospace\" font-size=\"10.00\">ReluBackward0</text>\n",
       "</g>\n",
       "<!-- 140627956489168&#45;&gt;140627958091056 -->\n",
       "<g id=\"edge7\" class=\"edge\">\n",
       "<title>140627956489168&#45;&gt;140627958091056</title>\n",
       "<path fill=\"none\" stroke=\"black\" d=\"M233.82,-248.37C238.56,-238.88 246.32,-223.36 252.42,-211.16\"/>\n",
       "<polygon fill=\"black\" stroke=\"black\" points=\"255.71,-212.41 257.05,-201.91 249.44,-209.28 255.71,-212.41\"/>\n",
       "</g>\n",
       "<!-- 140627956489840 -->\n",
       "<g id=\"node10\" class=\"node\">\n",
       "<title>140627956489840</title>\n",
       "<polygon fill=\"lightgrey\" stroke=\"black\" points=\"280,-333.5 179,-333.5 179,-314.5 280,-314.5 280,-333.5\"/>\n",
       "<text text-anchor=\"middle\" x=\"229.5\" y=\"-321.5\" font-family=\"monospace\" font-size=\"10.00\">AddmmBackward0</text>\n",
       "</g>\n",
       "<!-- 140627956489840&#45;&gt;140627956489168 -->\n",
       "<g id=\"edge8\" class=\"edge\">\n",
       "<title>140627956489840&#45;&gt;140627956489168</title>\n",
       "<path fill=\"none\" stroke=\"black\" d=\"M229.5,-314.37C229.5,-305.16 229.5,-290.29 229.5,-278.27\"/>\n",
       "<polygon fill=\"black\" stroke=\"black\" points=\"233,-277.91 229.5,-267.91 226,-277.91 233,-277.91\"/>\n",
       "</g>\n",
       "<!-- 140627956486864 -->\n",
       "<g id=\"node11\" class=\"node\">\n",
       "<title>140627956486864</title>\n",
       "<polygon fill=\"lightgrey\" stroke=\"black\" points=\"152,-399.5 51,-399.5 51,-380.5 152,-380.5 152,-399.5\"/>\n",
       "<text text-anchor=\"middle\" x=\"101.5\" y=\"-387.5\" font-family=\"monospace\" font-size=\"10.00\">AccumulateGrad</text>\n",
       "</g>\n",
       "<!-- 140627956486864&#45;&gt;140627956489840 -->\n",
       "<g id=\"edge9\" class=\"edge\">\n",
       "<title>140627956486864&#45;&gt;140627956489840</title>\n",
       "<path fill=\"none\" stroke=\"black\" d=\"M118.76,-380.37C140.42,-369.54 177.79,-350.85 203.07,-338.22\"/>\n",
       "<polygon fill=\"black\" stroke=\"black\" points=\"204.72,-341.3 212.1,-333.7 201.59,-335.04 204.72,-341.3\"/>\n",
       "</g>\n",
       "<!-- 140627958000400 -->\n",
       "<g id=\"node12\" class=\"node\">\n",
       "<title>140627958000400</title>\n",
       "<polygon fill=\"lightblue\" stroke=\"black\" points=\"172,-471 11,-471 11,-441 172,-441 172,-471\"/>\n",
       "<text text-anchor=\"middle\" x=\"91.5\" y=\"-459\" font-family=\"monospace\" font-size=\"10.00\">linear_relu_stack.0.bias</text>\n",
       "<text text-anchor=\"middle\" x=\"91.5\" y=\"-448\" font-family=\"monospace\" font-size=\"10.00\"> (512)</text>\n",
       "</g>\n",
       "<!-- 140627958000400&#45;&gt;140627956486864 -->\n",
       "<g id=\"edge10\" class=\"edge\">\n",
       "<title>140627958000400&#45;&gt;140627956486864</title>\n",
       "<path fill=\"none\" stroke=\"black\" d=\"M93.72,-440.8C95.14,-431.7 97,-419.79 98.55,-409.9\"/>\n",
       "<polygon fill=\"black\" stroke=\"black\" points=\"102.03,-410.26 100.12,-399.84 95.12,-409.18 102.03,-410.26\"/>\n",
       "</g>\n",
       "<!-- 140627956486720 -->\n",
       "<g id=\"node13\" class=\"node\">\n",
       "<title>140627956486720</title>\n",
       "<polygon fill=\"lightgrey\" stroke=\"black\" points=\"268,-399.5 191,-399.5 191,-380.5 268,-380.5 268,-399.5\"/>\n",
       "<text text-anchor=\"middle\" x=\"229.5\" y=\"-387.5\" font-family=\"monospace\" font-size=\"10.00\">TBackward0</text>\n",
       "</g>\n",
       "<!-- 140627956486720&#45;&gt;140627956489840 -->\n",
       "<g id=\"edge11\" class=\"edge\">\n",
       "<title>140627956486720&#45;&gt;140627956489840</title>\n",
       "<path fill=\"none\" stroke=\"black\" d=\"M229.5,-380.37C229.5,-371.16 229.5,-356.29 229.5,-344.27\"/>\n",
       "<polygon fill=\"black\" stroke=\"black\" points=\"233,-343.91 229.5,-333.91 226,-343.91 233,-343.91\"/>\n",
       "</g>\n",
       "<!-- 140627956486960 -->\n",
       "<g id=\"node14\" class=\"node\">\n",
       "<title>140627956486960</title>\n",
       "<polygon fill=\"lightgrey\" stroke=\"black\" points=\"291,-465.5 190,-465.5 190,-446.5 291,-446.5 291,-465.5\"/>\n",
       "<text text-anchor=\"middle\" x=\"240.5\" y=\"-453.5\" font-family=\"monospace\" font-size=\"10.00\">AccumulateGrad</text>\n",
       "</g>\n",
       "<!-- 140627956486960&#45;&gt;140627956486720 -->\n",
       "<g id=\"edge12\" class=\"edge\">\n",
       "<title>140627956486960&#45;&gt;140627956486720</title>\n",
       "<path fill=\"none\" stroke=\"black\" d=\"M239.02,-446.37C237.42,-437.07 234.82,-421.98 232.75,-409.9\"/>\n",
       "<polygon fill=\"black\" stroke=\"black\" points=\"236.17,-409.17 231.03,-399.91 229.28,-410.35 236.17,-409.17\"/>\n",
       "</g>\n",
       "<!-- 140627957772560 -->\n",
       "<g id=\"node15\" class=\"node\">\n",
       "<title>140627957772560</title>\n",
       "<polygon fill=\"lightblue\" stroke=\"black\" points=\"327,-537 154,-537 154,-507 327,-507 327,-537\"/>\n",
       "<text text-anchor=\"middle\" x=\"240.5\" y=\"-525\" font-family=\"monospace\" font-size=\"10.00\">linear_relu_stack.0.weight</text>\n",
       "<text text-anchor=\"middle\" x=\"240.5\" y=\"-514\" font-family=\"monospace\" font-size=\"10.00\"> (512, 784)</text>\n",
       "</g>\n",
       "<!-- 140627957772560&#45;&gt;140627956486960 -->\n",
       "<g id=\"edge13\" class=\"edge\">\n",
       "<title>140627957772560&#45;&gt;140627956486960</title>\n",
       "<path fill=\"none\" stroke=\"black\" d=\"M240.5,-506.8C240.5,-497.7 240.5,-485.79 240.5,-475.9\"/>\n",
       "<polygon fill=\"black\" stroke=\"black\" points=\"244,-475.84 240.5,-465.84 237,-475.84 244,-475.84\"/>\n",
       "</g>\n",
       "<!-- 140627956483312 -->\n",
       "<g id=\"node16\" class=\"node\">\n",
       "<title>140627956483312</title>\n",
       "<polygon fill=\"lightgrey\" stroke=\"black\" points=\"372,-267.5 295,-267.5 295,-248.5 372,-248.5 372,-267.5\"/>\n",
       "<text text-anchor=\"middle\" x=\"333.5\" y=\"-255.5\" font-family=\"monospace\" font-size=\"10.00\">TBackward0</text>\n",
       "</g>\n",
       "<!-- 140627956483312&#45;&gt;140627958091056 -->\n",
       "<g id=\"edge14\" class=\"edge\">\n",
       "<title>140627956483312&#45;&gt;140627958091056</title>\n",
       "<path fill=\"none\" stroke=\"black\" d=\"M323.79,-248.37C312.37,-238.21 293.18,-221.16 279.11,-208.65\"/>\n",
       "<polygon fill=\"black\" stroke=\"black\" points=\"281.32,-205.93 271.52,-201.91 276.67,-211.16 281.32,-205.93\"/>\n",
       "</g>\n",
       "<!-- 140627956487200 -->\n",
       "<g id=\"node17\" class=\"node\">\n",
       "<title>140627956487200</title>\n",
       "<polygon fill=\"lightgrey\" stroke=\"black\" points=\"411,-333.5 310,-333.5 310,-314.5 411,-314.5 411,-333.5\"/>\n",
       "<text text-anchor=\"middle\" x=\"360.5\" y=\"-321.5\" font-family=\"monospace\" font-size=\"10.00\">AccumulateGrad</text>\n",
       "</g>\n",
       "<!-- 140627956487200&#45;&gt;140627956483312 -->\n",
       "<g id=\"edge15\" class=\"edge\">\n",
       "<title>140627956487200&#45;&gt;140627956483312</title>\n",
       "<path fill=\"none\" stroke=\"black\" d=\"M356.86,-314.37C352.86,-304.88 346.31,-289.36 341.16,-277.16\"/>\n",
       "<polygon fill=\"black\" stroke=\"black\" points=\"344.37,-275.76 337.26,-267.91 337.92,-278.48 344.37,-275.76\"/>\n",
       "</g>\n",
       "<!-- 140627957994160 -->\n",
       "<g id=\"node18\" class=\"node\">\n",
       "<title>140627957994160</title>\n",
       "<polygon fill=\"lightblue\" stroke=\"black\" points=\"459,-405 286,-405 286,-375 459,-375 459,-405\"/>\n",
       "<text text-anchor=\"middle\" x=\"372.5\" y=\"-393\" font-family=\"monospace\" font-size=\"10.00\">linear_relu_stack.2.weight</text>\n",
       "<text text-anchor=\"middle\" x=\"372.5\" y=\"-382\" font-family=\"monospace\" font-size=\"10.00\"> (512, 512)</text>\n",
       "</g>\n",
       "<!-- 140627957994160&#45;&gt;140627956487200 -->\n",
       "<g id=\"edge16\" class=\"edge\">\n",
       "<title>140627957994160&#45;&gt;140627956487200</title>\n",
       "<path fill=\"none\" stroke=\"black\" d=\"M369.84,-374.8C368.13,-365.7 365.9,-353.79 364.04,-343.9\"/>\n",
       "<polygon fill=\"black\" stroke=\"black\" points=\"367.44,-343.03 362.16,-333.84 360.56,-344.32 367.44,-343.03\"/>\n",
       "</g>\n",
       "<!-- 140627958101472 -->\n",
       "<g id=\"node19\" class=\"node\">\n",
       "<title>140627958101472</title>\n",
       "<polygon fill=\"lightgrey\" stroke=\"black\" points=\"443,-141 366,-141 366,-122 443,-122 443,-141\"/>\n",
       "<text text-anchor=\"middle\" x=\"404.5\" y=\"-129\" font-family=\"monospace\" font-size=\"10.00\">TBackward0</text>\n",
       "</g>\n",
       "<!-- 140627958101472&#45;&gt;140627958100512 -->\n",
       "<g id=\"edge17\" class=\"edge\">\n",
       "<title>140627958101472&#45;&gt;140627958100512</title>\n",
       "<path fill=\"none\" stroke=\"black\" d=\"M381.52,-121.98C358,-113.27 321.21,-99.63 294.56,-89.75\"/>\n",
       "<polygon fill=\"black\" stroke=\"black\" points=\"295.49,-86.36 284.89,-86.17 293.05,-92.93 295.49,-86.36\"/>\n",
       "</g>\n",
       "<!-- 140627959643392 -->\n",
       "<g id=\"node20\" class=\"node\">\n",
       "<title>140627959643392</title>\n",
       "<polygon fill=\"lightgrey\" stroke=\"black\" points=\"495,-201.5 394,-201.5 394,-182.5 495,-182.5 495,-201.5\"/>\n",
       "<text text-anchor=\"middle\" x=\"444.5\" y=\"-189.5\" font-family=\"monospace\" font-size=\"10.00\">AccumulateGrad</text>\n",
       "</g>\n",
       "<!-- 140627959643392&#45;&gt;140627958101472 -->\n",
       "<g id=\"edge18\" class=\"edge\">\n",
       "<title>140627959643392&#45;&gt;140627958101472</title>\n",
       "<path fill=\"none\" stroke=\"black\" d=\"M438.6,-182.37C432.75,-173.81 423.63,-160.47 416.29,-149.74\"/>\n",
       "<polygon fill=\"black\" stroke=\"black\" points=\"418.96,-147.45 410.43,-141.17 413.18,-151.4 418.96,-147.45\"/>\n",
       "</g>\n",
       "<!-- 140627957761712 -->\n",
       "<g id=\"node21\" class=\"node\">\n",
       "<title>140627957761712</title>\n",
       "<polygon fill=\"lightblue\" stroke=\"black\" points=\"563,-273 390,-273 390,-243 563,-243 563,-273\"/>\n",
       "<text text-anchor=\"middle\" x=\"476.5\" y=\"-261\" font-family=\"monospace\" font-size=\"10.00\">linear_relu_stack.4.weight</text>\n",
       "<text text-anchor=\"middle\" x=\"476.5\" y=\"-250\" font-family=\"monospace\" font-size=\"10.00\"> (10, 512)</text>\n",
       "</g>\n",
       "<!-- 140627957761712&#45;&gt;140627959643392 -->\n",
       "<g id=\"edge19\" class=\"edge\">\n",
       "<title>140627957761712&#45;&gt;140627959643392</title>\n",
       "<path fill=\"none\" stroke=\"black\" d=\"M469.4,-242.8C464.7,-233.41 458.51,-221.02 453.47,-210.95\"/>\n",
       "<polygon fill=\"black\" stroke=\"black\" points=\"456.52,-209.22 448.92,-201.84 450.26,-212.35 456.52,-209.22\"/>\n",
       "</g>\n",
       "</g>\n",
       "</svg>\n"
      ],
      "text/plain": [
       "<graphviz.graphs.Digraph at 0x7fe67f96a590>"
      ]
     },
     "execution_count": 56,
     "metadata": {},
     "output_type": "execute_result"
    }
   ],
   "source": [
    "from torchviz import make_dot\n",
    "\n",
    "model = NeuralNetwork()\n",
    "x = img\n",
    "y = model(x)\n",
    "make_dot(y, params=dict(model.named_parameters()))"
   ]
  },
  {
   "cell_type": "code",
   "execution_count": null,
   "metadata": {},
   "outputs": [],
   "source": []
  },
  {
   "cell_type": "markdown",
   "metadata": {},
   "source": [
    "#### on lance la descente de gradient et on mesure le score (accuracy)"
   ]
  },
  {
   "cell_type": "code",
   "execution_count": 58,
   "metadata": {},
   "outputs": [],
   "source": [
    "learning_rate = 1e-3\n",
    "batch_size = 64\n",
    "epochs = 5\n",
    "\n",
    "loss_fn = nn.CrossEntropyLoss()\n",
    "\n",
    "optimizer = torch.optim.SGD(model.parameters(), lr=learning_rate)\n"
   ]
  },
  {
   "cell_type": "code",
   "execution_count": null,
   "metadata": {},
   "outputs": [],
   "source": []
  },
  {
   "cell_type": "code",
   "execution_count": 59,
   "metadata": {},
   "outputs": [],
   "source": [
    "def train_loop(dataloader, model, loss_fn, optimizer):\n",
    "    size = len(dataloader.dataset)\n",
    "    # Set the model to training mode - important for batch normalization and dropout layers\n",
    "    # Unnecessary in this situation but added for best practices\n",
    "    model.train()\n",
    "    for batch, (X, y) in enumerate(dataloader):\n",
    "        # Compute prediction and loss\n",
    "        pred = model(X)\n",
    "        loss = loss_fn(pred, y)\n",
    "\n",
    "        # Backpropagation\n",
    "        loss.backward()\n",
    "        optimizer.step()\n",
    "        optimizer.zero_grad()\n",
    "\n",
    "        if batch % 100 == 0:\n",
    "            loss, current = loss.item(), batch * batch_size + len(X)\n",
    "            print(f\"loss: {loss:>7f}  [{current:>5d}/{size:>5d}]\")\n",
    "\n",
    "\n",
    "def test_loop(dataloader, model, loss_fn):\n",
    "    # Set the model to evaluation mode - important for batch normalization and dropout layers\n",
    "    # Unnecessary in this situation but added for best practices\n",
    "    model.eval()\n",
    "    size = len(dataloader.dataset)\n",
    "    num_batches = len(dataloader)\n",
    "    test_loss, correct = 0, 0\n",
    "\n",
    "    # Evaluating the model with torch.no_grad() ensures that no gradients are computed during test mode\n",
    "    # also serves to reduce unnecessary gradient computations and memory usage for tensors with requires_grad=True\n",
    "    with torch.no_grad():\n",
    "        for X, y in dataloader:\n",
    "            pred = model(X)\n",
    "            test_loss += loss_fn(pred, y).item()\n",
    "            correct += (pred.argmax(1) == y).type(torch.float).sum().item()\n",
    "\n",
    "    test_loss /= num_batches\n",
    "    correct /= size\n",
    "    print(f\"Test Error: \\n Accuracy: {(100*correct):>0.1f}%, Avg loss: {test_loss:>8f} \\n\")"
   ]
  },
  {
   "cell_type": "code",
   "execution_count": 60,
   "metadata": {},
   "outputs": [
    {
     "name": "stdout",
     "output_type": "stream",
     "text": [
      "Epoch 1\n",
      "-------------------------------\n",
      "loss: 2.303009  [   64/60000]\n",
      "loss: 2.294929  [ 6464/60000]\n",
      "loss: 2.279410  [12864/60000]\n",
      "loss: 2.272595  [19264/60000]\n",
      "loss: 2.260037  [25664/60000]\n",
      "loss: 2.229796  [32064/60000]\n",
      "loss: 2.235579  [38464/60000]\n",
      "loss: 2.205197  [44864/60000]\n",
      "loss: 2.199321  [51264/60000]\n",
      "loss: 2.177166  [57664/60000]\n",
      "Test Error: \n",
      " Accuracy: 46.4%, Avg loss: 2.165873 \n",
      "\n",
      "Epoch 2\n",
      "-------------------------------\n",
      "loss: 2.172222  [   64/60000]\n",
      "loss: 2.165581  [ 6464/60000]\n",
      "loss: 2.108215  [12864/60000]\n",
      "loss: 2.127731  [19264/60000]\n",
      "loss: 2.091396  [25664/60000]\n",
      "loss: 2.021896  [32064/60000]\n",
      "loss: 2.058607  [38464/60000]\n",
      "loss: 1.979526  [44864/60000]\n",
      "loss: 1.975688  [51264/60000]\n",
      "loss: 1.929750  [57664/60000]\n",
      "Test Error: \n",
      " Accuracy: 59.3%, Avg loss: 1.911519 \n",
      "\n",
      "Epoch 3\n",
      "-------------------------------\n",
      "loss: 1.932220  [   64/60000]\n",
      "loss: 1.913309  [ 6464/60000]\n",
      "loss: 1.790912  [12864/60000]\n",
      "loss: 1.845976  [19264/60000]\n",
      "loss: 1.759558  [25664/60000]\n",
      "loss: 1.682272  [32064/60000]\n",
      "loss: 1.726373  [38464/60000]\n",
      "loss: 1.616182  [44864/60000]\n",
      "loss: 1.632578  [51264/60000]\n",
      "loss: 1.554053  [57664/60000]\n",
      "Test Error: \n",
      " Accuracy: 61.8%, Avg loss: 1.552589 \n",
      "\n",
      "Epoch 4\n",
      "-------------------------------\n",
      "loss: 1.602098  [   64/60000]\n",
      "loss: 1.579040  [ 6464/60000]\n",
      "loss: 1.419793  [12864/60000]\n",
      "loss: 1.513490  [19264/60000]\n",
      "loss: 1.409208  [25664/60000]\n",
      "loss: 1.370476  [32064/60000]\n",
      "loss: 1.409938  [38464/60000]\n",
      "loss: 1.322299  [44864/60000]\n",
      "loss: 1.351113  [51264/60000]\n",
      "loss: 1.267863  [57664/60000]\n",
      "Test Error: \n",
      " Accuracy: 63.7%, Avg loss: 1.281852 \n",
      "\n",
      "Epoch 5\n",
      "-------------------------------\n",
      "loss: 1.344345  [   64/60000]\n",
      "loss: 1.335362  [ 6464/60000]\n",
      "loss: 1.162698  [12864/60000]\n",
      "loss: 1.286312  [19264/60000]\n",
      "loss: 1.170243  [25664/60000]\n",
      "loss: 1.166094  [32064/60000]\n",
      "loss: 1.208918  [38464/60000]\n",
      "loss: 1.137870  [44864/60000]\n",
      "loss: 1.169748  [51264/60000]\n",
      "loss: 1.098659  [57664/60000]\n",
      "Test Error: \n",
      " Accuracy: 65.0%, Avg loss: 1.108763 \n",
      "\n",
      "Epoch 6\n",
      "-------------------------------\n",
      "loss: 1.169507  [   64/60000]\n",
      "loss: 1.178058  [ 6464/60000]\n",
      "loss: 0.990218  [12864/60000]\n",
      "loss: 1.138880  [19264/60000]\n",
      "loss: 1.015990  [25664/60000]\n",
      "loss: 1.025680  [32064/60000]\n",
      "loss: 1.081496  [38464/60000]\n",
      "loss: 1.017165  [44864/60000]\n",
      "loss: 1.049591  [51264/60000]\n",
      "loss: 0.991470  [57664/60000]\n",
      "Test Error: \n",
      " Accuracy: 66.2%, Avg loss: 0.994480 \n",
      "\n",
      "Epoch 7\n",
      "-------------------------------\n",
      "loss: 1.046869  [   64/60000]\n",
      "loss: 1.074429  [ 6464/60000]\n",
      "loss: 0.870080  [12864/60000]\n",
      "loss: 1.039069  [19264/60000]\n",
      "loss: 0.915931  [25664/60000]\n",
      "loss: 0.925753  [32064/60000]\n",
      "loss: 0.997124  [38464/60000]\n",
      "loss: 0.937484  [44864/60000]\n",
      "loss: 0.966032  [51264/60000]\n",
      "loss: 0.919717  [57664/60000]\n",
      "Test Error: \n",
      " Accuracy: 67.6%, Avg loss: 0.916308 \n",
      "\n",
      "Epoch 8\n",
      "-------------------------------\n",
      "loss: 0.956081  [   64/60000]\n",
      "loss: 1.002300  [ 6464/60000]\n",
      "loss: 0.784028  [12864/60000]\n",
      "loss: 0.968772  [19264/60000]\n",
      "loss: 0.849164  [25664/60000]\n",
      "loss: 0.852899  [32064/60000]\n",
      "loss: 0.938135  [38464/60000]\n",
      "loss: 0.883941  [44864/60000]\n",
      "loss: 0.906280  [51264/60000]\n",
      "loss: 0.868909  [57664/60000]\n",
      "Test Error: \n",
      " Accuracy: 69.0%, Avg loss: 0.860621 \n",
      "\n",
      "Epoch 9\n",
      "-------------------------------\n",
      "loss: 0.886286  [   64/60000]\n",
      "loss: 0.948570  [ 6464/60000]\n",
      "loss: 0.720417  [12864/60000]\n",
      "loss: 0.917041  [19264/60000]\n",
      "loss: 0.802356  [25664/60000]\n",
      "loss: 0.798722  [32064/60000]\n",
      "loss: 0.893950  [38464/60000]\n",
      "loss: 0.846847  [44864/60000]\n",
      "loss: 0.862222  [51264/60000]\n",
      "loss: 0.830642  [57664/60000]\n",
      "Test Error: \n",
      " Accuracy: 70.0%, Avg loss: 0.819018 \n",
      "\n",
      "Epoch 10\n",
      "-------------------------------\n",
      "loss: 0.830707  [   64/60000]\n",
      "loss: 0.906046  [ 6464/60000]\n",
      "loss: 0.671575  [12864/60000]\n",
      "loss: 0.877567  [19264/60000]\n",
      "loss: 0.767463  [25664/60000]\n",
      "loss: 0.757543  [32064/60000]\n",
      "loss: 0.858439  [38464/60000]\n",
      "loss: 0.819739  [44864/60000]\n",
      "loss: 0.828583  [51264/60000]\n",
      "loss: 0.800091  [57664/60000]\n",
      "Test Error: \n",
      " Accuracy: 71.4%, Avg loss: 0.786307 \n",
      "\n",
      "Done!\n"
     ]
    }
   ],
   "source": [
    "from torch.utils.data import DataLoader\n",
    "\n",
    "train_dataloader = DataLoader(training_data, batch_size=64)\n",
    "test_dataloader = DataLoader(test_data, batch_size=64)\n",
    "\n",
    "loss_fn = nn.CrossEntropyLoss()\n",
    "optimizer = torch.optim.SGD(model.parameters(), lr=learning_rate)\n",
    "\n",
    "epochs = 10\n",
    "for t in range(epochs):\n",
    "    print(f\"Epoch {t+1}\\n-------------------------------\")\n",
    "    train_loop(train_dataloader, model, loss_fn, optimizer)\n",
    "    test_loop(test_dataloader, model, loss_fn)\n",
    "print(\"Done!\")"
   ]
  },
  {
   "cell_type": "code",
   "execution_count": null,
   "metadata": {},
   "outputs": [],
   "source": []
  },
  {
   "cell_type": "code",
   "execution_count": null,
   "metadata": {},
   "outputs": [],
   "source": []
  }
 ],
 "metadata": {
  "kernelspec": {
   "display_name": "py3.11",
   "language": "python",
   "name": "python3"
  },
  "language_info": {
   "codemirror_mode": {
    "name": "ipython",
    "version": 3
   },
   "file_extension": ".py",
   "mimetype": "text/x-python",
   "name": "python",
   "nbconvert_exporter": "python",
   "pygments_lexer": "ipython3",
   "version": "3.11.2"
  }
 },
 "nbformat": 4,
 "nbformat_minor": 2
}
